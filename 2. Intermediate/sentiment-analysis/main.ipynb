{
 "cells": [
  {
   "cell_type": "markdown",
   "metadata": {},
   "source": [
    "# Sentiment Analysis on Movie Reviews\n",
    "Using multiple architectures to perform sentiment analysis on the IMDB dataset. The dataset consists of 50,000 reviews from IMDB, labeled by sentiment (positive/negative). The dataset is divided into 25,000 reviews for training and 25,000 reviews for testing. The goal is to build a model that can predict the sentiment of a review with high accuracy.\n",
    "\n",
    "The following architectures will be used:\n",
    "1. RNN\n",
    "2. LSTM\n",
    "3. GRU\n",
    "4. Bidirectional RNN\n",
    "5. Bidirectional LSTM\n",
    "6. Bidirectional GRU\n",
    "7. Convolutional Neural Network (CNN)\n",
    "\n",
    "The models will be trained on the training set and evaluated on the testing set. The model with the highest accuracy on the testing set will be selected as the best model for sentiment analysis on movie reviews."
   ]
  },
  {
   "cell_type": "code",
   "execution_count": 1,
   "metadata": {},
   "outputs": [],
   "source": [
    "import torch\n",
    "import string\n",
    "import pandas as pd\n",
    "from collections import Counter\n",
    "\n",
    "from model import SentimentAnalyzer\n",
    "from utils import EarlyStopping, Utils\n",
    "\n",
    "from datasets import load_dataset\n",
    "from nltk.corpus import stopwords\n",
    "from nltk.tokenize import word_tokenize\n",
    "\n",
    "# Download and load the IMDb dataset\n",
    "dataset = load_dataset('imdb')"
   ]
  },
  {
   "cell_type": "code",
   "execution_count": 2,
   "metadata": {},
   "outputs": [
    {
     "name": "stdout",
     "output_type": "stream",
     "text": [
      "(25000, 2) (25000, 2)\n"
     ]
    },
    {
     "data": {
      "text/html": [
       "<div>\n",
       "<style scoped>\n",
       "    .dataframe tbody tr th:only-of-type {\n",
       "        vertical-align: middle;\n",
       "    }\n",
       "\n",
       "    .dataframe tbody tr th {\n",
       "        vertical-align: top;\n",
       "    }\n",
       "\n",
       "    .dataframe thead th {\n",
       "        text-align: right;\n",
       "    }\n",
       "</style>\n",
       "<table border=\"1\" class=\"dataframe\">\n",
       "  <thead>\n",
       "    <tr style=\"text-align: right;\">\n",
       "      <th></th>\n",
       "      <th>text</th>\n",
       "      <th>label</th>\n",
       "    </tr>\n",
       "  </thead>\n",
       "  <tbody>\n",
       "    <tr>\n",
       "      <th>0</th>\n",
       "      <td>I rented I AM CURIOUS-YELLOW from my video sto...</td>\n",
       "      <td>0</td>\n",
       "    </tr>\n",
       "    <tr>\n",
       "      <th>1</th>\n",
       "      <td>\"I Am Curious: Yellow\" is a risible and preten...</td>\n",
       "      <td>0</td>\n",
       "    </tr>\n",
       "    <tr>\n",
       "      <th>2</th>\n",
       "      <td>If only to avoid making this type of film in t...</td>\n",
       "      <td>0</td>\n",
       "    </tr>\n",
       "  </tbody>\n",
       "</table>\n",
       "</div>"
      ],
      "text/plain": [
       "                                                text  label\n",
       "0  I rented I AM CURIOUS-YELLOW from my video sto...      0\n",
       "1  \"I Am Curious: Yellow\" is a risible and preten...      0\n",
       "2  If only to avoid making this type of film in t...      0"
      ]
     },
     "execution_count": 2,
     "metadata": {},
     "output_type": "execute_result"
    }
   ],
   "source": [
    "# convert DatasetDict to a pandas dataframe\n",
    "df_train = pd.DataFrame(dataset['train'])\n",
    "df_test = pd.DataFrame(dataset['test'])\n",
    "\n",
    "print(df_train.shape, df_test.shape)\n",
    "df_train.head(3)"
   ]
  },
  {
   "cell_type": "code",
   "execution_count": 3,
   "metadata": {},
   "outputs": [
    {
     "data": {
      "text/plain": [
       "<Axes: title={'center': 'Label Distribution'}, xlabel='label'>"
      ]
     },
     "execution_count": 3,
     "metadata": {},
     "output_type": "execute_result"
    },
    {
     "data": {
      "image/png": "[encoded data removed]",
      "text/plain": [
       "<Figure size 500x400 with 1 Axes>"
      ]
     },
     "metadata": {},
     "output_type": "display_data"
    }
   ],
   "source": [
    "# Check label distribution\n",
    "df_train['label'].value_counts().plot(kind='bar', title='Label Distribution', figsize=(5, 4))"
   ]
  },
  {
   "cell_type": "markdown",
   "metadata": {},
   "source": [
    "# Preprocessing and Tokenization"
   ]
  },
  {
   "cell_type": "code",
   "execution_count": 4,
   "metadata": {},
   "outputs": [
    {
     "name": "stdout",
     "output_type": "stream",
     "text": [
      "Max length: 1450, Min length: 4, Avg length: 123.0\n"
     ]
    },
    {
     "data": {
      "text/html": [
       "<div>\n",
       "<style scoped>\n",
       "    .dataframe tbody tr th:only-of-type {\n",
       "        vertical-align: middle;\n",
       "    }\n",
       "\n",
       "    .dataframe tbody tr th {\n",
       "        vertical-align: top;\n",
       "    }\n",
       "\n",
       "    .dataframe thead th {\n",
       "        text-align: right;\n",
       "    }\n",
       "</style>\n",
       "<table border=\"1\" class=\"dataframe\">\n",
       "  <thead>\n",
       "    <tr style=\"text-align: right;\">\n",
       "      <th></th>\n",
       "      <th>text</th>\n",
       "      <th>label</th>\n",
       "    </tr>\n",
       "  </thead>\n",
       "  <tbody>\n",
       "    <tr>\n",
       "      <th>0</th>\n",
       "      <td>[far, racist, ghettoish, cartoon, children, 7+...</td>\n",
       "      <td>0</td>\n",
       "    </tr>\n",
       "    <tr>\n",
       "      <th>1</th>\n",
       "      <td>[one, worst, movies, 've, ever, seen, 'm, stil...</td>\n",
       "      <td>0</td>\n",
       "    </tr>\n",
       "    <tr>\n",
       "      <th>2</th>\n",
       "      <td>[thin, story, many, fine, shots, eyecatchers, ...</td>\n",
       "      <td>1</td>\n",
       "    </tr>\n",
       "  </tbody>\n",
       "</table>\n",
       "</div>"
      ],
      "text/plain": [
       "                                                text  label\n",
       "0  [far, racist, ghettoish, cartoon, children, 7+...      0\n",
       "1  [one, worst, movies, 've, ever, seen, 'm, stil...      0\n",
       "2  [thin, story, many, fine, shots, eyecatchers, ...      1"
      ]
     },
     "metadata": {},
     "output_type": "display_data"
    },
    {
     "data": {
      "text/plain": [
       "((35000, 2), (25000, 2))"
      ]
     },
     "execution_count": 4,
     "metadata": {},
     "output_type": "execute_result"
    }
   ],
   "source": [
    "# Tokenize the reviews (NLTK tokenizer)\n",
    "df_train['text'] = df_train['text'].apply(word_tokenize)\n",
    "df_test['text'] = df_test['text'].apply(word_tokenize)\n",
    "\n",
    "# Lowercase the reviews\n",
    "df_train['text'] = df_train['text'].apply(lambda x: [s.lower() for s in x])\n",
    "df_test['text'] = df_test['text'].apply(lambda x: [s.lower() for s in x])\n",
    "\n",
    "# Remove html tags\n",
    "tags = ['<', '>', 'br', '/', '``', \"''\", '...']\n",
    "df_train['text'] = df_train['text'].apply(lambda x: [s for s in x if not s.startswith('<') and not s.endswith('>') and s not in tags])\n",
    "df_test['text'] = df_test['text'].apply(lambda x: [s for s in x if not s.startswith('<') and not s.endswith('>') and s not in tags])\n",
    "\n",
    "# Remove punctuation like '!', '?', etc.\n",
    "df_train['text'] = df_train['text'].apply(lambda x: [s for s in x if s not in string.punctuation])\n",
    "df_test['text'] = df_test['text'].apply(lambda x: [s for s in x if s not in string.punctuation])\n",
    "\n",
    "# Remove stopwords like 'and', 'the', 'a', etc.\n",
    "stop_words = set(stopwords.words('english'))\n",
    "df_train['text'] = df_train['text'].apply(lambda x: [s for s in x if s not in stop_words])\n",
    "df_test['text'] = df_test['text'].apply(lambda x: [s for s in x if s not in stop_words])\n",
    "\n",
    "# Remove numbers\n",
    "df_train['text'] = df_train['text'].apply(lambda x: [s for s in x if not s.isdigit()])\n",
    "df_test['text'] = df_test['text'].apply(lambda x: [s for s in x if not s.isdigit()])\n",
    "\n",
    "# Remove empty strings\n",
    "df_train['text'] = df_train['text'].apply(lambda x: [s for s in x if s])\n",
    "df_test['text'] = df_test['text'].apply(lambda x: [s for s in x if s])\n",
    "\n",
    "# Add 10K rows to the training set from the test set\n",
    "df_train = pd.concat([df_train, df_test.sample(10000, random_state=0)]).reset_index(drop=True)\n",
    "\n",
    "# Shuffle the dataset\n",
    "df_train = df_train.sample(frac=1, random_state=0).reset_index(drop=True)\n",
    "df_test = df_test.sample(frac=1, random_state=0).reset_index(drop=True)\n",
    "\n",
    "# Get the max/min length of the reviews\n",
    "max_len = df_train['text'].apply(len).max()\n",
    "min_len = df_train['text'].apply(len).min()\n",
    "avg_len = df_train['text'].apply(len).mean().round()\n",
    "\n",
    "print(f'Max length: {max_len}, Min length: {min_len}, Avg length: {avg_len}')\n",
    "\n",
    "# Quick look at the preprocessed data\n",
    "display(df_train.head(3))\n",
    "\n",
    "df_train.shape, df_test.shape"
   ]
  },
  {
   "cell_type": "markdown",
   "metadata": {},
   "source": [
    "# Vocabulary Creation\n",
    "vocab creation is the first step in the text processing pipeline. It is the process of extracting unique words from the text and assigning an index to each word. The vocabulary is used to convert the text into a numerical representation that can be used as input to machine learning models."
   ]
  },
  {
   "cell_type": "code",
   "execution_count": 5,
   "metadata": {},
   "outputs": [],
   "source": [
    "# Copy for future use\n",
    "df_train_preprocessed, df_test_preprocessed = df_train.copy(), df_test.copy()"
   ]
  },
  {
   "cell_type": "code",
   "execution_count": 6,
   "metadata": {},
   "outputs": [
    {
     "name": "stdout",
     "output_type": "stream",
     "text": [
      "Vocab Size: 162974\n"
     ]
    }
   ],
   "source": [
    "# Create a vocabulary\n",
    "vocab = set()\n",
    "for review in df_train['text']:\n",
    "    vocab.update(review)\n",
    "for review in df_test['text']:\n",
    "    vocab.update(review)\n",
    "\n",
    "print('Vocab Size:', len(list(vocab)))"
   ]
  },
  {
   "cell_type": "markdown",
   "metadata": {},
   "source": [
    "Since the vocabulary is huge, we will only keep the most 20K frequent words, after that we will replace the rest with `<UNK>`"
   ]
  },
  {
   "cell_type": "code",
   "execution_count": 7,
   "metadata": {},
   "outputs": [
    {
     "name": "stdout",
     "output_type": "stream",
     "text": [
      "20002\n"
     ]
    }
   ],
   "source": [
    "word_freq = Counter()\n",
    "\n",
    "for review in df_train['text']:\n",
    "    word_freq.update(review)\n",
    "for review in df_test['text']:\n",
    "    word_freq.update(review)\n",
    "\n",
    "# Create a vocabulary\n",
    "vocab = ['<PAD>', '<UNK>'] + [word for word, _ in word_freq.most_common(20_000)] # <PAD> is for padding to tell the embedding layer to ignore it, <UNK> is for unknown words\n",
    "\n",
    "print(len(vocab))"
   ]
  },
  {
   "cell_type": "markdown",
   "metadata": {},
   "source": [
    "Convert the text into sequences of integers using the vocabulary. Each token in the text is replaced by its corresponding index in the vocabulary."
   ]
  },
  {
   "cell_type": "code",
   "execution_count": 8,
   "metadata": {},
   "outputs": [
    {
     "data": {
      "text/html": [
       "<div>\n",
       "<style scoped>\n",
       "    .dataframe tbody tr th:only-of-type {\n",
       "        vertical-align: middle;\n",
       "    }\n",
       "\n",
       "    .dataframe tbody tr th {\n",
       "        vertical-align: top;\n",
       "    }\n",
       "\n",
       "    .dataframe thead th {\n",
       "        text-align: right;\n",
       "    }\n",
       "</style>\n",
       "<table border=\"1\" class=\"dataframe\">\n",
       "  <thead>\n",
       "    <tr style=\"text-align: right;\">\n",
       "      <th></th>\n",
       "      <th>text</th>\n",
       "      <th>label</th>\n",
       "    </tr>\n",
       "  </thead>\n",
       "  <tbody>\n",
       "    <tr>\n",
       "      <th>0</th>\n",
       "      <td>[126, 2651, 1, 923, 295, 1, 228, 30, 923, 1089...</td>\n",
       "      <td>0</td>\n",
       "    </tr>\n",
       "    <tr>\n",
       "      <th>1</th>\n",
       "      <td>[6, 141, 27, 54, 45, 34, 57, 48, 142, 453, 193...</td>\n",
       "      <td>0</td>\n",
       "    </tr>\n",
       "    <tr>\n",
       "      <th>2</th>\n",
       "      <td>[1611, 14, 33, 366, 514, 1, 175, 1925, 1, 587,...</td>\n",
       "      <td>1</td>\n",
       "    </tr>\n",
       "  </tbody>\n",
       "</table>\n",
       "</div>"
      ],
      "text/plain": [
       "                                                text  label\n",
       "0  [126, 2651, 1, 923, 295, 1, 228, 30, 923, 1089...      0\n",
       "1  [6, 141, 27, 54, 45, 34, 57, 48, 142, 453, 193...      0\n",
       "2  [1611, 14, 33, 366, 514, 1, 175, 1925, 1, 587,...      1"
      ]
     },
     "metadata": {},
     "output_type": "display_data"
    },
    {
     "data": {
      "text/html": [
       "<div>\n",
       "<style scoped>\n",
       "    .dataframe tbody tr th:only-of-type {\n",
       "        vertical-align: middle;\n",
       "    }\n",
       "\n",
       "    .dataframe tbody tr th {\n",
       "        vertical-align: top;\n",
       "    }\n",
       "\n",
       "    .dataframe thead th {\n",
       "        text-align: right;\n",
       "    }\n",
       "</style>\n",
       "<table border=\"1\" class=\"dataframe\">\n",
       "  <thead>\n",
       "    <tr style=\"text-align: right;\">\n",
       "      <th></th>\n",
       "      <th>text</th>\n",
       "      <th>label</th>\n",
       "    </tr>\n",
       "  </thead>\n",
       "  <tbody>\n",
       "    <tr>\n",
       "      <th>0</th>\n",
       "      <td>[far, racist, ghettoish, cartoon, children, 7+...</td>\n",
       "      <td>0</td>\n",
       "    </tr>\n",
       "    <tr>\n",
       "      <th>1</th>\n",
       "      <td>[one, worst, movies, 've, ever, seen, 'm, stil...</td>\n",
       "      <td>0</td>\n",
       "    </tr>\n",
       "    <tr>\n",
       "      <th>2</th>\n",
       "      <td>[thin, story, many, fine, shots, eyecatchers, ...</td>\n",
       "      <td>1</td>\n",
       "    </tr>\n",
       "  </tbody>\n",
       "</table>\n",
       "</div>"
      ],
      "text/plain": [
       "                                                text  label\n",
       "0  [far, racist, ghettoish, cartoon, children, 7+...      0\n",
       "1  [one, worst, movies, 've, ever, seen, 'm, stil...      0\n",
       "2  [thin, story, many, fine, shots, eyecatchers, ...      1"
      ]
     },
     "metadata": {},
     "output_type": "display_data"
    }
   ],
   "source": [
    "max_len = 300 # Maximum length of tokens in a review (context window)\n",
    "\n",
    "# Create a word to index mapping\n",
    "word_to_idx = {word: idx for idx, word in enumerate(vocab)}\n",
    "\n",
    "# Convert the reviews to indices\n",
    "df_train['text'] = df_train['text'].apply(lambda x: [word_to_idx.get(word, 1) for word in x]) # 1 is the index of '<UNK>' token\n",
    "df_test['text'] = df_test['text'].apply(lambda x: [word_to_idx.get(word, 1) for word in x])\n",
    "\n",
    "# Truncate and pad the reviews\n",
    "df_train['text'] = df_train['text'].apply(lambda x: x[:max_len] if len(x) > max_len else x + [0] * (max_len - len(x))) # Pad with zeros as the index of '<PAD>' is 0\n",
    "df_test['text'] = df_test['text'].apply(lambda x: x[:max_len] if len(x) > max_len else x + [0] * (max_len - len(x)))\n",
    "\n",
    "# print the first 3 reviews\n",
    "display(df_train.head(3), df_train_preprocessed.head(3))\n",
    "\n",
    "# Split test set into validation and test sets\n",
    "df_val = df_test.sample(frac=0.5)\n",
    "df_test = df_test.drop(df_val.index)\n",
    "\n",
    "# Convert data to lists\n",
    "X_train, y_train = df_train['text'].tolist(), df_train['label'].tolist()\n",
    "X_val, y_val = df_val['text'].tolist(), df_val['label'].tolist()\n",
    "X_test, y_test = df_test['text'].tolist(), df_test['label'].tolist()"
   ]
  },
  {
   "cell_type": "markdown",
   "metadata": {},
   "source": [
    "# RNN Model (Unidirectional)"
   ]
  },
  {
   "cell_type": "code",
   "execution_count": 9,
   "metadata": {},
   "outputs": [
    {
     "name": "stdout",
     "output_type": "stream",
     "text": [
      "SentimentAnalyzer(\n",
      "  (embedding): Embedding(20002, 128, padding_idx=0)\n",
      "  (rnn): RNN(128, 256, num_layers=2, batch_first=True, dropout=0.3)\n",
      "  (fc): Linear(in_features=256, out_features=1, bias=True)\n",
      "  (sigmoid): Sigmoid()\n",
      "  (criterion): BCELoss()\n",
      ") \n",
      "Running on:  cuda\n",
      "Number of parameters: 2,790,913\n"
     ]
    }
   ],
   "source": [
    "# Same Parameters for all models\n",
    "embedding_dim = 128\n",
    "hidden_dim = 256\n",
    "dropout = 0.3\n",
    "n_layers = 2\n",
    "lr = 1e-3\n",
    "\n",
    "model_rnn = SentimentAnalyzer(model_type='rnn',\n",
    "                            vocab_size=len(vocab),\n",
    "                            embedding_dim=embedding_dim,\n",
    "                            hidden_dim=hidden_dim,\n",
    "                            bidirectional=False,\n",
    "                            dropout=dropout,\n",
    "                            pad_idx=0,\n",
    "                            n_layers=n_layers,\n",
    "                            lr=lr,\n",
    "                            verbose=True,\n",
    "                            gpu=True)\n",
    "\n",
    "early_stopping = EarlyStopping(patience=5, delta=0.01, path='weights/rnn.pth') # early stops after 3 consecutive epochs with minor loss decrease/increase\n",
    "scheduler = torch.optim.lr_scheduler.ReduceLROnPlateau(model_rnn.optimizer, mode='min', factor=0.1, patience=2) # reduces learning rate by factor of 0.1 when no improvement is seen"
   ]
  },
  {
   "cell_type": "code",
   "execution_count": 10,
   "metadata": {},
   "outputs": [
    {
     "name": "stderr",
     "output_type": "stream",
     "text": [
      "                                                                            \r"
     ]
    },
    {
     "name": "stdout",
     "output_type": "stream",
     "text": [
      "Epoch 1/10 - Train Loss: 0.7336 - Val Loss: 0.7141 - Acc: 0.4954 - F1: 0.6307 - Precision: 0.4941 - Recall: 0.8718 - lr: 0.001\n"
     ]
    },
    {
     "name": "stderr",
     "output_type": "stream",
     "text": [
      "                                                                            \r"
     ]
    },
    {
     "name": "stdout",
     "output_type": "stream",
     "text": [
      "Epoch 2/10 - Train Loss: 0.7058 - Val Loss: 0.6938 - Acc: 0.5052 - F1: 0.0698 - Precision: 0.4936 - Recall: 0.0375 - lr: 0.001\n"
     ]
    },
    {
     "name": "stderr",
     "output_type": "stream",
     "text": [
      "                                                                            \r"
     ]
    },
    {
     "name": "stdout",
     "output_type": "stream",
     "text": [
      "Epoch 3/10 - Train Loss: 0.6961 - Val Loss: 0.6939 - Acc: 0.4982 - F1: 0.1890 - Precision: 0.4701 - Recall: 0.1183 - lr: 0.001\n"
     ]
    },
    {
     "name": "stderr",
     "output_type": "stream",
     "text": [
      "                                                                            \r"
     ]
    },
    {
     "name": "stdout",
     "output_type": "stream",
     "text": [
      "Epoch 4/10 - Train Loss: 0.6959 - Val Loss: 0.6937 - Acc: 0.4982 - F1: 0.1869 - Precision: 0.4694 - Recall: 0.1167 - lr: 0.001\n"
     ]
    },
    {
     "name": "stderr",
     "output_type": "stream",
     "text": [
      "                                                                            \r"
     ]
    },
    {
     "name": "stdout",
     "output_type": "stream",
     "text": [
      "Epoch 5/10 - Train Loss: 0.6960 - Val Loss: 0.6941 - Acc: 0.4981 - F1: 0.1837 - Precision: 0.4685 - Recall: 0.1143 - lr: 0.0001\n"
     ]
    },
    {
     "name": "stderr",
     "output_type": "stream",
     "text": [
      "                                                                            \r"
     ]
    },
    {
     "name": "stdout",
     "output_type": "stream",
     "text": [
      "Epoch 6/10 - Train Loss: 0.6935 - Val Loss: 0.6932 - Acc: 0.5057 - F1: 0.0000 - Precision: 0.0000 - Recall: 0.0000 - lr: 0.0001\n"
     ]
    },
    {
     "name": "stderr",
     "output_type": "stream",
     "text": [
      "                                                                            \r"
     ]
    },
    {
     "name": "stdout",
     "output_type": "stream",
     "text": [
      "Epoch 7/10 - Train Loss: 0.6934 - Val Loss: 0.6932 - Acc: 0.5051 - F1: 0.0675 - Precision: 0.4923 - Recall: 0.0363 - lr: 0.0001\n",
      "Early stopping...\n"
     ]
    }
   ],
   "source": [
    "history_rnn = model_rnn.fit(X_train,\n",
    "                        y_train,\n",
    "                        epochs=10,\n",
    "                        batch_size=128,\n",
    "                        val_data=(X_val, y_val),\n",
    "                        early_stopping=early_stopping,\n",
    "                        scheduler=scheduler\n",
    "                        )"
   ]
  },
  {
   "cell_type": "code",
   "execution_count": 11,
   "metadata": {},
   "outputs": [
    {
     "name": "stdout",
     "output_type": "stream",
     "text": [
      "Loss: 0.6933, Accuracy: 0.4957, F1: 0.0658, Precision: 0.5199, Recall: 0.0351\n"
     ]
    }
   ],
   "source": [
    "# evaluate the model\n",
    "loss, acc, f1, precision, recall = model_rnn.evaluate((X_test, y_test), batch_size=256)\n",
    "print(f'Loss: {loss:.4f}, Accuracy: {acc:.4f}, F1: {f1:.4f}, Precision: {precision:.4f}, Recall: {recall:.4f}')"
   ]
  },
  {
   "cell_type": "markdown",
   "metadata": {},
   "source": [
    "# RNN Model (Bidirectional)"
   ]
  },
  {
   "cell_type": "code",
   "execution_count": 12,
   "metadata": {},
   "outputs": [
    {
     "name": "stdout",
     "output_type": "stream",
     "text": [
      "SentimentAnalyzer(\n",
      "  (embedding): Embedding(20002, 128, padding_idx=0)\n",
      "  (rnn): RNN(128, 256, num_layers=2, batch_first=True, dropout=0.3, bidirectional=True)\n",
      "  (fc): Linear(in_features=512, out_features=1, bias=True)\n",
      "  (sigmoid): Sigmoid()\n",
      "  (criterion): BCELoss()\n",
      ") \n",
      "Running on:  cuda\n",
      "Number of parameters: 3,152,641\n"
     ]
    }
   ],
   "source": [
    "model_rnn_bi = SentimentAnalyzer(model_type='rnn',\n",
    "                            vocab_size=len(vocab),\n",
    "                            embedding_dim=embedding_dim,\n",
    "                            hidden_dim=hidden_dim,\n",
    "                            bidirectional=True, # Bidirectional RNN\n",
    "                            dropout=dropout,\n",
    "                            pad_idx=0,\n",
    "                            n_layers=n_layers,\n",
    "                            lr=lr,\n",
    "                            verbose=True,\n",
    "                            gpu=True)\n",
    "\n",
    "early_stopping = EarlyStopping(patience=5, delta=0.01, path='weights/rnn_bi.pth') # early stops after 3 consecutive epochs with minor loss decrease/increase\n",
    "scheduler = torch.optim.lr_scheduler.ReduceLROnPlateau(model_rnn_bi.optimizer, mode='min', factor=0.1, patience=5) # reduces learning rate by factor of 0.1 when no improvement is seen"
   ]
  },
  {
   "cell_type": "code",
   "execution_count": 13,
   "metadata": {},
   "outputs": [
    {
     "name": "stderr",
     "output_type": "stream",
     "text": [
      "Epoch 1/10:   0%|          | 0/137 [00:00<?, ?batch/s]"
     ]
    },
    {
     "name": "stderr",
     "output_type": "stream",
     "text": [
      "                                                                            \r"
     ]
    },
    {
     "name": "stdout",
     "output_type": "stream",
     "text": [
      "Epoch 1/10 - Train Loss: 0.7364 - Val Loss: 0.6347 - Acc: 0.6389 - F1: 0.6248 - Precision: 0.6422 - Recall: 0.6084 - lr: 0.001\n"
     ]
    },
    {
     "name": "stderr",
     "output_type": "stream",
     "text": [
      "                                                                            \r"
     ]
    },
    {
     "name": "stdout",
     "output_type": "stream",
     "text": [
      "Epoch 2/10 - Train Loss: 0.5868 - Val Loss: 0.5168 - Acc: 0.7542 - F1: 0.7477 - Precision: 0.7587 - Recall: 0.7370 - lr: 0.001\n"
     ]
    },
    {
     "name": "stderr",
     "output_type": "stream",
     "text": [
      "                                                                            \r"
     ]
    },
    {
     "name": "stdout",
     "output_type": "stream",
     "text": [
      "Epoch 3/10 - Train Loss: 0.5067 - Val Loss: 0.5030 - Acc: 0.7566 - F1: 0.7522 - Precision: 0.7573 - Recall: 0.7470 - lr: 0.001\n"
     ]
    },
    {
     "name": "stderr",
     "output_type": "stream",
     "text": [
      "                                                                            \r"
     ]
    },
    {
     "name": "stdout",
     "output_type": "stream",
     "text": [
      "Epoch 4/10 - Train Loss: 0.4068 - Val Loss: 0.4332 - Acc: 0.8136 - F1: 0.8149 - Precision: 0.8003 - Recall: 0.8301 - lr: 0.001\n"
     ]
    },
    {
     "name": "stderr",
     "output_type": "stream",
     "text": [
      "                                                                            \r"
     ]
    },
    {
     "name": "stdout",
     "output_type": "stream",
     "text": [
      "Epoch 5/10 - Train Loss: 0.3531 - Val Loss: 0.3918 - Acc: 0.8453 - F1: 0.8497 - Precision: 0.8174 - Recall: 0.8846 - lr: 0.001\n"
     ]
    },
    {
     "name": "stderr",
     "output_type": "stream",
     "text": [
      "                                                                            \r"
     ]
    },
    {
     "name": "stdout",
     "output_type": "stream",
     "text": [
      "Epoch 6/10 - Train Loss: 0.2520 - Val Loss: 0.3783 - Acc: 0.8538 - F1: 0.8501 - Precision: 0.8619 - Recall: 0.8386 - lr: 0.001\n"
     ]
    },
    {
     "name": "stderr",
     "output_type": "stream",
     "text": [
      "                                                                            \r"
     ]
    },
    {
     "name": "stdout",
     "output_type": "stream",
     "text": [
      "Epoch 7/10 - Train Loss: 0.2022 - Val Loss: 0.3685 - Acc: 0.8662 - F1: 0.8696 - Precision: 0.8388 - Recall: 0.9027 - lr: 0.001\n"
     ]
    },
    {
     "name": "stderr",
     "output_type": "stream",
     "text": [
      "                                                                            \r"
     ]
    },
    {
     "name": "stdout",
     "output_type": "stream",
     "text": [
      "Epoch 8/10 - Train Loss: 0.2390 - Val Loss: 0.4785 - Acc: 0.7853 - F1: 0.7915 - Precision: 0.7610 - Recall: 0.8246 - lr: 0.001\n"
     ]
    },
    {
     "name": "stderr",
     "output_type": "stream",
     "text": [
      "                                                                            \r"
     ]
    },
    {
     "name": "stdout",
     "output_type": "stream",
     "text": [
      "Epoch 9/10 - Train Loss: 0.3220 - Val Loss: 0.5559 - Acc: 0.7198 - F1: 0.7189 - Precision: 0.7131 - Recall: 0.7249 - lr: 0.001\n"
     ]
    },
    {
     "name": "stderr",
     "output_type": "stream",
     "text": [
      "                                                                             \r"
     ]
    },
    {
     "name": "stdout",
     "output_type": "stream",
     "text": [
      "Epoch 10/10 - Train Loss: 0.2726 - Val Loss: 0.4281 - Acc: 0.8429 - F1: 0.8410 - Precision: 0.8412 - Recall: 0.8409 - lr: 0.001\n"
     ]
    }
   ],
   "source": [
    "# Train the model\n",
    "history_rnn_bi = model_rnn_bi.fit(X_train,\n",
    "                        y_train,\n",
    "                        epochs=10,\n",
    "                        batch_size=256,\n",
    "                        val_data=(X_val, y_val),\n",
    "                        early_stopping=early_stopping,\n",
    "                        scheduler=scheduler\n",
    "                        )"
   ]
  },
  {
   "cell_type": "markdown",
   "metadata": {},
   "source": [
    "# LSTM Model (Unidirectional)"
   ]
  },
  {
   "cell_type": "code",
   "execution_count": 14,
   "metadata": {},
   "outputs": [
    {
     "name": "stdout",
     "output_type": "stream",
     "text": [
      "SentimentAnalyzer(\n",
      "  (embedding): Embedding(20002, 128, padding_idx=0)\n",
      "  (rnn): LSTM(128, 256, num_layers=2, batch_first=True, dropout=0.3)\n",
      "  (fc): Linear(in_features=256, out_features=1, bias=True)\n",
      "  (sigmoid): Sigmoid()\n",
      "  (criterion): BCELoss()\n",
      ") \n",
      "Running on:  cuda\n",
      "Number of parameters: 3,482,113\n"
     ]
    }
   ],
   "source": [
    "model_lstm = SentimentAnalyzer(model_type='lstm',\n",
    "                            vocab_size=len(vocab),\n",
    "                            embedding_dim=embedding_dim,\n",
    "                            hidden_dim=hidden_dim,\n",
    "                            bidirectional=False,\n",
    "                            dropout=dropout,\n",
    "                            pad_idx=0,\n",
    "                            n_layers=n_layers,\n",
    "                            lr=lr,\n",
    "                            verbose=True,\n",
    "                            gpu=True)\n",
    "\n",
    "early_stopping = EarlyStopping(patience=5, delta=0.01, path='weights/lstm.pth') # early stops after 3 consecutive epochs with minor loss decrease/increase\n",
    "scheduler = torch.optim.lr_scheduler.ReduceLROnPlateau(model_lstm.optimizer, mode='min', factor=0.1, patience=2) # reduces learning rate by factor of 0.1 when no improvement is seen"
   ]
  },
  {
   "cell_type": "code",
   "execution_count": 15,
   "metadata": {},
   "outputs": [
    {
     "name": "stderr",
     "output_type": "stream",
     "text": [
      "                                                                            \r"
     ]
    },
    {
     "name": "stdout",
     "output_type": "stream",
     "text": [
      "Epoch 1/10 - Train Loss: 0.6991 - Val Loss: 0.6947 - Acc: 0.4943 - F1: 0.6616 - Precision: 0.4943 - Recall: 1.0000 - lr: 0.001\n"
     ]
    },
    {
     "name": "stderr",
     "output_type": "stream",
     "text": [
      "                                                                            \r"
     ]
    },
    {
     "name": "stdout",
     "output_type": "stream",
     "text": [
      "Epoch 2/10 - Train Loss: 0.6957 - Val Loss: 0.6931 - Acc: 0.5057 - F1: 0.0000 - Precision: 0.0000 - Recall: 0.0000 - lr: 0.001\n"
     ]
    },
    {
     "name": "stderr",
     "output_type": "stream",
     "text": [
      "                                                                            \r"
     ]
    },
    {
     "name": "stdout",
     "output_type": "stream",
     "text": [
      "Epoch 3/10 - Train Loss: 0.6957 - Val Loss: 0.6931 - Acc: 0.5057 - F1: 0.0000 - Precision: 0.0000 - Recall: 0.0000 - lr: 0.001\n"
     ]
    },
    {
     "name": "stderr",
     "output_type": "stream",
     "text": [
      "                                                                            \r"
     ]
    },
    {
     "name": "stdout",
     "output_type": "stream",
     "text": [
      "Epoch 4/10 - Train Loss: 0.6952 - Val Loss: 0.6932 - Acc: 0.4943 - F1: 0.6616 - Precision: 0.4943 - Recall: 1.0000 - lr: 0.001\n"
     ]
    },
    {
     "name": "stderr",
     "output_type": "stream",
     "text": [
      "                                                                            \r"
     ]
    },
    {
     "name": "stdout",
     "output_type": "stream",
     "text": [
      "Epoch 5/10 - Train Loss: 0.6949 - Val Loss: 0.6932 - Acc: 0.4943 - F1: 0.6616 - Precision: 0.4943 - Recall: 1.0000 - lr: 0.0001\n"
     ]
    },
    {
     "name": "stderr",
     "output_type": "stream",
     "text": [
      "                                                                            \r"
     ]
    },
    {
     "name": "stdout",
     "output_type": "stream",
     "text": [
      "Epoch 6/10 - Train Loss: 0.6935 - Val Loss: 0.6931 - Acc: 0.5065 - F1: 0.0090 - Precision: 0.6087 - Recall: 0.0045 - lr: 0.0001\n",
      "Early stopping...\n"
     ]
    }
   ],
   "source": [
    "history_lstm = model_lstm.fit(X_train,\n",
    "                        y_train,\n",
    "                        epochs=10,\n",
    "                        batch_size=128,\n",
    "                        val_data=(X_val, y_val),\n",
    "                        early_stopping=early_stopping,\n",
    "                        scheduler=scheduler\n",
    "                        )"
   ]
  },
  {
   "cell_type": "markdown",
   "metadata": {},
   "source": [
    "# LSTM Model (Bidirectional)"
   ]
  },
  {
   "cell_type": "code",
   "execution_count": 16,
   "metadata": {},
   "outputs": [
    {
     "name": "stdout",
     "output_type": "stream",
     "text": [
      "SentimentAnalyzer(\n",
      "  (embedding): Embedding(20002, 128, padding_idx=0)\n",
      "  (rnn): LSTM(128, 256, num_layers=2, batch_first=True, dropout=0.3, bidirectional=True)\n",
      "  (fc): Linear(in_features=512, out_features=1, bias=True)\n",
      "  (sigmoid): Sigmoid()\n",
      "  (criterion): BCELoss()\n",
      ") \n",
      "Running on:  cuda\n",
      "Number of parameters: 4,928,257\n"
     ]
    }
   ],
   "source": [
    "model_lstm_bi = SentimentAnalyzer(model_type='lstm',\n",
    "                            vocab_size=len(vocab),\n",
    "                            embedding_dim=embedding_dim,\n",
    "                            hidden_dim=hidden_dim,\n",
    "                            bidirectional=True, # Bidirectional LSTM\n",
    "                            dropout=dropout,\n",
    "                            pad_idx=0,\n",
    "                            n_layers=n_layers,\n",
    "                            lr=lr,\n",
    "                            verbose=True,\n",
    "                            gpu=True)\n",
    "\n",
    "early_stopping = EarlyStopping(patience=5, delta=0.01, path='weights/lstm_bi.pth') # early stops after 3 consecutive epochs with minor loss decrease/increase\n",
    "scheduler = torch.optim.lr_scheduler.ReduceLROnPlateau(model_lstm_bi.optimizer, mode='min', factor=0.1, patience=2) # reduces learning rate by factor of 0.1 when no improvement is seen"
   ]
  },
  {
   "cell_type": "code",
   "execution_count": 17,
   "metadata": {},
   "outputs": [
    {
     "name": "stderr",
     "output_type": "stream",
     "text": [
      "                                                                            \r"
     ]
    },
    {
     "name": "stdout",
     "output_type": "stream",
     "text": [
      "Epoch 1/10 - Train Loss: 0.6909 - Val Loss: 0.5429 - Acc: 0.7299 - F1: 0.7514 - Precision: 0.6894 - Recall: 0.8255 - lr: 0.001\n"
     ]
    },
    {
     "name": "stderr",
     "output_type": "stream",
     "text": [
      "                                                                            \r"
     ]
    },
    {
     "name": "stdout",
     "output_type": "stream",
     "text": [
      "Epoch 2/10 - Train Loss: 0.4775 - Val Loss: 0.3149 - Acc: 0.8671 - F1: 0.8641 - Precision: 0.8740 - Recall: 0.8543 - lr: 0.001\n"
     ]
    },
    {
     "name": "stderr",
     "output_type": "stream",
     "text": [
      "                                                                            \r"
     ]
    },
    {
     "name": "stdout",
     "output_type": "stream",
     "text": [
      "Epoch 3/10 - Train Loss: 0.2895 - Val Loss: 0.2532 - Acc: 0.9009 - F1: 0.8995 - Precision: 0.9014 - Recall: 0.8977 - lr: 0.001\n"
     ]
    },
    {
     "name": "stderr",
     "output_type": "stream",
     "text": [
      "                                                                            \r"
     ]
    },
    {
     "name": "stdout",
     "output_type": "stream",
     "text": [
      "Epoch 4/10 - Train Loss: 0.2188 - Val Loss: 0.2486 - Acc: 0.9086 - F1: 0.9053 - Precision: 0.9282 - Recall: 0.8835 - lr: 0.001\n"
     ]
    },
    {
     "name": "stderr",
     "output_type": "stream",
     "text": [
      "                                                                            \r"
     ]
    },
    {
     "name": "stdout",
     "output_type": "stream",
     "text": [
      "Epoch 5/10 - Train Loss: 0.1686 - Val Loss: 0.2329 - Acc: 0.9163 - F1: 0.9148 - Precision: 0.9205 - Recall: 0.9092 - lr: 0.001\n"
     ]
    },
    {
     "name": "stderr",
     "output_type": "stream",
     "text": [
      "                                                                            \r"
     ]
    },
    {
     "name": "stdout",
     "output_type": "stream",
     "text": [
      "Epoch 6/10 - Train Loss: 0.1467 - Val Loss: 0.2541 - Acc: 0.9149 - F1: 0.9158 - Precision: 0.8958 - Recall: 0.9367 - lr: 0.001\n"
     ]
    },
    {
     "name": "stderr",
     "output_type": "stream",
     "text": [
      "                                                                            \r"
     ]
    },
    {
     "name": "stdout",
     "output_type": "stream",
     "text": [
      "Epoch 7/10 - Train Loss: 0.1153 - Val Loss: 0.2714 - Acc: 0.9150 - F1: 0.9129 - Precision: 0.9245 - Recall: 0.9016 - lr: 0.001\n"
     ]
    },
    {
     "name": "stderr",
     "output_type": "stream",
     "text": [
      "                                                                            \r"
     ]
    },
    {
     "name": "stdout",
     "output_type": "stream",
     "text": [
      "Epoch 8/10 - Train Loss: 0.1058 - Val Loss: 0.3042 - Acc: 0.8988 - F1: 0.8920 - Precision: 0.9441 - Recall: 0.8453 - lr: 0.0001\n"
     ]
    },
    {
     "name": "stderr",
     "output_type": "stream",
     "text": [
      "                                                                             \r"
     ]
    },
    {
     "name": "stdout",
     "output_type": "stream",
     "text": [
      "Epoch 9/10 - Train Loss: 0.0632 - Val Loss: 0.2867 - Acc: 0.9188 - F1: 0.9184 - Precision: 0.9123 - Recall: 0.9246 - lr: 0.0001\n"
     ]
    },
    {
     "name": "stderr",
     "output_type": "stream",
     "text": [
      "                                                                              \r"
     ]
    },
    {
     "name": "stdout",
     "output_type": "stream",
     "text": [
      "Epoch 10/10 - Train Loss: 0.0502 - Val Loss: 0.2949 - Acc: 0.9210 - F1: 0.9205 - Precision: 0.9164 - Recall: 0.9246 - lr: 0.0001\n",
      "Early stopping...\n"
     ]
    }
   ],
   "source": [
    "history_lstm_bi = model_lstm_bi.fit(X_train,\n",
    "                        y_train,\n",
    "                        epochs=10,\n",
    "                        batch_size=128,\n",
    "                        val_data=(X_val, y_val),\n",
    "                        early_stopping=early_stopping,\n",
    "                        scheduler=scheduler\n",
    "                        )"
   ]
  },
  {
   "cell_type": "markdown",
   "metadata": {},
   "source": [
    "# GRU Model (Unidirectional)"
   ]
  },
  {
   "cell_type": "code",
   "execution_count": 18,
   "metadata": {},
   "outputs": [
    {
     "name": "stdout",
     "output_type": "stream",
     "text": [
      "SentimentAnalyzer(\n",
      "  (embedding): Embedding(20002, 128, padding_idx=0)\n",
      "  (rnn): GRU(128, 256, num_layers=2, batch_first=True, dropout=0.3)\n",
      "  (fc): Linear(in_features=256, out_features=1, bias=True)\n",
      "  (sigmoid): Sigmoid()\n",
      "  (criterion): BCELoss()\n",
      ") \n",
      "Running on:  cuda\n",
      "Number of parameters: 3,251,713\n"
     ]
    }
   ],
   "source": [
    "model_gru = SentimentAnalyzer(model_type='gru',\n",
    "                            vocab_size=len(vocab),\n",
    "                            embedding_dim=embedding_dim,\n",
    "                            hidden_dim=hidden_dim,\n",
    "                            bidirectional=False,\n",
    "                            dropout=dropout,\n",
    "                            pad_idx=0,\n",
    "                            n_layers=n_layers,\n",
    "                            lr=lr,\n",
    "                            verbose=True,\n",
    "                            gpu=True)\n",
    "\n",
    "early_stopping = EarlyStopping(patience=5, delta=0.01, path='weights/gru.pth') # early stops after 3 consecutive epochs with minor loss decrease/increase\n",
    "scheduler = torch.optim.lr_scheduler.ReduceLROnPlateau(model_gru.optimizer, mode='min', factor=0.1, patience=1) # reduces learning rate by factor of 0.1 when no improvement is seen"
   ]
  },
  {
   "cell_type": "code",
   "execution_count": 19,
   "metadata": {},
   "outputs": [
    {
     "name": "stderr",
     "output_type": "stream",
     "text": [
      "                                                                            \r"
     ]
    },
    {
     "name": "stdout",
     "output_type": "stream",
     "text": [
      "Epoch 1/10 - Train Loss: 0.6935 - Val Loss: 0.6920 - Acc: 0.5176 - F1: 0.0954 - Precision: 0.6530 - Recall: 0.0515 - lr: 0.001\n"
     ]
    },
    {
     "name": "stderr",
     "output_type": "stream",
     "text": [
      "                                                                            \r"
     ]
    },
    {
     "name": "stdout",
     "output_type": "stream",
     "text": [
      "Epoch 2/10 - Train Loss: 0.6867 - Val Loss: 0.6859 - Acc: 0.5059 - F1: 0.6623 - Precision: 0.5001 - Recall: 0.9799 - lr: 0.001\n"
     ]
    },
    {
     "name": "stderr",
     "output_type": "stream",
     "text": [
      "                                                                            \r"
     ]
    },
    {
     "name": "stdout",
     "output_type": "stream",
     "text": [
      "Epoch 3/10 - Train Loss: 0.6665 - Val Loss: 0.6923 - Acc: 0.5052 - F1: 0.6618 - Precision: 0.4998 - Recall: 0.9794 - lr: 0.001\n"
     ]
    },
    {
     "name": "stderr",
     "output_type": "stream",
     "text": [
      "                                                                            \r"
     ]
    },
    {
     "name": "stdout",
     "output_type": "stream",
     "text": [
      "Epoch 4/10 - Train Loss: 0.6611 - Val Loss: 0.6970 - Acc: 0.5057 - F1: 0.6619 - Precision: 0.5000 - Recall: 0.9790 - lr: 0.0001\n"
     ]
    },
    {
     "name": "stderr",
     "output_type": "stream",
     "text": [
      "                                                                            \r"
     ]
    },
    {
     "name": "stdout",
     "output_type": "stream",
     "text": [
      "Epoch 5/10 - Train Loss: 0.6552 - Val Loss: 0.6952 - Acc: 0.5226 - F1: 0.0908 - Precision: 0.7740 - Recall: 0.0482 - lr: 0.0001\n"
     ]
    },
    {
     "name": "stderr",
     "output_type": "stream",
     "text": [
      "                                                                            \r"
     ]
    },
    {
     "name": "stdout",
     "output_type": "stream",
     "text": [
      "Epoch 6/10 - Train Loss: 0.6523 - Val Loss: 0.6958 - Acc: 0.5258 - F1: 0.1045 - Precision: 0.7846 - Recall: 0.0560 - lr: 1e-05\n",
      "Early stopping...\n"
     ]
    }
   ],
   "source": [
    "history_gru = model_gru.fit(X_train,\n",
    "                        y_train,\n",
    "                        epochs=10,\n",
    "                        batch_size=128,\n",
    "                        val_data=(X_val, y_val),\n",
    "                        early_stopping=early_stopping,\n",
    "                        scheduler=scheduler\n",
    "                        )"
   ]
  },
  {
   "cell_type": "markdown",
   "metadata": {},
   "source": [
    "# GRU Model (Bidirectional)"
   ]
  },
  {
   "cell_type": "code",
   "execution_count": 20,
   "metadata": {},
   "outputs": [
    {
     "name": "stdout",
     "output_type": "stream",
     "text": [
      "SentimentAnalyzer(\n",
      "  (embedding): Embedding(20002, 128, padding_idx=0)\n",
      "  (rnn): GRU(128, 256, num_layers=2, batch_first=True, dropout=0.3, bidirectional=True)\n",
      "  (fc): Linear(in_features=512, out_features=1, bias=True)\n",
      "  (sigmoid): Sigmoid()\n",
      "  (criterion): BCELoss()\n",
      ") \n",
      "Running on:  cuda\n",
      "Number of parameters: 4,336,385\n"
     ]
    }
   ],
   "source": [
    "model_gru_bi = SentimentAnalyzer(model_type='gru',\n",
    "                            vocab_size=len(vocab),\n",
    "                            embedding_dim=embedding_dim,\n",
    "                            hidden_dim=hidden_dim,\n",
    "                            bidirectional=True,\n",
    "                            dropout=dropout,\n",
    "                            pad_idx=0,\n",
    "                            n_layers=n_layers,\n",
    "                            lr=lr,\n",
    "                            verbose=True,\n",
    "                            gpu=True)\n",
    "\n",
    "early_stopping = EarlyStopping(patience=5, delta=0.01, path='weights/gru_bi.pth') # early stops after 3 consecutive epochs with minor loss decrease/increase\n",
    "scheduler = torch.optim.lr_scheduler.ReduceLROnPlateau(model_gru_bi.optimizer, mode='min', factor=0.1, patience=1) # reduces learning rate by factor of 0.1 when no improvement is seen"
   ]
  },
  {
   "cell_type": "code",
   "execution_count": 21,
   "metadata": {},
   "outputs": [
    {
     "name": "stderr",
     "output_type": "stream",
     "text": [
      "                                                                            \r"
     ]
    },
    {
     "name": "stdout",
     "output_type": "stream",
     "text": [
      "Epoch 1/10 - Train Loss: 0.4901 - Val Loss: 0.2896 - Acc: 0.8838 - F1: 0.8829 - Precision: 0.8802 - Recall: 0.8856 - lr: 0.001\n"
     ]
    },
    {
     "name": "stderr",
     "output_type": "stream",
     "text": [
      "                                                                            \r"
     ]
    },
    {
     "name": "stdout",
     "output_type": "stream",
     "text": [
      "Epoch 2/10 - Train Loss: 0.2443 - Val Loss: 0.2262 - Acc: 0.9146 - F1: 0.9164 - Precision: 0.8882 - Recall: 0.9464 - lr: 0.001\n"
     ]
    },
    {
     "name": "stderr",
     "output_type": "stream",
     "text": [
      "                                                                            \r"
     ]
    },
    {
     "name": "stdout",
     "output_type": "stream",
     "text": [
      "Epoch 3/10 - Train Loss: 0.1630 - Val Loss: 0.2300 - Acc: 0.9166 - F1: 0.9163 - Precision: 0.9101 - Recall: 0.9225 - lr: 0.001\n"
     ]
    },
    {
     "name": "stderr",
     "output_type": "stream",
     "text": [
      "                                                                            \r"
     ]
    },
    {
     "name": "stdout",
     "output_type": "stream",
     "text": [
      "Epoch 4/10 - Train Loss: 0.1247 - Val Loss: 0.2599 - Acc: 0.9185 - F1: 0.9174 - Precision: 0.9188 - Recall: 0.9160 - lr: 0.0001\n"
     ]
    },
    {
     "name": "stderr",
     "output_type": "stream",
     "text": [
      "                                                                             \r"
     ]
    },
    {
     "name": "stdout",
     "output_type": "stream",
     "text": [
      "Epoch 5/10 - Train Loss: 0.0745 - Val Loss: 0.2546 - Acc: 0.9242 - F1: 0.9237 - Precision: 0.9200 - Recall: 0.9273 - lr: 0.0001\n"
     ]
    },
    {
     "name": "stderr",
     "output_type": "stream",
     "text": [
      "                                                                             \r"
     ]
    },
    {
     "name": "stdout",
     "output_type": "stream",
     "text": [
      "Epoch 6/10 - Train Loss: 0.0548 - Val Loss: 0.2709 - Acc: 0.9260 - F1: 0.9256 - Precision: 0.9206 - Recall: 0.9306 - lr: 1e-05\n"
     ]
    },
    {
     "name": "stderr",
     "output_type": "stream",
     "text": [
      "                                                                             \r"
     ]
    },
    {
     "name": "stdout",
     "output_type": "stream",
     "text": [
      "Epoch 7/10 - Train Loss: 0.0423 - Val Loss: 0.2712 - Acc: 0.9254 - F1: 0.9248 - Precision: 0.9217 - Recall: 0.9280 - lr: 1e-05\n",
      "Early stopping...\n"
     ]
    }
   ],
   "source": [
    "history_gru_bi = model_gru_bi.fit(X_train,\n",
    "                        y_train,\n",
    "                        epochs=10,\n",
    "                        batch_size=128,\n",
    "                        val_data=(X_val, y_val),\n",
    "                        early_stopping=early_stopping,\n",
    "                        scheduler=scheduler\n",
    "                        )"
   ]
  },
  {
   "cell_type": "markdown",
   "metadata": {},
   "source": [
    "# CNN Model"
   ]
  },
  {
   "cell_type": "code",
   "execution_count": 22,
   "metadata": {},
   "outputs": [
    {
     "name": "stdout",
     "output_type": "stream",
     "text": [
      "SentimentAnalyzer(\n",
      "  (embedding): Embedding(20002, 128, padding_idx=0)\n",
      "  (conv1): Conv1d(128, 42, kernel_size=(3,), stride=(1,))\n",
      "  (conv2): Conv1d(42, 64, kernel_size=(3,), stride=(1,))\n",
      "  (conv3): Conv1d(64, 128, kernel_size=(3,), stride=(1,))\n",
      "  (pool): MaxPool1d(kernel_size=2, stride=2, padding=0, dilation=1, ceil_mode=False)\n",
      "  (relu): ReLU()\n",
      "  (fc): Linear(in_features=4480, out_features=1, bias=True)\n",
      "  (sigmoid): Sigmoid()\n",
      "  (criterion): BCELoss()\n",
      ") \n",
      "Running on:  cuda\n",
      "Number of parameters: 2,613,739\n"
     ]
    }
   ],
   "source": [
    "model_cnn = SentimentAnalyzer(model_type='cnn',\n",
    "                            vocab_size=len(vocab),\n",
    "                            embedding_dim=embedding_dim,\n",
    "                            hidden_dim=128,\n",
    "                            dropout=dropout,\n",
    "                            pad_idx=0,\n",
    "                            lr=lr,\n",
    "                            verbose=True,\n",
    "                            gpu=True)\n",
    "\n",
    "early_stopping = EarlyStopping(patience=5, delta=0.01, path='weights/cnn.pth') # early stops after 3 consecutive epochs with minor loss decrease/increase\n",
    "scheduler = torch.optim.lr_scheduler.ReduceLROnPlateau(model_cnn.optimizer, mode='min', factor=0.1, patience=2) # reduces learning rate by factor of 0.1 when no improvement is seen"
   ]
  },
  {
   "cell_type": "code",
   "execution_count": 23,
   "metadata": {},
   "outputs": [
    {
     "name": "stderr",
     "output_type": "stream",
     "text": [
      "                                                                          \r"
     ]
    },
    {
     "name": "stdout",
     "output_type": "stream",
     "text": [
      "Epoch 1/10 - Train Loss: 0.5929 - Val Loss: 0.2987 - Acc: 0.8770 - F1: 0.8728 - Precision: 0.8934 - Recall: 0.8531 - lr: 0.001\n"
     ]
    },
    {
     "name": "stderr",
     "output_type": "stream",
     "text": [
      "                                                                          \r"
     ]
    },
    {
     "name": "stdout",
     "output_type": "stream",
     "text": [
      "Epoch 2/10 - Train Loss: 0.2391 - Val Loss: 0.2118 - Acc: 0.9194 - F1: 0.9197 - Precision: 0.9060 - Recall: 0.9338 - lr: 0.001\n"
     ]
    },
    {
     "name": "stderr",
     "output_type": "stream",
     "text": [
      "                                                                          \r"
     ]
    },
    {
     "name": "stdout",
     "output_type": "stream",
     "text": [
      "Epoch 3/10 - Train Loss: 0.1347 - Val Loss: 0.3157 - Acc: 0.8903 - F1: 0.8978 - Precision: 0.8323 - Recall: 0.9744 - lr: 0.001\n"
     ]
    },
    {
     "name": "stderr",
     "output_type": "stream",
     "text": [
      "                                                                          \r"
     ]
    },
    {
     "name": "stdout",
     "output_type": "stream",
     "text": [
      "Epoch 4/10 - Train Loss: 0.1046 - Val Loss: 0.2326 - Acc: 0.9244 - F1: 0.9249 - Precision: 0.9089 - Recall: 0.9414 - lr: 0.001\n"
     ]
    },
    {
     "name": "stderr",
     "output_type": "stream",
     "text": [
      "                                                                           \r"
     ]
    },
    {
     "name": "stdout",
     "output_type": "stream",
     "text": [
      "Epoch 5/10 - Train Loss: 0.0727 - Val Loss: 0.2710 - Acc: 0.9230 - F1: 0.9205 - Precision: 0.9404 - Recall: 0.9014 - lr: 0.0001\n"
     ]
    },
    {
     "name": "stderr",
     "output_type": "stream",
     "text": [
      "                                                                           \r"
     ]
    },
    {
     "name": "stdout",
     "output_type": "stream",
     "text": [
      "Epoch 6/10 - Train Loss: 0.0231 - Val Loss: 0.2607 - Acc: 0.9272 - F1: 0.9266 - Precision: 0.9231 - Recall: 0.9302 - lr: 0.0001\n"
     ]
    },
    {
     "name": "stderr",
     "output_type": "stream",
     "text": [
      "                                                                           \r"
     ]
    },
    {
     "name": "stdout",
     "output_type": "stream",
     "text": [
      "Epoch 7/10 - Train Loss: 0.0188 - Val Loss: 0.2659 - Acc: 0.9275 - F1: 0.9270 - Precision: 0.9229 - Recall: 0.9312 - lr: 0.0001\n",
      "Early stopping...\n"
     ]
    }
   ],
   "source": [
    "history_cnn = model_cnn.fit(X_train,\n",
    "                        y_train,\n",
    "                        epochs=10,\n",
    "                        batch_size=512,\n",
    "                        val_data=(X_val, y_val),\n",
    "                        early_stopping=early_stopping,\n",
    "                        scheduler=scheduler\n",
    "                        )"
   ]
  },
  {
   "cell_type": "markdown",
   "metadata": {},
   "source": [
    "# Testing "
   ]
  },
  {
   "cell_type": "code",
   "execution_count": 118,
   "metadata": {},
   "outputs": [
    {
     "name": "stdout",
     "output_type": "stream",
     "text": [
      "RNN :\n",
      "Text 0: 0.4974 Text 1: 0.4945\n",
      "\n",
      "RNN (BI):\n",
      "Text 0: 0.1307 Text 1: 0.0494\n",
      "\n",
      "LSTM :\n",
      "Text 0: 0.4988 Text 1: 0.4988\n",
      "\n",
      "LSTM (BI):\n",
      "Text 0: 0.8683 Text 1: 0.0032\n",
      "\n",
      "GRU :\n",
      "Text 0: 0.4968 Text 1: 0.4968\n",
      "\n",
      "GRU (BI):\n",
      "Text 0: 0.9457 Text 1: 0.0008\n",
      "\n",
      "CNN :\n",
      "Text 0: 0.7602 Text 1: 0.1099\n",
      "\n"
     ]
    }
   ],
   "source": [
    "txt_0 = 'The movie wasn\\'t too bad after all. I loved it a lot.' # positive\n",
    "txt_1 = 'The movie, acting, and actors were terrible. I hated it.' # negative\n",
    "\n",
    "# Preprocess the text\n",
    "txt_0 = Utils.tokenize_and_preprocess(txt_0, word_to_idx, max_len)\n",
    "txt_1 = Utils.tokenize_and_preprocess(txt_1, word_to_idx, max_len)\n",
    "\n",
    "# Get the predictions\n",
    "for i, model in enumerate([model_rnn, model_rnn_bi, model_lstm, model_lstm_bi, model_gru, model_gru_bi, model_cnn]):\n",
    "        pred_0 = model.predict([txt_0])\n",
    "        pred_1 = model.predict([txt_1])\n",
    "\n",
    "        bi_label = '(BI)' if i % 2 != 0 else ''\n",
    "        print(f'{model.model_type.upper()} {bi_label}:\\nText 0: {round(pred_0.item(), 4)} Text 1: {round(pred_1.item(), 4)}\\n')\n"
   ]
  },
  {
   "cell_type": "markdown",
   "metadata": {},
   "source": [
    "# Comparison"
   ]
  },
  {
   "cell_type": "markdown",
   "metadata": {},
   "source": [
    "- Plots"
   ]
  },
  {
   "cell_type": "code",
   "execution_count": 63,
   "metadata": {},
   "outputs": [
    {
     "data": {
      "image/png": "[encoded data removed]",
      "text/plain": [
       "<Figure size 1500x800 with 6 Axes>"
      ]
     },
     "metadata": {},
     "output_type": "display_data"
    }
   ],
   "source": [
    "histories = {\n",
    "    'RNN': history_rnn,\n",
    "    'RNN (BI)': history_rnn_bi,\n",
    "    'LSTM': history_lstm,\n",
    "    'LSTM Bi': history_lstm_bi,\n",
    "    'GRU': history_gru,\n",
    "    'GRU Bi': history_gru_bi,\n",
    "    'CNN': history_cnn\n",
    "}\n",
    "\n",
    "Utils.plot_training_history(histories)"
   ]
  },
  {
   "cell_type": "markdown",
   "metadata": {},
   "source": [
    "- Confusion matrix"
   ]
  },
  {
   "cell_type": "code",
   "execution_count": 54,
   "metadata": {},
   "outputs": [],
   "source": [
    "# Get predictions\n",
    "y_pred_rnn, y_pred_rnn_bi, y_pred_lstm, y_pred_lstm_bi, y_pred_gru, y_pred_gru_bi, y_pred_cnn = model_rnn.predict(X_test), model_rnn_bi.predict(X_test), model_lstm.predict(X_test), model_lstm_bi.predict(X_test), model_gru.predict(X_test), model_gru_bi.predict(X_test), model_cnn.predict(X_test)\n",
    "\n",
    "models_preds = {\n",
    "        'RNN': y_pred_rnn,\n",
    "        'RNN (BI)': y_pred_rnn_bi,\n",
    "        'LSTM': y_pred_lstm,\n",
    "        'LSTM (BI)': y_pred_lstm_bi,\n",
    "        'GRU': y_pred_gru,\n",
    "        'GRU (BI)': y_pred_gru_bi,\n",
    "        'CNN': y_pred_cnn\n",
    "}\n",
    "\n",
    "Utils.plot_confusion_matrices(y_test, models_preds)"
   ]
  },
  {
   "cell_type": "markdown",
   "metadata": {},
   "source": [
    "- Comaprison Table"
   ]
  },
  {
   "cell_type": "code",
   "execution_count": 62,
   "metadata": {},
   "outputs": [
    {
     "ename": "KeyError",
     "evalue": "'GRU Bi'",
     "output_type": "error",
     "traceback": [
      "\u001b[0;31m---------------------------------------------------------------------------\u001b[0m",
      "\u001b[0;31mKeyError\u001b[0m                                  Traceback (most recent call last)",
      "Cell \u001b[0;32mIn[62], line 11\u001b[0m\n\u001b[1;32m      1\u001b[0m models \u001b[38;5;241m=\u001b[39m {\n\u001b[1;32m      2\u001b[0m     \u001b[38;5;124m'\u001b[39m\u001b[38;5;124mRNN\u001b[39m\u001b[38;5;124m'\u001b[39m: model_rnn,\n\u001b[1;32m      3\u001b[0m     \u001b[38;5;124m'\u001b[39m\u001b[38;5;124mRNN (BI)\u001b[39m\u001b[38;5;124m'\u001b[39m: model_rnn_bi,\n\u001b[0;32m   (...)\u001b[0m\n\u001b[1;32m      8\u001b[0m     \u001b[38;5;124m'\u001b[39m\u001b[38;5;124mCNN\u001b[39m\u001b[38;5;124m'\u001b[39m: model_cnn\n\u001b[1;32m      9\u001b[0m }\n\u001b[0;32m---> 11\u001b[0m \u001b[43mUtils\u001b[49m\u001b[38;5;241;43m.\u001b[39;49m\u001b[43mgenerate_comparison_table\u001b[49m\u001b[43m(\u001b[49m\u001b[43mhistories\u001b[49m\u001b[43m,\u001b[49m\n\u001b[1;32m     12\u001b[0m \u001b[43m                                \u001b[49m\u001b[43mmodels\u001b[49m\u001b[38;5;241;43m=\u001b[39;49m\u001b[43mmodels\u001b[49m\u001b[43m)\u001b[49m\n",
      "File \u001b[0;32m/media/omar/New Volume/Programming/AI Projects/NLP-Small-Projects/1. sentiment analysis/utils.py:107\u001b[0m, in \u001b[0;36mUtils.generate_comparison_table\u001b[0;34m(histories, models)\u001b[0m\n\u001b[1;32m    104\u001b[0m \u001b[38;5;66;03m# sort the histories by the validation loss\u001b[39;00m\n\u001b[1;32m    105\u001b[0m histories \u001b[38;5;241m=\u001b[39m {k: v \u001b[38;5;28;01mfor\u001b[39;00m k, v \u001b[38;5;129;01min\u001b[39;00m \u001b[38;5;28msorted\u001b[39m(histories\u001b[38;5;241m.\u001b[39mitems(), key\u001b[38;5;241m=\u001b[39m\u001b[38;5;28;01mlambda\u001b[39;00m item: \u001b[38;5;28mmin\u001b[39m(item[\u001b[38;5;241m1\u001b[39m][\u001b[38;5;124m'\u001b[39m\u001b[38;5;124mval_loss\u001b[39m\u001b[38;5;124m'\u001b[39m]))}\n\u001b[0;32m--> 107\u001b[0m data \u001b[38;5;241m=\u001b[39m [\n\u001b[1;32m    108\u001b[0m     {\n\u001b[1;32m    109\u001b[0m         \u001b[38;5;124m'\u001b[39m\u001b[38;5;124mModel\u001b[39m\u001b[38;5;124m'\u001b[39m: model,\n\u001b[1;32m    110\u001b[0m         \u001b[38;5;124m'\u001b[39m\u001b[38;5;124mTrain Loss\u001b[39m\u001b[38;5;124m'\u001b[39m: history[\u001b[38;5;124m'\u001b[39m\u001b[38;5;124mloss\u001b[39m\u001b[38;5;124m'\u001b[39m][\u001b[38;5;241m-\u001b[39m\u001b[38;5;241m1\u001b[39m],\n\u001b[1;32m    111\u001b[0m         \u001b[38;5;124m'\u001b[39m\u001b[38;5;124mVal Loss\u001b[39m\u001b[38;5;124m'\u001b[39m: history[\u001b[38;5;124m'\u001b[39m\u001b[38;5;124mval_loss\u001b[39m\u001b[38;5;124m'\u001b[39m][\u001b[38;5;241m-\u001b[39m\u001b[38;5;241m1\u001b[39m],\n\u001b[1;32m    112\u001b[0m         \u001b[38;5;124m'\u001b[39m\u001b[38;5;124mAccuracy\u001b[39m\u001b[38;5;124m'\u001b[39m: history[\u001b[38;5;124m'\u001b[39m\u001b[38;5;124macc\u001b[39m\u001b[38;5;124m'\u001b[39m][\u001b[38;5;241m-\u001b[39m\u001b[38;5;241m1\u001b[39m],\n\u001b[1;32m    113\u001b[0m         \u001b[38;5;124m'\u001b[39m\u001b[38;5;124mPrecision\u001b[39m\u001b[38;5;124m'\u001b[39m: history[\u001b[38;5;124m'\u001b[39m\u001b[38;5;124mprecision\u001b[39m\u001b[38;5;124m'\u001b[39m][\u001b[38;5;241m-\u001b[39m\u001b[38;5;241m1\u001b[39m],\n\u001b[1;32m    114\u001b[0m         \u001b[38;5;124m'\u001b[39m\u001b[38;5;124mF1-Score\u001b[39m\u001b[38;5;124m'\u001b[39m: history[\u001b[38;5;124m'\u001b[39m\u001b[38;5;124mf1\u001b[39m\u001b[38;5;124m'\u001b[39m][\u001b[38;5;241m-\u001b[39m\u001b[38;5;241m1\u001b[39m],\n\u001b[1;32m    115\u001b[0m         \u001b[38;5;124m'\u001b[39m\u001b[38;5;124mRecall\u001b[39m\u001b[38;5;124m'\u001b[39m: history[\u001b[38;5;124m'\u001b[39m\u001b[38;5;124mrecall\u001b[39m\u001b[38;5;124m'\u001b[39m][\u001b[38;5;241m-\u001b[39m\u001b[38;5;241m1\u001b[39m],\n\u001b[1;32m    116\u001b[0m         \u001b[38;5;124m'\u001b[39m\u001b[38;5;124mTime per Epoch (s)\u001b[39m\u001b[38;5;124m'\u001b[39m: history[\u001b[38;5;124m'\u001b[39m\u001b[38;5;124mepoch_time\u001b[39m\u001b[38;5;124m'\u001b[39m],\n\u001b[1;32m    117\u001b[0m         \u001b[38;5;124m'\u001b[39m\u001b[38;5;124mTraining Time (s)\u001b[39m\u001b[38;5;124m'\u001b[39m: history[\u001b[38;5;124m'\u001b[39m\u001b[38;5;124mepoch_time\u001b[39m\u001b[38;5;124m'\u001b[39m] \u001b[38;5;241m*\u001b[39m \u001b[38;5;28mlen\u001b[39m(history[\u001b[38;5;124m'\u001b[39m\u001b[38;5;124mloss\u001b[39m\u001b[38;5;124m'\u001b[39m]),\n\u001b[1;32m    118\u001b[0m         \u001b[38;5;124m'\u001b[39m\u001b[38;5;124mMemory Usage (MB)\u001b[39m\u001b[38;5;124m'\u001b[39m: models[model]\u001b[38;5;241m.\u001b[39mmemory_usage(),\n\u001b[1;32m    119\u001b[0m         \u001b[38;5;124m'\u001b[39m\u001b[38;5;124mParameters\u001b[39m\u001b[38;5;124m'\u001b[39m: models[model]\u001b[38;5;241m.\u001b[39mparams_count()\n\u001b[1;32m    120\u001b[0m     }\n\u001b[1;32m    121\u001b[0m     \u001b[38;5;28;01mfor\u001b[39;00m model, history \u001b[38;5;129;01min\u001b[39;00m histories\u001b[38;5;241m.\u001b[39mitems()\n\u001b[1;32m    122\u001b[0m ]\n\u001b[1;32m    124\u001b[0m df \u001b[38;5;241m=\u001b[39m pd\u001b[38;5;241m.\u001b[39mDataFrame(data)\n\u001b[1;32m    125\u001b[0m table \u001b[38;5;241m=\u001b[39m tabulate(df, headers\u001b[38;5;241m=\u001b[39m\u001b[38;5;124m'\u001b[39m\u001b[38;5;124mkeys\u001b[39m\u001b[38;5;124m'\u001b[39m, tablefmt\u001b[38;5;241m=\u001b[39m\u001b[38;5;124m'\u001b[39m\u001b[38;5;124mpretty\u001b[39m\u001b[38;5;124m'\u001b[39m)\n",
      "File \u001b[0;32m/media/omar/New Volume/Programming/AI Projects/NLP-Small-Projects/1. sentiment analysis/utils.py:118\u001b[0m, in \u001b[0;36m<listcomp>\u001b[0;34m(.0)\u001b[0m\n\u001b[1;32m    104\u001b[0m \u001b[38;5;66;03m# sort the histories by the validation loss\u001b[39;00m\n\u001b[1;32m    105\u001b[0m histories \u001b[38;5;241m=\u001b[39m {k: v \u001b[38;5;28;01mfor\u001b[39;00m k, v \u001b[38;5;129;01min\u001b[39;00m \u001b[38;5;28msorted\u001b[39m(histories\u001b[38;5;241m.\u001b[39mitems(), key\u001b[38;5;241m=\u001b[39m\u001b[38;5;28;01mlambda\u001b[39;00m item: \u001b[38;5;28mmin\u001b[39m(item[\u001b[38;5;241m1\u001b[39m][\u001b[38;5;124m'\u001b[39m\u001b[38;5;124mval_loss\u001b[39m\u001b[38;5;124m'\u001b[39m]))}\n\u001b[1;32m    107\u001b[0m data \u001b[38;5;241m=\u001b[39m [\n\u001b[1;32m    108\u001b[0m     {\n\u001b[1;32m    109\u001b[0m         \u001b[38;5;124m'\u001b[39m\u001b[38;5;124mModel\u001b[39m\u001b[38;5;124m'\u001b[39m: model,\n\u001b[1;32m    110\u001b[0m         \u001b[38;5;124m'\u001b[39m\u001b[38;5;124mTrain Loss\u001b[39m\u001b[38;5;124m'\u001b[39m: history[\u001b[38;5;124m'\u001b[39m\u001b[38;5;124mloss\u001b[39m\u001b[38;5;124m'\u001b[39m][\u001b[38;5;241m-\u001b[39m\u001b[38;5;241m1\u001b[39m],\n\u001b[1;32m    111\u001b[0m         \u001b[38;5;124m'\u001b[39m\u001b[38;5;124mVal Loss\u001b[39m\u001b[38;5;124m'\u001b[39m: history[\u001b[38;5;124m'\u001b[39m\u001b[38;5;124mval_loss\u001b[39m\u001b[38;5;124m'\u001b[39m][\u001b[38;5;241m-\u001b[39m\u001b[38;5;241m1\u001b[39m],\n\u001b[1;32m    112\u001b[0m         \u001b[38;5;124m'\u001b[39m\u001b[38;5;124mAccuracy\u001b[39m\u001b[38;5;124m'\u001b[39m: history[\u001b[38;5;124m'\u001b[39m\u001b[38;5;124macc\u001b[39m\u001b[38;5;124m'\u001b[39m][\u001b[38;5;241m-\u001b[39m\u001b[38;5;241m1\u001b[39m],\n\u001b[1;32m    113\u001b[0m         \u001b[38;5;124m'\u001b[39m\u001b[38;5;124mPrecision\u001b[39m\u001b[38;5;124m'\u001b[39m: history[\u001b[38;5;124m'\u001b[39m\u001b[38;5;124mprecision\u001b[39m\u001b[38;5;124m'\u001b[39m][\u001b[38;5;241m-\u001b[39m\u001b[38;5;241m1\u001b[39m],\n\u001b[1;32m    114\u001b[0m         \u001b[38;5;124m'\u001b[39m\u001b[38;5;124mF1-Score\u001b[39m\u001b[38;5;124m'\u001b[39m: history[\u001b[38;5;124m'\u001b[39m\u001b[38;5;124mf1\u001b[39m\u001b[38;5;124m'\u001b[39m][\u001b[38;5;241m-\u001b[39m\u001b[38;5;241m1\u001b[39m],\n\u001b[1;32m    115\u001b[0m         \u001b[38;5;124m'\u001b[39m\u001b[38;5;124mRecall\u001b[39m\u001b[38;5;124m'\u001b[39m: history[\u001b[38;5;124m'\u001b[39m\u001b[38;5;124mrecall\u001b[39m\u001b[38;5;124m'\u001b[39m][\u001b[38;5;241m-\u001b[39m\u001b[38;5;241m1\u001b[39m],\n\u001b[1;32m    116\u001b[0m         \u001b[38;5;124m'\u001b[39m\u001b[38;5;124mTime per Epoch (s)\u001b[39m\u001b[38;5;124m'\u001b[39m: history[\u001b[38;5;124m'\u001b[39m\u001b[38;5;124mepoch_time\u001b[39m\u001b[38;5;124m'\u001b[39m],\n\u001b[1;32m    117\u001b[0m         \u001b[38;5;124m'\u001b[39m\u001b[38;5;124mTraining Time (s)\u001b[39m\u001b[38;5;124m'\u001b[39m: history[\u001b[38;5;124m'\u001b[39m\u001b[38;5;124mepoch_time\u001b[39m\u001b[38;5;124m'\u001b[39m] \u001b[38;5;241m*\u001b[39m \u001b[38;5;28mlen\u001b[39m(history[\u001b[38;5;124m'\u001b[39m\u001b[38;5;124mloss\u001b[39m\u001b[38;5;124m'\u001b[39m]),\n\u001b[0;32m--> 118\u001b[0m         \u001b[38;5;124m'\u001b[39m\u001b[38;5;124mMemory Usage (MB)\u001b[39m\u001b[38;5;124m'\u001b[39m: \u001b[43mmodels\u001b[49m\u001b[43m[\u001b[49m\u001b[43mmodel\u001b[49m\u001b[43m]\u001b[49m\u001b[38;5;241m.\u001b[39mmemory_usage(),\n\u001b[1;32m    119\u001b[0m         \u001b[38;5;124m'\u001b[39m\u001b[38;5;124mParameters\u001b[39m\u001b[38;5;124m'\u001b[39m: models[model]\u001b[38;5;241m.\u001b[39mparams_count()\n\u001b[1;32m    120\u001b[0m     }\n\u001b[1;32m    121\u001b[0m     \u001b[38;5;28;01mfor\u001b[39;00m model, history \u001b[38;5;129;01min\u001b[39;00m histories\u001b[38;5;241m.\u001b[39mitems()\n\u001b[1;32m    122\u001b[0m ]\n\u001b[1;32m    124\u001b[0m df \u001b[38;5;241m=\u001b[39m pd\u001b[38;5;241m.\u001b[39mDataFrame(data)\n\u001b[1;32m    125\u001b[0m table \u001b[38;5;241m=\u001b[39m tabulate(df, headers\u001b[38;5;241m=\u001b[39m\u001b[38;5;124m'\u001b[39m\u001b[38;5;124mkeys\u001b[39m\u001b[38;5;124m'\u001b[39m, tablefmt\u001b[38;5;241m=\u001b[39m\u001b[38;5;124m'\u001b[39m\u001b[38;5;124mpretty\u001b[39m\u001b[38;5;124m'\u001b[39m)\n",
      "\u001b[0;31mKeyError\u001b[0m: 'GRU Bi'"
     ]
    }
   ],
   "source": [
    "models = {\n",
    "    'RNN': model_rnn,\n",
    "    'RNN (BI)': model_rnn_bi,\n",
    "    'LSTM': model_lstm,\n",
    "    'LSTM (BI)': model_lstm_bi,\n",
    "    'GRU': model_gru,\n",
    "    'GRU (BI)': model_gru_bi,\n",
    "    'CNN': model_cnn\n",
    "}\n",
    "\n",
    "Utils.generate_comparison_table(histories,\n",
    "                                models=models)"
   ]
  },
  {
   "cell_type": "markdown",
   "metadata": {},
   "source": [
    "# Summary\n",
    "\n",
    "- RNN (BI):\n",
    "    - Pros: Simple architecture, fast training time.\n",
    "    - Cons: Limited context (low accuracy), prune to vanishing gradient problem.\n",
    "\n",
    "- LSTM (BI):\n",
    "    - Pros: Long-term dependencies, less prone to vanishing gradient problem.\n",
    "    - Cons: Longer training time, more complex architecture.\n",
    "- GRU (BI):\n",
    "    - Pros: Simpler architecture than LSTM, faster training time.\n",
    "    - Cons: Limited context, more parameters, prune to overfitting.\n",
    "- CNN:\n",
    "    - Pros: Best performance on this dataset, fast inference time.\n",
    "    - Cons: May not generalize well to sequence data without significant tuning.\n",
    "\n",
    "# Recommendation\n",
    "\n",
    "- Based on the analysis, **LSTM** offers the best balance between performance and complexity for this task, especially if handling sequence data is a priority. For faster inference and a smaller model footprint, consider **CNN** with additional tuning. For simpler tasks, **RNN** or **GRU** may be sufficient."
   ]
  }
 ],
 "metadata": {
  "kernelspec": {
   "display_name": "py310",
   "language": "python",
   "name": "python3"
  },
  "language_info": {
   "codemirror_mode": {
    "name": "ipython",
    "version": 3
   },
   "file_extension": ".py",
   "mimetype": "text/x-python",
   "name": "python",
   "nbconvert_exporter": "python",
   "pygments_lexer": "ipython3",
   "version": "3.10.14"
  }
 },
 "nbformat": 4,
 "nbformat_minor": 2
}
