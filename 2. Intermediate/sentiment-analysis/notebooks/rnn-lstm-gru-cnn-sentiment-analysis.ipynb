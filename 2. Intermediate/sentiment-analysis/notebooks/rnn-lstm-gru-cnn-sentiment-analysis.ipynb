{
 "cells": [
  {
   "cell_type": "markdown",
   "id": "736e2e7d",
   "metadata": {
    "papermill": {
     "duration": 0.01241,
     "end_time": "2024-08-03T10:34:08.865934",
     "exception": false,
     "start_time": "2024-08-03T10:34:08.853524",
     "status": "completed"
    },
    "tags": []
   },
   "source": [
    "# Sentiment Analysis on Movie Reviews\n",
    "\n",
    "Using multiple architectures to perform sentiment analysis on the IMDB dataset. The dataset consists of 50,000 reviews from IMDB, labeled by sentiment (positive/negative). The dataset is divided into 25,000 reviews for training and 25,000 reviews for testing. The goal is to build a model that can predict the sentiment of a review with high accuracy.\n",
    "\n",
    "The following architectures will be used:\n",
    "1. RNN\n",
    "2. LSTM\n",
    "3. GRU\n",
    "4. Bidirectional RNN\n",
    "5. Bidirectional LSTM\n",
    "6. Bidirectional GRU\n",
    "7. Convolutional Neural Network (CNN)\n",
    "\n",
    "The models will be trained on the training set and evaluated on the testing set. The model with the highest accuracy on the testing set will be selected as the best model for sentiment analysis on movie reviews."
   ]
  },
  {
   "cell_type": "code",
   "execution_count": 1,
   "id": "846afefc",
   "metadata": {
    "_cell_guid": "b1076dfc-b9ad-4769-8c92-a6c4dae69d19",
    "_uuid": "8f2839f25d086af736a60e9eeb907d3b93b6e0e5",
    "execution": {
     "iopub.execute_input": "2024-08-03T10:34:08.892910Z",
     "iopub.status.busy": "2024-08-03T10:34:08.892191Z",
     "iopub.status.idle": "2024-08-03T10:34:28.508354Z",
     "shell.execute_reply": "2024-08-03T10:34:28.507546Z"
    },
    "papermill": {
     "duration": 19.63215,
     "end_time": "2024-08-03T10:34:28.510443",
     "exception": false,
     "start_time": "2024-08-03T10:34:08.878293",
     "status": "completed"
    },
    "tags": []
   },
   "outputs": [
    {
     "data": {
      "application/vnd.jupyter.widget-view+json": {
       "model_id": "6a1f7585b6fd42559cf98ec2d9ee274a",
       "version_major": 2,
       "version_minor": 0
      },
      "text/plain": [
       "Downloading readme:   0%|          | 0.00/7.81k [00:00<?, ?B/s]"
      ]
     },
     "metadata": {},
     "output_type": "display_data"
    },
    {
     "data": {
      "application/vnd.jupyter.widget-view+json": {
       "model_id": "39b60dd8fb89486fab65bd30ab44c577",
       "version_major": 2,
       "version_minor": 0
      },
      "text/plain": [
       "Downloading data:   0%|          | 0.00/21.0M [00:00<?, ?B/s]"
      ]
     },
     "metadata": {},
     "output_type": "display_data"
    },
    {
     "data": {
      "application/vnd.jupyter.widget-view+json": {
       "model_id": "4296d4930ef446d79a409d506a247e49",
       "version_major": 2,
       "version_minor": 0
      },
      "text/plain": [
       "Downloading data:   0%|          | 0.00/20.5M [00:00<?, ?B/s]"
      ]
     },
     "metadata": {},
     "output_type": "display_data"
    },
    {
     "data": {
      "application/vnd.jupyter.widget-view+json": {
       "model_id": "f5df96cd395b4ff1a9f2389f7ce78b6f",
       "version_major": 2,
       "version_minor": 0
      },
      "text/plain": [
       "Downloading data:   0%|          | 0.00/42.0M [00:00<?, ?B/s]"
      ]
     },
     "metadata": {},
     "output_type": "display_data"
    },
    {
     "data": {
      "application/vnd.jupyter.widget-view+json": {
       "model_id": "4241c2ba1c6c498b8814ecf93b8ccf2f",
       "version_major": 2,
       "version_minor": 0
      },
      "text/plain": [
       "Generating train split:   0%|          | 0/25000 [00:00<?, ? examples/s]"
      ]
     },
     "metadata": {},
     "output_type": "display_data"
    },
    {
     "data": {
      "application/vnd.jupyter.widget-view+json": {
       "model_id": "57c30da5443547dc98b8533a2ac5046e",
       "version_major": 2,
       "version_minor": 0
      },
      "text/plain": [
       "Generating test split:   0%|          | 0/25000 [00:00<?, ? examples/s]"
      ]
     },
     "metadata": {},
     "output_type": "display_data"
    },
    {
     "data": {
      "application/vnd.jupyter.widget-view+json": {
       "model_id": "c844132f9ee7457eae3e13310d146fa3",
       "version_major": 2,
       "version_minor": 0
      },
      "text/plain": [
       "Generating unsupervised split:   0%|          | 0/50000 [00:00<?, ? examples/s]"
      ]
     },
     "metadata": {},
     "output_type": "display_data"
    }
   ],
   "source": [
    "import sys\n",
    "sys.path.append('/kaggle/input/sentiment-analysis-utils')\n",
    "!mkdir -p weights # For storing the weights\n",
    "\n",
    "import torch\n",
    "import string\n",
    "import pandas as pd\n",
    "from collections import Counter\n",
    "\n",
    "from utils import EarlyStopping, Utils\n",
    "from model import SentimentAnalyzer\n",
    "\n",
    "from datasets import load_dataset\n",
    "from nltk.corpus import stopwords\n",
    "from nltk.tokenize import word_tokenize\n",
    "\n",
    "# Download and load the IMDb dataset\n",
    "dataset = load_dataset('imdb')"
   ]
  },
  {
   "cell_type": "code",
   "execution_count": 2,
   "id": "a8b7126a",
   "metadata": {
    "execution": {
     "iopub.execute_input": "2024-08-03T10:34:28.539172Z",
     "iopub.status.busy": "2024-08-03T10:34:28.538582Z",
     "iopub.status.idle": "2024-08-03T10:34:30.390388Z",
     "shell.execute_reply": "2024-08-03T10:34:30.389418Z"
    },
    "papermill": {
     "duration": 1.868318,
     "end_time": "2024-08-03T10:34:30.392488",
     "exception": false,
     "start_time": "2024-08-03T10:34:28.524170",
     "status": "completed"
    },
    "tags": []
   },
   "outputs": [
    {
     "name": "stdout",
     "output_type": "stream",
     "text": [
      "(25000, 2) (25000, 2)\n"
     ]
    },
    {
     "data": {
      "text/html": [
       "<div>\n",
       "<style scoped>\n",
       "    .dataframe tbody tr th:only-of-type {\n",
       "        vertical-align: middle;\n",
       "    }\n",
       "\n",
       "    .dataframe tbody tr th {\n",
       "        vertical-align: top;\n",
       "    }\n",
       "\n",
       "    .dataframe thead th {\n",
       "        text-align: right;\n",
       "    }\n",
       "</style>\n",
       "<table border=\"1\" class=\"dataframe\">\n",
       "  <thead>\n",
       "    <tr style=\"text-align: right;\">\n",
       "      <th></th>\n",
       "      <th>text</th>\n",
       "      <th>label</th>\n",
       "    </tr>\n",
       "  </thead>\n",
       "  <tbody>\n",
       "    <tr>\n",
       "      <th>0</th>\n",
       "      <td>I rented I AM CURIOUS-YELLOW from my video sto...</td>\n",
       "      <td>0</td>\n",
       "    </tr>\n",
       "    <tr>\n",
       "      <th>1</th>\n",
       "      <td>\"I Am Curious: Yellow\" is a risible and preten...</td>\n",
       "      <td>0</td>\n",
       "    </tr>\n",
       "    <tr>\n",
       "      <th>2</th>\n",
       "      <td>If only to avoid making this type of film in t...</td>\n",
       "      <td>0</td>\n",
       "    </tr>\n",
       "  </tbody>\n",
       "</table>\n",
       "</div>"
      ],
      "text/plain": [
       "                                                text  label\n",
       "0  I rented I AM CURIOUS-YELLOW from my video sto...      0\n",
       "1  \"I Am Curious: Yellow\" is a risible and preten...      0\n",
       "2  If only to avoid making this type of film in t...      0"
      ]
     },
     "execution_count": 2,
     "metadata": {},
     "output_type": "execute_result"
    }
   ],
   "source": [
    "# convert DatasetDict to a pandas dataframe\n",
    "df_train = pd.DataFrame(dataset['train'])\n",
    "df_test = pd.DataFrame(dataset['test'])\n",
    "\n",
    "print(df_train.shape, df_test.shape)\n",
    "df_train.head(3)"
   ]
  },
  {
   "cell_type": "markdown",
   "id": "fc2e8ab5",
   "metadata": {
    "papermill": {
     "duration": 0.013456,
     "end_time": "2024-08-03T10:34:30.422274",
     "exception": false,
     "start_time": "2024-08-03T10:34:30.408818",
     "status": "completed"
    },
    "tags": []
   },
   "source": [
    "# Preprocessing and Tokenization"
   ]
  },
  {
   "cell_type": "code",
   "execution_count": 3,
   "id": "85924c28",
   "metadata": {
    "execution": {
     "iopub.execute_input": "2024-08-03T10:34:30.451462Z",
     "iopub.status.busy": "2024-08-03T10:34:30.450716Z",
     "iopub.status.idle": "2024-08-03T10:37:06.704804Z",
     "shell.execute_reply": "2024-08-03T10:37:06.703885Z"
    },
    "papermill": {
     "duration": 156.271045,
     "end_time": "2024-08-03T10:37:06.706812",
     "exception": false,
     "start_time": "2024-08-03T10:34:30.435767",
     "status": "completed"
    },
    "tags": []
   },
   "outputs": [
    {
     "name": "stdout",
     "output_type": "stream",
     "text": [
      "Max length: 1450, Min length: 4, Avg length: 123.0\n"
     ]
    },
    {
     "data": {
      "text/html": [
       "<div>\n",
       "<style scoped>\n",
       "    .dataframe tbody tr th:only-of-type {\n",
       "        vertical-align: middle;\n",
       "    }\n",
       "\n",
       "    .dataframe tbody tr th {\n",
       "        vertical-align: top;\n",
       "    }\n",
       "\n",
       "    .dataframe thead th {\n",
       "        text-align: right;\n",
       "    }\n",
       "</style>\n",
       "<table border=\"1\" class=\"dataframe\">\n",
       "  <thead>\n",
       "    <tr style=\"text-align: right;\">\n",
       "      <th></th>\n",
       "      <th>text</th>\n",
       "      <th>label</th>\n",
       "    </tr>\n",
       "  </thead>\n",
       "  <tbody>\n",
       "    <tr>\n",
       "      <th>0</th>\n",
       "      <td>[far, racist, ghettoish, cartoon, children, 7+...</td>\n",
       "      <td>0</td>\n",
       "    </tr>\n",
       "    <tr>\n",
       "      <th>1</th>\n",
       "      <td>[one, worst, movies, 've, ever, seen, 'm, stil...</td>\n",
       "      <td>0</td>\n",
       "    </tr>\n",
       "    <tr>\n",
       "      <th>2</th>\n",
       "      <td>[thin, story, many, fine, shots, eyecatchers, ...</td>\n",
       "      <td>1</td>\n",
       "    </tr>\n",
       "  </tbody>\n",
       "</table>\n",
       "</div>"
      ],
      "text/plain": [
       "                                                text  label\n",
       "0  [far, racist, ghettoish, cartoon, children, 7+...      0\n",
       "1  [one, worst, movies, 've, ever, seen, 'm, stil...      0\n",
       "2  [thin, story, many, fine, shots, eyecatchers, ...      1"
      ]
     },
     "metadata": {},
     "output_type": "display_data"
    },
    {
     "data": {
      "text/plain": [
       "((35000, 2), (15000, 2))"
      ]
     },
     "execution_count": 3,
     "metadata": {},
     "output_type": "execute_result"
    }
   ],
   "source": [
    "# Tokenize the reviews\n",
    "df_train['text'] = df_train['text'].apply(word_tokenize)\n",
    "df_test['text'] = df_test['text'].apply(word_tokenize)\n",
    "\n",
    "# Lowercase the reviews\n",
    "df_train['text'] = df_train['text'].apply(lambda x: [s.lower() for s in x])\n",
    "df_test['text'] = df_test['text'].apply(lambda x: [s.lower() for s in x])\n",
    "\n",
    "# Remove html tags\n",
    "tags = ['<', '>', 'br', '/', '``', \"''\", '...']\n",
    "df_train['text'] = df_train['text'].apply(lambda x: [s for s in x if not s.startswith('<') and not s.endswith('>') and s not in tags])\n",
    "df_test['text'] = df_test['text'].apply(lambda x: [s for s in x if not s.startswith('<') and not s.endswith('>') and s not in tags])\n",
    "\n",
    "# Remove punctuation like '!', '?', etc.\n",
    "df_train['text'] = df_train['text'].apply(lambda x: [s for s in x if s not in string.punctuation])\n",
    "df_test['text'] = df_test['text'].apply(lambda x: [s for s in x if s not in string.punctuation])\n",
    "\n",
    "# Remove stopwords like 'and', 'the', 'a', etc.\n",
    "stop_words = set(stopwords.words('english'))\n",
    "df_train['text'] = df_train['text'].apply(lambda x: [s for s in x if s not in stop_words])\n",
    "df_test['text'] = df_test['text'].apply(lambda x: [s for s in x if s not in stop_words])\n",
    "\n",
    "# Remove numbers\n",
    "df_train['text'] = df_train['text'].apply(lambda x: [s for s in x if not s.isdigit()])\n",
    "df_test['text'] = df_test['text'].apply(lambda x: [s for s in x if not s.isdigit()])\n",
    "\n",
    "# Remove empty strings\n",
    "df_train['text'] = df_train['text'].apply(lambda x: [s for s in x if s])\n",
    "df_test['text'] = df_test['text'].apply(lambda x: [s for s in x if s])\n",
    "\n",
    "# Add 10K rows to the training set from the test set\n",
    "df_train, df_test = pd.concat([df_train, df_test.sample(10000, random_state=0)]).reset_index(drop=True), df_test.drop(df_test.sample(10000, random_state=0).index).reset_index(drop=True)\n",
    "\n",
    "# Shuffle the dataset\n",
    "df_train = df_train.sample(frac=1, random_state=0).reset_index(drop=True)\n",
    "df_test = df_test.sample(frac=1, random_state=0).reset_index(drop=True)\n",
    "\n",
    "# Get the max/min length of the reviews\n",
    "max_len = df_train['text'].apply(len).max()\n",
    "min_len = df_train['text'].apply(len).min()\n",
    "avg_len = df_train['text'].apply(len).mean().round()\n",
    "\n",
    "print(f'Max length: {max_len}, Min length: {min_len}, Avg length: {avg_len}')\n",
    "\n",
    "# Quick look at the processed data\n",
    "display(df_train.head(3))\n",
    "\n",
    "df_train.shape, df_test.shape"
   ]
  },
  {
   "cell_type": "code",
   "execution_count": 4,
   "id": "99513e47",
   "metadata": {
    "execution": {
     "iopub.execute_input": "2024-08-03T10:37:06.735902Z",
     "iopub.status.busy": "2024-08-03T10:37:06.735555Z",
     "iopub.status.idle": "2024-08-03T10:37:07.042685Z",
     "shell.execute_reply": "2024-08-03T10:37:07.041812Z"
    },
    "papermill": {
     "duration": 0.324342,
     "end_time": "2024-08-03T10:37:07.044936",
     "exception": false,
     "start_time": "2024-08-03T10:37:06.720594",
     "status": "completed"
    },
    "tags": []
   },
   "outputs": [
    {
     "data": {
      "text/plain": [
       "<Axes: title={'center': 'Label Distribution'}, xlabel='label'>"
      ]
     },
     "execution_count": 4,
     "metadata": {},
     "output_type": "execute_result"
    },
    {
     "data": {
      "image/png": "[encoded data removed]",
      "text/plain": [
       "<Figure size 500x400 with 1 Axes>"
      ]
     },
     "metadata": {},
     "output_type": "display_data"
    }
   ],
   "source": [
    "# Check label distribution\n",
    "df_train['label'].value_counts().plot(kind='bar', title='Label Distribution', figsize=(5, 4))"
   ]
  },
  {
   "cell_type": "markdown",
   "id": "0c2482a1",
   "metadata": {
    "papermill": {
     "duration": 0.013798,
     "end_time": "2024-08-03T10:37:07.073028",
     "exception": false,
     "start_time": "2024-08-03T10:37:07.059230",
     "status": "completed"
    },
    "tags": []
   },
   "source": [
    "# Vocabulary Creation\n",
    "vocab creation is the first step in the text processing pipeline. It is the process of extracting unique words from the text and assigning an index to each word. The vocabulary is used to convert the text into a numerical representation that can be used as input to machine learning models."
   ]
  },
  {
   "cell_type": "code",
   "execution_count": 5,
   "id": "b8d39de7",
   "metadata": {
    "execution": {
     "iopub.execute_input": "2024-08-03T10:37:07.102978Z",
     "iopub.status.busy": "2024-08-03T10:37:07.102135Z",
     "iopub.status.idle": "2024-08-03T10:37:07.108059Z",
     "shell.execute_reply": "2024-08-03T10:37:07.107353Z"
    },
    "papermill": {
     "duration": 0.022938,
     "end_time": "2024-08-03T10:37:07.110047",
     "exception": false,
     "start_time": "2024-08-03T10:37:07.087109",
     "status": "completed"
    },
    "tags": []
   },
   "outputs": [],
   "source": [
    "# Copy for future use\n",
    "df_train_preprocessed, df_test_preprocessed = df_train.copy(), df_test.copy()"
   ]
  },
  {
   "cell_type": "code",
   "execution_count": 6,
   "id": "44ef8063",
   "metadata": {
    "execution": {
     "iopub.execute_input": "2024-08-03T10:37:07.140975Z",
     "iopub.status.busy": "2024-08-03T10:37:07.140117Z",
     "iopub.status.idle": "2024-08-03T10:37:07.655388Z",
     "shell.execute_reply": "2024-08-03T10:37:07.654350Z"
    },
    "papermill": {
     "duration": 0.532507,
     "end_time": "2024-08-03T10:37:07.657494",
     "exception": false,
     "start_time": "2024-08-03T10:37:07.124987",
     "status": "completed"
    },
    "tags": []
   },
   "outputs": [
    {
     "name": "stdout",
     "output_type": "stream",
     "text": [
      "Vocab Size: 167654\n"
     ]
    }
   ],
   "source": [
    "# Create a vocabulary\n",
    "vocab = set()\n",
    "for review in df_train['text']:\n",
    "    vocab.update(review)\n",
    "for review in df_test['text']:\n",
    "    vocab.update(review)\n",
    "\n",
    "print('Vocab Size:', len(list(vocab)))"
   ]
  },
  {
   "cell_type": "markdown",
   "id": "97b65c2b",
   "metadata": {
    "papermill": {
     "duration": 0.014224,
     "end_time": "2024-08-03T10:37:07.686462",
     "exception": false,
     "start_time": "2024-08-03T10:37:07.672238",
     "status": "completed"
    },
    "tags": []
   },
   "source": [
    "Since the vocabulary is huge, we will only keep the most 20K frequent words, after that we will replace the rest with `<UNK>`"
   ]
  },
  {
   "cell_type": "code",
   "execution_count": 7,
   "id": "72a2c491",
   "metadata": {
    "execution": {
     "iopub.execute_input": "2024-08-03T10:37:07.719437Z",
     "iopub.status.busy": "2024-08-03T10:37:07.719029Z",
     "iopub.status.idle": "2024-08-03T10:37:08.997531Z",
     "shell.execute_reply": "2024-08-03T10:37:08.996561Z"
    },
    "papermill": {
     "duration": 1.298854,
     "end_time": "2024-08-03T10:37:08.999687",
     "exception": false,
     "start_time": "2024-08-03T10:37:07.700833",
     "status": "completed"
    },
    "tags": []
   },
   "outputs": [
    {
     "name": "stdout",
     "output_type": "stream",
     "text": [
      "20002\n"
     ]
    }
   ],
   "source": [
    "word_freq = Counter()\n",
    "\n",
    "for review in df_train['text']:\n",
    "    word_freq.update(review)\n",
    "for review in df_test['text']:\n",
    "    word_freq.update(review)\n",
    "\n",
    "# Create a vocabulary\n",
    "vocab = ['<PAD>', '<UNK>'] + [word for word, _ in word_freq.most_common(20_000)] # <PAD> is for padding to tell the embedding layer to ignore it, <UNK> is for unknown words\n",
    "\n",
    "print(len(vocab))"
   ]
  },
  {
   "cell_type": "markdown",
   "id": "333ff304",
   "metadata": {
    "papermill": {
     "duration": 0.014096,
     "end_time": "2024-08-03T10:37:09.028171",
     "exception": false,
     "start_time": "2024-08-03T10:37:09.014075",
     "status": "completed"
    },
    "tags": []
   },
   "source": [
    "Convert the text into sequences of integers using the vocabulary. Each word in the text is replaced by its corresponding index in the vocabulary."
   ]
  },
  {
   "cell_type": "code",
   "execution_count": 8,
   "id": "fadfa57e",
   "metadata": {
    "execution": {
     "iopub.execute_input": "2024-08-03T10:37:09.058585Z",
     "iopub.status.busy": "2024-08-03T10:37:09.057918Z",
     "iopub.status.idle": "2024-08-03T10:37:10.650000Z",
     "shell.execute_reply": "2024-08-03T10:37:10.649266Z"
    },
    "papermill": {
     "duration": 1.609509,
     "end_time": "2024-08-03T10:37:10.651941",
     "exception": false,
     "start_time": "2024-08-03T10:37:09.042432",
     "status": "completed"
    },
    "tags": []
   },
   "outputs": [
    {
     "data": {
      "text/html": [
       "<div>\n",
       "<style scoped>\n",
       "    .dataframe tbody tr th:only-of-type {\n",
       "        vertical-align: middle;\n",
       "    }\n",
       "\n",
       "    .dataframe tbody tr th {\n",
       "        vertical-align: top;\n",
       "    }\n",
       "\n",
       "    .dataframe thead th {\n",
       "        text-align: right;\n",
       "    }\n",
       "</style>\n",
       "<table border=\"1\" class=\"dataframe\">\n",
       "  <thead>\n",
       "    <tr style=\"text-align: right;\">\n",
       "      <th></th>\n",
       "      <th>text</th>\n",
       "      <th>label</th>\n",
       "    </tr>\n",
       "  </thead>\n",
       "  <tbody>\n",
       "    <tr>\n",
       "      <th>0</th>\n",
       "      <td>[126, 2621, 1, 917, 290, 1, 230, 30, 917, 1084...</td>\n",
       "      <td>0</td>\n",
       "    </tr>\n",
       "    <tr>\n",
       "      <th>1</th>\n",
       "      <td>[6, 142, 27, 54, 45, 34, 57, 48, 144, 462, 189...</td>\n",
       "      <td>0</td>\n",
       "    </tr>\n",
       "    <tr>\n",
       "      <th>2</th>\n",
       "      <td>[1576, 14, 33, 361, 506, 1, 176, 1891, 1, 586,...</td>\n",
       "      <td>1</td>\n",
       "    </tr>\n",
       "  </tbody>\n",
       "</table>\n",
       "</div>"
      ],
      "text/plain": [
       "                                                text  label\n",
       "0  [126, 2621, 1, 917, 290, 1, 230, 30, 917, 1084...      0\n",
       "1  [6, 142, 27, 54, 45, 34, 57, 48, 144, 462, 189...      0\n",
       "2  [1576, 14, 33, 361, 506, 1, 176, 1891, 1, 586,...      1"
      ]
     },
     "metadata": {},
     "output_type": "display_data"
    },
    {
     "data": {
      "text/html": [
       "<div>\n",
       "<style scoped>\n",
       "    .dataframe tbody tr th:only-of-type {\n",
       "        vertical-align: middle;\n",
       "    }\n",
       "\n",
       "    .dataframe tbody tr th {\n",
       "        vertical-align: top;\n",
       "    }\n",
       "\n",
       "    .dataframe thead th {\n",
       "        text-align: right;\n",
       "    }\n",
       "</style>\n",
       "<table border=\"1\" class=\"dataframe\">\n",
       "  <thead>\n",
       "    <tr style=\"text-align: right;\">\n",
       "      <th></th>\n",
       "      <th>text</th>\n",
       "      <th>label</th>\n",
       "    </tr>\n",
       "  </thead>\n",
       "  <tbody>\n",
       "    <tr>\n",
       "      <th>0</th>\n",
       "      <td>[far, racist, ghettoish, cartoon, children, 7+...</td>\n",
       "      <td>0</td>\n",
       "    </tr>\n",
       "    <tr>\n",
       "      <th>1</th>\n",
       "      <td>[one, worst, movies, 've, ever, seen, 'm, stil...</td>\n",
       "      <td>0</td>\n",
       "    </tr>\n",
       "    <tr>\n",
       "      <th>2</th>\n",
       "      <td>[thin, story, many, fine, shots, eyecatchers, ...</td>\n",
       "      <td>1</td>\n",
       "    </tr>\n",
       "  </tbody>\n",
       "</table>\n",
       "</div>"
      ],
      "text/plain": [
       "                                                text  label\n",
       "0  [far, racist, ghettoish, cartoon, children, 7+...      0\n",
       "1  [one, worst, movies, 've, ever, seen, 'm, stil...      0\n",
       "2  [thin, story, many, fine, shots, eyecatchers, ...      1"
      ]
     },
     "metadata": {},
     "output_type": "display_data"
    }
   ],
   "source": [
    "max_len = 300 # Maximum length of words in a review (context window)\n",
    "\n",
    "# Create a word to index mapping\n",
    "word_to_idx = {word: idx for idx, word in enumerate(vocab)}\n",
    "\n",
    "# Convert the reviews to indices\n",
    "df_train['text'] = df_train['text'].apply(lambda x: [word_to_idx.get(word, 1) for word in x]) # 1 is the index of '<UNK>' token\n",
    "df_test['text'] = df_test['text'].apply(lambda x: [word_to_idx.get(word, 1) for word in x])\n",
    "\n",
    "# Truncate and pad the reviews\n",
    "df_train['text'] = df_train['text'].apply(lambda x: x[:max_len] if len(x) > max_len else x + [0] * (max_len - len(x))) # Pad with zeros as the index of '<PAD>' is 0\n",
    "df_test['text'] = df_test['text'].apply(lambda x: x[:max_len] if len(x) > max_len else x + [0] * (max_len - len(x)))\n",
    "\n",
    "# print the first 3 reviews\n",
    "display(df_train.head(3), df_train_preprocessed.head(3))\n",
    "\n",
    "# Split test set into validation and test sets\n",
    "df_val = df_test.sample(frac=0.5)\n",
    "df_test = df_test.drop(df_val.index)\n",
    "\n",
    "# Convert data to lists\n",
    "X_train, y_train = df_train['text'].tolist(), df_train['label'].tolist()\n",
    "X_val, y_val = df_val['text'].tolist(), df_val['label'].tolist()\n",
    "X_test, y_test = df_test['text'].tolist(), df_test['label'].tolist()"
   ]
  },
  {
   "cell_type": "markdown",
   "id": "19f09244",
   "metadata": {
    "papermill": {
     "duration": 0.014492,
     "end_time": "2024-08-03T10:37:10.681398",
     "exception": false,
     "start_time": "2024-08-03T10:37:10.666906",
     "status": "completed"
    },
    "tags": []
   },
   "source": [
    "# **Training Phase**"
   ]
  },
  {
   "cell_type": "markdown",
   "id": "d83e3a30",
   "metadata": {
    "papermill": {
     "duration": 0.014289,
     "end_time": "2024-08-03T10:37:10.710340",
     "exception": false,
     "start_time": "2024-08-03T10:37:10.696051",
     "status": "completed"
    },
    "tags": []
   },
   "source": [
    "## RNN Model (Unidirectional)"
   ]
  },
  {
   "cell_type": "code",
   "execution_count": 9,
   "id": "a54732b1",
   "metadata": {
    "execution": {
     "iopub.execute_input": "2024-08-03T10:37:10.741482Z",
     "iopub.status.busy": "2024-08-03T10:37:10.740638Z",
     "iopub.status.idle": "2024-08-03T10:37:12.390743Z",
     "shell.execute_reply": "2024-08-03T10:37:12.389631Z"
    },
    "papermill": {
     "duration": 1.667914,
     "end_time": "2024-08-03T10:37:12.392783",
     "exception": false,
     "start_time": "2024-08-03T10:37:10.724869",
     "status": "completed"
    },
    "tags": []
   },
   "outputs": [
    {
     "name": "stdout",
     "output_type": "stream",
     "text": [
      "SentimentAnalyzer(\n",
      "  (embedding): Embedding(20002, 128, padding_idx=0)\n",
      "  (rnn): RNN(128, 256, num_layers=2, batch_first=True, dropout=0.3)\n",
      "  (fc): Linear(in_features=256, out_features=1, bias=True)\n",
      "  (sigmoid): Sigmoid()\n",
      "  (criterion): BCELoss()\n",
      ") \n",
      "Running on:  cuda\n",
      "Number of parameters: 2,790,913\n"
     ]
    }
   ],
   "source": [
    "# Same Parameters for all models\n",
    "embedding_dim = 128\n",
    "batch_size = 1024\n",
    "hidden_dim = 256\n",
    "dropout = 0.3\n",
    "n_layers = 2\n",
    "lr = 1e-3\n",
    "\n",
    "model_rnn = SentimentAnalyzer(model_type='rnn',\n",
    "                            vocab_size=len(vocab),\n",
    "                            embedding_dim=embedding_dim,\n",
    "                            hidden_dim=hidden_dim,\n",
    "                            bidirectional=False,\n",
    "                            dropout=dropout,\n",
    "                            pad_idx=0,\n",
    "                            n_layers=n_layers,\n",
    "                            lr=lr,\n",
    "                            verbose=True,\n",
    "                            gpu=True)\n",
    "\n",
    "early_stopping = EarlyStopping(patience=5, delta=0.01, path='weights/rnn.pth') # early stops after 3 consecutive epochs with minor loss decrease/increase\n",
    "scheduler = torch.optim.lr_scheduler.ReduceLROnPlateau(model_rnn.optimizer, mode='min', factor=0.1, patience=2) # reduces learning rate by factor of 0.1 when no improvement is seen"
   ]
  },
  {
   "cell_type": "code",
   "execution_count": 10,
   "id": "42d62632",
   "metadata": {
    "execution": {
     "iopub.execute_input": "2024-08-03T10:37:12.424043Z",
     "iopub.status.busy": "2024-08-03T10:37:12.423549Z",
     "iopub.status.idle": "2024-08-03T10:38:27.419009Z",
     "shell.execute_reply": "2024-08-03T10:38:27.418003Z"
    },
    "papermill": {
     "duration": 75.013651,
     "end_time": "2024-08-03T10:38:27.421334",
     "exception": false,
     "start_time": "2024-08-03T10:37:12.407683",
     "status": "completed"
    },
    "tags": []
   },
   "outputs": [
    {
     "name": "stderr",
     "output_type": "stream",
     "text": [
      "                                                                          \r"
     ]
    },
    {
     "name": "stdout",
     "output_type": "stream",
     "text": [
      "Epoch 1/12 - Train Loss: 0.7356 - Val Loss: 0.7122 - Acc: 0.5119 - F1: 0.3687 - Precision: 0.5258 - Recall: 0.2839 - lr: 0.001\n"
     ]
    },
    {
     "name": "stderr",
     "output_type": "stream",
     "text": [
      "                                                                          \r"
     ]
    },
    {
     "name": "stdout",
     "output_type": "stream",
     "text": [
      "Epoch 2/12 - Train Loss: 0.7391 - Val Loss: 0.7802 - Acc: 0.4916 - F1: 0.5982 - Precision: 0.4959 - Recall: 0.7536 - lr: 0.001\n"
     ]
    },
    {
     "name": "stderr",
     "output_type": "stream",
     "text": [
      "                                                                          \r"
     ]
    },
    {
     "name": "stdout",
     "output_type": "stream",
     "text": [
      "Epoch 3/12 - Train Loss: 0.7349 - Val Loss: 0.7129 - Acc: 0.5016 - F1: 0.6403 - Precision: 0.5021 - Recall: 0.8834 - lr: 0.001\n"
     ]
    },
    {
     "name": "stderr",
     "output_type": "stream",
     "text": [
      "                                                                          \r"
     ]
    },
    {
     "name": "stdout",
     "output_type": "stream",
     "text": [
      "Epoch 4/12 - Train Loss: 0.7085 - Val Loss: 0.7296 - Acc: 0.5029 - F1: 0.6443 - Precision: 0.5028 - Recall: 0.8967 - lr: 0.0001\n"
     ]
    },
    {
     "name": "stderr",
     "output_type": "stream",
     "text": [
      "                                                                          \r"
     ]
    },
    {
     "name": "stdout",
     "output_type": "stream",
     "text": [
      "Epoch 5/12 - Train Loss: 0.7046 - Val Loss: 0.6937 - Acc: 0.5017 - F1: 0.2950 - Precision: 0.5094 - Recall: 0.2076 - lr: 0.0001\n"
     ]
    },
    {
     "name": "stderr",
     "output_type": "stream",
     "text": [
      "                                                                          \r"
     ]
    },
    {
     "name": "stdout",
     "output_type": "stream",
     "text": [
      "Epoch 6/12 - Train Loss: 0.6994 - Val Loss: 0.6951 - Acc: 0.4953 - F1: 0.5763 - Precision: 0.4982 - Recall: 0.6835 - lr: 0.0001\n"
     ]
    },
    {
     "name": "stderr",
     "output_type": "stream",
     "text": [
      "                                                                        \r"
     ]
    },
    {
     "name": "stdout",
     "output_type": "stream",
     "text": [
      "Epoch 7/12 - Train Loss: 0.7003 - Val Loss: 0.6937 - Acc: 0.5039 - F1: 0.6090 - Precision: 0.5039 - Recall: 0.7695 - lr: 0.0001\n"
     ]
    },
    {
     "name": "stderr",
     "output_type": "stream",
     "text": [
      "                                                                          \r"
     ]
    },
    {
     "name": "stdout",
     "output_type": "stream",
     "text": [
      "Epoch 8/12 - Train Loss: 0.6990 - Val Loss: 0.6936 - Acc: 0.4985 - F1: 0.6105 - Precision: 0.5004 - Recall: 0.7828 - lr: 0.0001\n"
     ]
    },
    {
     "name": "stderr",
     "output_type": "stream",
     "text": [
      "                                                                          \r"
     ]
    },
    {
     "name": "stdout",
     "output_type": "stream",
     "text": [
      "Epoch 9/12 - Train Loss: 0.6987 - Val Loss: 0.6937 - Acc: 0.5100 - F1: 0.3625 - Precision: 0.5228 - Recall: 0.2775 - lr: 0.0001\n"
     ]
    },
    {
     "name": "stderr",
     "output_type": "stream",
     "text": [
      "                                                                           \r"
     ]
    },
    {
     "name": "stdout",
     "output_type": "stream",
     "text": [
      "Epoch 10/12 - Train Loss: 0.6981 - Val Loss: 0.6967 - Acc: 0.5013 - F1: 0.6347 - Precision: 0.5020 - Recall: 0.8627 - lr: 0.0001\n",
      "Early stopping...\n"
     ]
    }
   ],
   "source": [
    "history_rnn = model_rnn.fit(X_train,\n",
    "                        y_train,\n",
    "                        epochs=12,\n",
    "                        batch_size=batch_size,\n",
    "                        val_data=(X_val, y_val),\n",
    "                        early_stopping=early_stopping,\n",
    "                        scheduler=scheduler\n",
    "                        )"
   ]
  },
  {
   "cell_type": "code",
   "execution_count": 11,
   "id": "90f00415",
   "metadata": {
    "execution": {
     "iopub.execute_input": "2024-08-03T10:38:27.565549Z",
     "iopub.status.busy": "2024-08-03T10:38:27.565150Z",
     "iopub.status.idle": "2024-08-03T10:38:28.501827Z",
     "shell.execute_reply": "2024-08-03T10:38:28.500841Z"
    },
    "papermill": {
     "duration": 1.010565,
     "end_time": "2024-08-03T10:38:28.503916",
     "exception": false,
     "start_time": "2024-08-03T10:38:27.493351",
     "status": "completed"
    },
    "tags": []
   },
   "outputs": [
    {
     "name": "stdout",
     "output_type": "stream",
     "text": [
      "Loss: 0.6964, Accuracy: 0.4997, F1: 0.6328, Precision: 0.4994, Recall: 0.8635\n"
     ]
    }
   ],
   "source": [
    "# evaluate the model\n",
    "loss, acc, f1, precision, recall = model_rnn.evaluate((X_test, y_test), batch_size=256)\n",
    "print(f'Loss: {loss:.4f}, Accuracy: {acc:.4f}, F1: {f1:.4f}, Precision: {precision:.4f}, Recall: {recall:.4f}')"
   ]
  },
  {
   "cell_type": "markdown",
   "id": "233d08fe",
   "metadata": {
    "papermill": {
     "duration": 0.070047,
     "end_time": "2024-08-03T10:38:28.647641",
     "exception": false,
     "start_time": "2024-08-03T10:38:28.577594",
     "status": "completed"
    },
    "tags": []
   },
   "source": [
    "## RNN Model (Bidirectional)"
   ]
  },
  {
   "cell_type": "code",
   "execution_count": 12,
   "id": "57ef7040",
   "metadata": {
    "execution": {
     "iopub.execute_input": "2024-08-03T10:38:28.791695Z",
     "iopub.status.busy": "2024-08-03T10:38:28.791325Z",
     "iopub.status.idle": "2024-08-03T10:38:28.854226Z",
     "shell.execute_reply": "2024-08-03T10:38:28.853251Z"
    },
    "papermill": {
     "duration": 0.1372,
     "end_time": "2024-08-03T10:38:28.856312",
     "exception": false,
     "start_time": "2024-08-03T10:38:28.719112",
     "status": "completed"
    },
    "tags": []
   },
   "outputs": [
    {
     "name": "stdout",
     "output_type": "stream",
     "text": [
      "SentimentAnalyzer(\n",
      "  (embedding): Embedding(20002, 128, padding_idx=0)\n",
      "  (rnn): RNN(128, 256, num_layers=2, batch_first=True, dropout=0.3, bidirectional=True)\n",
      "  (fc): Linear(in_features=512, out_features=1, bias=True)\n",
      "  (sigmoid): Sigmoid()\n",
      "  (criterion): BCELoss()\n",
      ") \n",
      "Running on:  cuda\n",
      "Number of parameters: 3,152,641\n"
     ]
    }
   ],
   "source": [
    "model_rnn_bi = SentimentAnalyzer(model_type='rnn',\n",
    "                            vocab_size=len(vocab),\n",
    "                            embedding_dim=embedding_dim,\n",
    "                            hidden_dim=hidden_dim,\n",
    "                            bidirectional=True, # Bidirectional\n",
    "                            dropout=dropout,\n",
    "                            pad_idx=0,\n",
    "                            n_layers=n_layers,\n",
    "                            lr=lr,\n",
    "                            verbose=True,\n",
    "                            gpu=True)\n",
    "\n",
    "early_stopping = EarlyStopping(patience=5, delta=0.01, path='weights/rnn_bi.pth') # early stops after 3 consecutive epochs with minor loss decrease/increase\n",
    "scheduler = torch.optim.lr_scheduler.ReduceLROnPlateau(model_rnn_bi.optimizer, mode='min', factor=0.1, patience=3) # reduces learning rate by factor of 0.1 when no improvement is seen"
   ]
  },
  {
   "cell_type": "code",
   "execution_count": 13,
   "id": "e6e19c73",
   "metadata": {
    "execution": {
     "iopub.execute_input": "2024-08-03T10:38:29.001989Z",
     "iopub.status.busy": "2024-08-03T10:38:29.001105Z",
     "iopub.status.idle": "2024-08-03T10:41:35.119973Z",
     "shell.execute_reply": "2024-08-03T10:41:35.118942Z"
    },
    "papermill": {
     "duration": 186.193199,
     "end_time": "2024-08-03T10:41:35.122204",
     "exception": false,
     "start_time": "2024-08-03T10:38:28.929005",
     "status": "completed"
    },
    "tags": []
   },
   "outputs": [
    {
     "name": "stderr",
     "output_type": "stream",
     "text": [
      "                                                                          \r"
     ]
    },
    {
     "name": "stdout",
     "output_type": "stream",
     "text": [
      "Epoch 1/12 - Train Loss: 0.9767 - Val Loss: 0.8200 - Acc: 0.5137 - F1: 0.6625 - Precision: 0.5085 - Recall: 0.9503 - lr: 0.001\n"
     ]
    },
    {
     "name": "stderr",
     "output_type": "stream",
     "text": [
      "                                                                          \r"
     ]
    },
    {
     "name": "stdout",
     "output_type": "stream",
     "text": [
      "Epoch 2/12 - Train Loss: 0.8985 - Val Loss: 0.7529 - Acc: 0.5068 - F1: 0.0989 - Precision: 0.5988 - Recall: 0.0539 - lr: 0.001\n"
     ]
    },
    {
     "name": "stderr",
     "output_type": "stream",
     "text": [
      "                                                                          \r"
     ]
    },
    {
     "name": "stdout",
     "output_type": "stream",
     "text": [
      "Epoch 3/12 - Train Loss: 0.7675 - Val Loss: 0.7030 - Acc: 0.5059 - F1: 0.5214 - Precision: 0.5075 - Recall: 0.5361 - lr: 0.001\n"
     ]
    },
    {
     "name": "stderr",
     "output_type": "stream",
     "text": [
      "                                                                         \r"
     ]
    },
    {
     "name": "stdout",
     "output_type": "stream",
     "text": [
      "Epoch 4/12 - Train Loss: 0.7096 - Val Loss: 0.7810 - Acc: 0.4979 - F1: 0.0000 - Precision: 0.0000 - Recall: 0.0000 - lr: 0.001\n"
     ]
    },
    {
     "name": "stderr",
     "output_type": "stream",
     "text": [
      "                                                                          \r"
     ]
    },
    {
     "name": "stdout",
     "output_type": "stream",
     "text": [
      "Epoch 5/12 - Train Loss: 0.7016 - Val Loss: 0.7034 - Acc: 0.5004 - F1: 0.5490 - Precision: 0.5021 - Recall: 0.6057 - lr: 0.001\n"
     ]
    },
    {
     "name": "stderr",
     "output_type": "stream",
     "text": [
      "                                                                          \r"
     ]
    },
    {
     "name": "stdout",
     "output_type": "stream",
     "text": [
      "Epoch 6/12 - Train Loss: 0.6847 - Val Loss: 0.7909 - Acc: 0.5045 - F1: 0.6674 - Precision: 0.5034 - Recall: 0.9899 - lr: 0.001\n"
     ]
    },
    {
     "name": "stderr",
     "output_type": "stream",
     "text": [
      "                                                                          \r"
     ]
    },
    {
     "name": "stdout",
     "output_type": "stream",
     "text": [
      "Epoch 7/12 - Train Loss: 0.6928 - Val Loss: 0.7469 - Acc: 0.5491 - F1: 0.5269 - Precision: 0.5568 - Recall: 0.5000 - lr: 0.0001\n"
     ]
    },
    {
     "name": "stderr",
     "output_type": "stream",
     "text": [
      "                                                                         \r"
     ]
    },
    {
     "name": "stdout",
     "output_type": "stream",
     "text": [
      "Epoch 8/12 - Train Loss: 0.6596 - Val Loss: 0.6855 - Acc: 0.5559 - F1: 0.5453 - Precision: 0.5611 - Recall: 0.5303 - lr: 0.0001\n"
     ]
    },
    {
     "name": "stderr",
     "output_type": "stream",
     "text": [
      "                                                                          \r"
     ]
    },
    {
     "name": "stdout",
     "output_type": "stream",
     "text": [
      "Epoch 9/12 - Train Loss: 0.6327 - Val Loss: 0.6984 - Acc: 0.5565 - F1: 0.5244 - Precision: 0.5682 - Recall: 0.4870 - lr: 0.0001\n"
     ]
    },
    {
     "name": "stderr",
     "output_type": "stream",
     "text": [
      "                                                                           \r"
     ]
    },
    {
     "name": "stdout",
     "output_type": "stream",
     "text": [
      "Epoch 10/12 - Train Loss: 0.6380 - Val Loss: 0.7307 - Acc: 0.5507 - F1: 0.4094 - Precision: 0.6021 - Recall: 0.3101 - lr: 0.0001\n"
     ]
    },
    {
     "name": "stderr",
     "output_type": "stream",
     "text": [
      "                                                                           \r"
     ]
    },
    {
     "name": "stdout",
     "output_type": "stream",
     "text": [
      "Epoch 11/12 - Train Loss: 0.6248 - Val Loss: 0.7001 - Acc: 0.5555 - F1: 0.5074 - Precision: 0.5720 - Recall: 0.4559 - lr: 0.0001\n"
     ]
    },
    {
     "name": "stderr",
     "output_type": "stream",
     "text": [
      "                                                                           \r"
     ]
    },
    {
     "name": "stdout",
     "output_type": "stream",
     "text": [
      "Epoch 12/12 - Train Loss: 0.6206 - Val Loss: 0.6981 - Acc: 0.5531 - F1: 0.5021 - Precision: 0.5698 - Recall: 0.4488 - lr: 1e-05\n"
     ]
    }
   ],
   "source": [
    "# Train the model\n",
    "history_rnn_bi = model_rnn_bi.fit(X_train,\n",
    "                        y_train,\n",
    "                        epochs=12,\n",
    "                        batch_size=batch_size,\n",
    "                        val_data=(X_val, y_val),\n",
    "                        early_stopping=early_stopping,\n",
    "                        scheduler=scheduler\n",
    "                        )"
   ]
  },
  {
   "cell_type": "code",
   "execution_count": 14,
   "id": "6754f403",
   "metadata": {
    "execution": {
     "iopub.execute_input": "2024-08-03T10:41:35.404379Z",
     "iopub.status.busy": "2024-08-03T10:41:35.403622Z",
     "iopub.status.idle": "2024-08-03T10:41:37.016968Z",
     "shell.execute_reply": "2024-08-03T10:41:37.016051Z"
    },
    "papermill": {
     "duration": 1.756222,
     "end_time": "2024-08-03T10:41:37.019267",
     "exception": false,
     "start_time": "2024-08-03T10:41:35.263045",
     "status": "completed"
    },
    "tags": []
   },
   "outputs": [
    {
     "name": "stdout",
     "output_type": "stream",
     "text": [
      "Loss: 0.6916, Accuracy: 0.5617, F1: 0.5548, Precision: 0.5628, Recall: 0.5470\n"
     ]
    }
   ],
   "source": [
    "# evaluate the model\n",
    "loss, acc, f1, precision, recall = model_rnn_bi.evaluate((X_test, y_test), batch_size=256)\n",
    "print(f'Loss: {loss:.4f}, Accuracy: {acc:.4f}, F1: {f1:.4f}, Precision: {precision:.4f}, Recall: {recall:.4f}')"
   ]
  },
  {
   "cell_type": "markdown",
   "id": "4a642885",
   "metadata": {
    "papermill": {
     "duration": 0.138563,
     "end_time": "2024-08-03T10:41:37.300342",
     "exception": false,
     "start_time": "2024-08-03T10:41:37.161779",
     "status": "completed"
    },
    "tags": []
   },
   "source": [
    "## LSTM Model (Unidirectional)"
   ]
  },
  {
   "cell_type": "code",
   "execution_count": 15,
   "id": "6140dade",
   "metadata": {
    "execution": {
     "iopub.execute_input": "2024-08-03T10:41:37.582582Z",
     "iopub.status.busy": "2024-08-03T10:41:37.582107Z",
     "iopub.status.idle": "2024-08-03T10:41:37.651164Z",
     "shell.execute_reply": "2024-08-03T10:41:37.650052Z"
    },
    "papermill": {
     "duration": 0.212529,
     "end_time": "2024-08-03T10:41:37.653115",
     "exception": false,
     "start_time": "2024-08-03T10:41:37.440586",
     "status": "completed"
    },
    "tags": []
   },
   "outputs": [
    {
     "name": "stdout",
     "output_type": "stream",
     "text": [
      "SentimentAnalyzer(\n",
      "  (embedding): Embedding(20002, 128, padding_idx=0)\n",
      "  (rnn): LSTM(128, 256, num_layers=2, batch_first=True, dropout=0.3)\n",
      "  (fc): Linear(in_features=256, out_features=1, bias=True)\n",
      "  (sigmoid): Sigmoid()\n",
      "  (criterion): BCELoss()\n",
      ") \n",
      "Running on:  cuda\n",
      "Number of parameters: 3,482,113\n"
     ]
    }
   ],
   "source": [
    "model_lstm = SentimentAnalyzer(model_type='lstm',\n",
    "                            vocab_size=len(vocab),\n",
    "                            embedding_dim=embedding_dim,\n",
    "                            hidden_dim=hidden_dim,\n",
    "                            bidirectional=False,\n",
    "                            dropout=dropout,\n",
    "                            pad_idx=0,\n",
    "                            n_layers=n_layers,\n",
    "                            lr=lr,\n",
    "                            verbose=True,\n",
    "                            gpu=True)\n",
    "\n",
    "early_stopping = EarlyStopping(patience=5, delta=0.01, path='weights/lstm.pth') # early stops after 3 consecutive epochs with minor loss decrease/increase\n",
    "scheduler = torch.optim.lr_scheduler.ReduceLROnPlateau(model_lstm.optimizer, mode='min', factor=0.1, patience=1) # reduces learning rate by factor of 0.1 when no improvement is seen"
   ]
  },
  {
   "cell_type": "code",
   "execution_count": 16,
   "id": "a2092931",
   "metadata": {
    "execution": {
     "iopub.execute_input": "2024-08-03T10:41:37.933619Z",
     "iopub.status.busy": "2024-08-03T10:41:37.933260Z",
     "iopub.status.idle": "2024-08-03T10:42:52.752959Z",
     "shell.execute_reply": "2024-08-03T10:42:52.751930Z"
    },
    "papermill": {
     "duration": 74.962226,
     "end_time": "2024-08-03T10:42:52.755011",
     "exception": false,
     "start_time": "2024-08-03T10:41:37.792785",
     "status": "completed"
    },
    "tags": []
   },
   "outputs": [
    {
     "name": "stderr",
     "output_type": "stream",
     "text": [
      "                                                                          \r"
     ]
    },
    {
     "name": "stdout",
     "output_type": "stream",
     "text": [
      "Epoch 1/12 - Train Loss: 0.7256 - Val Loss: 0.6939 - Acc: 0.5021 - F1: 0.6686 - Precision: 0.5021 - Recall: 1.0000 - lr: 0.001\n"
     ]
    },
    {
     "name": "stderr",
     "output_type": "stream",
     "text": [
      "                                                                          \r"
     ]
    },
    {
     "name": "stdout",
     "output_type": "stream",
     "text": [
      "Epoch 2/12 - Train Loss: 0.6942 - Val Loss: 0.6933 - Acc: 0.5021 - F1: 0.6686 - Precision: 0.5021 - Recall: 1.0000 - lr: 0.001\n"
     ]
    },
    {
     "name": "stderr",
     "output_type": "stream",
     "text": [
      "                                                                          \r"
     ]
    },
    {
     "name": "stdout",
     "output_type": "stream",
     "text": [
      "Epoch 3/12 - Train Loss: 0.6940 - Val Loss: 0.6935 - Acc: 0.5021 - F1: 0.6686 - Precision: 0.5021 - Recall: 1.0000 - lr: 0.001\n"
     ]
    },
    {
     "name": "stderr",
     "output_type": "stream",
     "text": [
      "                                                                          \r"
     ]
    },
    {
     "name": "stdout",
     "output_type": "stream",
     "text": [
      "Epoch 4/12 - Train Loss: 0.6943 - Val Loss: 0.6936 - Acc: 0.5021 - F1: 0.6686 - Precision: 0.5021 - Recall: 1.0000 - lr: 0.0001\n"
     ]
    },
    {
     "name": "stderr",
     "output_type": "stream",
     "text": [
      "                                                                          \r"
     ]
    },
    {
     "name": "stdout",
     "output_type": "stream",
     "text": [
      "Epoch 5/12 - Train Loss: 0.6936 - Val Loss: 0.6932 - Acc: 0.5021 - F1: 0.6686 - Precision: 0.5021 - Recall: 1.0000 - lr: 0.0001\n"
     ]
    },
    {
     "name": "stderr",
     "output_type": "stream",
     "text": [
      "                                                                          \r"
     ]
    },
    {
     "name": "stdout",
     "output_type": "stream",
     "text": [
      "Epoch 6/12 - Train Loss: 0.6933 - Val Loss: 0.6931 - Acc: 0.5021 - F1: 0.6686 - Precision: 0.5021 - Recall: 1.0000 - lr: 0.0001\n",
      "Early stopping...\n"
     ]
    }
   ],
   "source": [
    "history_lstm = model_lstm.fit(X_train,\n",
    "                        y_train,\n",
    "                        epochs=12,\n",
    "                        batch_size=batch_size,\n",
    "                        val_data=(X_val, y_val),\n",
    "                        early_stopping=early_stopping,\n",
    "                        scheduler=scheduler\n",
    "                        )"
   ]
  },
  {
   "cell_type": "code",
   "execution_count": 17,
   "id": "0c7a9fb5",
   "metadata": {
    "execution": {
     "iopub.execute_input": "2024-08-03T10:42:53.127545Z",
     "iopub.status.busy": "2024-08-03T10:42:53.126756Z",
     "iopub.status.idle": "2024-08-03T10:42:55.239737Z",
     "shell.execute_reply": "2024-08-03T10:42:55.238584Z"
    },
    "papermill": {
     "duration": 2.312503,
     "end_time": "2024-08-03T10:42:55.242286",
     "exception": false,
     "start_time": "2024-08-03T10:42:52.929783",
     "status": "completed"
    },
    "tags": []
   },
   "outputs": [
    {
     "name": "stdout",
     "output_type": "stream",
     "text": [
      "Loss: 0.6932, Accuracy: 0.4992, F1: 0.6660, Precision: 0.4992, Recall: 1.0000\n"
     ]
    }
   ],
   "source": [
    "# evaluate the model\n",
    "loss, acc, f1, precision, recall = model_lstm.evaluate((X_test, y_test), batch_size=256)\n",
    "print(f'Loss: {loss:.4f}, Accuracy: {acc:.4f}, F1: {f1:.4f}, Precision: {precision:.4f}, Recall: {recall:.4f}')"
   ]
  },
  {
   "cell_type": "markdown",
   "id": "dc59e723",
   "metadata": {
    "papermill": {
     "duration": 0.174021,
     "end_time": "2024-08-03T10:42:55.597754",
     "exception": false,
     "start_time": "2024-08-03T10:42:55.423733",
     "status": "completed"
    },
    "tags": []
   },
   "source": [
    "## LSTM Model (Bidirectional)"
   ]
  },
  {
   "cell_type": "code",
   "execution_count": 18,
   "id": "4b28710b",
   "metadata": {
    "execution": {
     "iopub.execute_input": "2024-08-03T10:42:55.945988Z",
     "iopub.status.busy": "2024-08-03T10:42:55.945101Z",
     "iopub.status.idle": "2024-08-03T10:42:56.040363Z",
     "shell.execute_reply": "2024-08-03T10:42:56.039264Z"
    },
    "papermill": {
     "duration": 0.272579,
     "end_time": "2024-08-03T10:42:56.042447",
     "exception": false,
     "start_time": "2024-08-03T10:42:55.769868",
     "status": "completed"
    },
    "tags": []
   },
   "outputs": [
    {
     "name": "stdout",
     "output_type": "stream",
     "text": [
      "SentimentAnalyzer(\n",
      "  (embedding): Embedding(20002, 128, padding_idx=0)\n",
      "  (rnn): LSTM(128, 256, num_layers=2, batch_first=True, dropout=0.3, bidirectional=True)\n",
      "  (fc): Linear(in_features=512, out_features=1, bias=True)\n",
      "  (sigmoid): Sigmoid()\n",
      "  (criterion): BCELoss()\n",
      ") \n",
      "Running on:  cuda\n",
      "Number of parameters: 4,928,257\n"
     ]
    }
   ],
   "source": [
    "model_lstm_bi = SentimentAnalyzer(model_type='lstm',\n",
    "                            vocab_size=len(vocab),\n",
    "                            embedding_dim=embedding_dim,\n",
    "                            hidden_dim=hidden_dim,\n",
    "                            bidirectional=True, # Bidirectional LSTM\n",
    "                            dropout=dropout,\n",
    "                            pad_idx=0,\n",
    "                            n_layers=n_layers,\n",
    "                            lr=lr,\n",
    "                            verbose=True,\n",
    "                            gpu=True)\n",
    "\n",
    "early_stopping = EarlyStopping(patience=5, delta=0.01, path='weights/lstm_bi.pth') # early stops after 3 consecutive epochs with minor loss decrease/increase\n",
    "scheduler = torch.optim.lr_scheduler.ReduceLROnPlateau(model_lstm_bi.optimizer, mode='min', factor=0.1, patience=1) # reduces learning rate by factor of 0.1 when no improvement is seen"
   ]
  },
  {
   "cell_type": "code",
   "execution_count": 19,
   "id": "f32f7477",
   "metadata": {
    "execution": {
     "iopub.execute_input": "2024-08-03T10:42:56.395353Z",
     "iopub.status.busy": "2024-08-03T10:42:56.394959Z",
     "iopub.status.idle": "2024-08-03T10:48:51.619239Z",
     "shell.execute_reply": "2024-08-03T10:48:51.617981Z"
    },
    "papermill": {
     "duration": 355.403869,
     "end_time": "2024-08-03T10:48:51.621540",
     "exception": false,
     "start_time": "2024-08-03T10:42:56.217671",
     "status": "completed"
    },
    "tags": []
   },
   "outputs": [
    {
     "name": "stderr",
     "output_type": "stream",
     "text": [
      "                                                                         \r"
     ]
    },
    {
     "name": "stdout",
     "output_type": "stream",
     "text": [
      "Epoch 1/12 - Train Loss: 0.7404 - Val Loss: 0.6931 - Acc: 0.5021 - F1: 0.6686 - Precision: 0.5021 - Recall: 1.0000 - lr: 0.001\n"
     ]
    },
    {
     "name": "stderr",
     "output_type": "stream",
     "text": [
      "                                                                          \r"
     ]
    },
    {
     "name": "stdout",
     "output_type": "stream",
     "text": [
      "Epoch 2/12 - Train Loss: 0.6928 - Val Loss: 0.6896 - Acc: 0.5239 - F1: 0.1146 - Precision: 0.8652 - Recall: 0.0613 - lr: 0.001\n"
     ]
    },
    {
     "name": "stderr",
     "output_type": "stream",
     "text": [
      "                                                                          \r"
     ]
    },
    {
     "name": "stdout",
     "output_type": "stream",
     "text": [
      "Epoch 3/12 - Train Loss: 0.7007 - Val Loss: 0.7500 - Acc: 0.4979 - F1: 0.0000 - Precision: 0.0000 - Recall: 0.0000 - lr: 0.001\n"
     ]
    },
    {
     "name": "stderr",
     "output_type": "stream",
     "text": [
      "                                                                          \r"
     ]
    },
    {
     "name": "stdout",
     "output_type": "stream",
     "text": [
      "Epoch 4/12 - Train Loss: 0.6555 - Val Loss: 0.5664 - Acc: 0.7141 - F1: 0.7440 - Precision: 0.6759 - Recall: 0.8274 - lr: 0.001\n"
     ]
    },
    {
     "name": "stderr",
     "output_type": "stream",
     "text": [
      "                                                                          \r"
     ]
    },
    {
     "name": "stdout",
     "output_type": "stream",
     "text": [
      "Epoch 5/12 - Train Loss: 0.4966 - Val Loss: 0.5380 - Acc: 0.7403 - F1: 0.7587 - Precision: 0.7110 - Recall: 0.8133 - lr: 0.001\n"
     ]
    },
    {
     "name": "stderr",
     "output_type": "stream",
     "text": [
      "                                                                          \r"
     ]
    },
    {
     "name": "stdout",
     "output_type": "stream",
     "text": [
      "Epoch 6/12 - Train Loss: 0.3593 - Val Loss: 0.5362 - Acc: 0.7740 - F1: 0.7918 - Precision: 0.7366 - Recall: 0.8561 - lr: 0.001\n"
     ]
    },
    {
     "name": "stderr",
     "output_type": "stream",
     "text": [
      "                                                                          \r"
     ]
    },
    {
     "name": "stdout",
     "output_type": "stream",
     "text": [
      "Epoch 7/12 - Train Loss: 0.3410 - Val Loss: 0.6156 - Acc: 0.7489 - F1: 0.7303 - Precision: 0.7927 - Recall: 0.6771 - lr: 0.001\n"
     ]
    },
    {
     "name": "stderr",
     "output_type": "stream",
     "text": [
      "                                                                          \r"
     ]
    },
    {
     "name": "stdout",
     "output_type": "stream",
     "text": [
      "Epoch 8/12 - Train Loss: 0.2907 - Val Loss: 0.6515 - Acc: 0.7681 - F1: 0.7471 - Precision: 0.8260 - Recall: 0.6819 - lr: 0.0001\n"
     ]
    },
    {
     "name": "stderr",
     "output_type": "stream",
     "text": [
      "                                                                          \r"
     ]
    },
    {
     "name": "stdout",
     "output_type": "stream",
     "text": [
      "Epoch 9/12 - Train Loss: 0.2332 - Val Loss: 0.4579 - Acc: 0.7901 - F1: 0.7747 - Precision: 0.8404 - Recall: 0.7185 - lr: 0.0001\n"
     ]
    },
    {
     "name": "stderr",
     "output_type": "stream",
     "text": [
      "                                                                           \r"
     ]
    },
    {
     "name": "stdout",
     "output_type": "stream",
     "text": [
      "Epoch 10/12 - Train Loss: 0.2050 - Val Loss: 0.4963 - Acc: 0.8043 - F1: 0.7977 - Precision: 0.8290 - Recall: 0.7687 - lr: 0.0001\n"
     ]
    },
    {
     "name": "stderr",
     "output_type": "stream",
     "text": [
      "                                                                           \r"
     ]
    },
    {
     "name": "stdout",
     "output_type": "stream",
     "text": [
      "Epoch 11/12 - Train Loss: 0.1844 - Val Loss: 0.4852 - Acc: 0.8143 - F1: 0.8128 - Precision: 0.8229 - Recall: 0.8030 - lr: 1e-05\n"
     ]
    },
    {
     "name": "stderr",
     "output_type": "stream",
     "text": [
      "                                                                           \r"
     ]
    },
    {
     "name": "stdout",
     "output_type": "stream",
     "text": [
      "Epoch 12/12 - Train Loss: 0.1712 - Val Loss: 0.4795 - Acc: 0.8112 - F1: 0.8098 - Precision: 0.8195 - Recall: 0.8003 - lr: 1e-05\n"
     ]
    }
   ],
   "source": [
    "history_lstm_bi = model_lstm_bi.fit(X_train,\n",
    "                        y_train,\n",
    "                        epochs=12,\n",
    "                        batch_size=batch_size,\n",
    "                        val_data=(X_val, y_val),\n",
    "                        early_stopping=early_stopping,\n",
    "                        scheduler=scheduler\n",
    "                        )"
   ]
  },
  {
   "cell_type": "code",
   "execution_count": 20,
   "id": "36ba0e7e",
   "metadata": {
    "execution": {
     "iopub.execute_input": "2024-08-03T10:48:52.175777Z",
     "iopub.status.busy": "2024-08-03T10:48:52.174859Z",
     "iopub.status.idle": "2024-08-03T10:48:55.417393Z",
     "shell.execute_reply": "2024-08-03T10:48:55.416188Z"
    },
    "papermill": {
     "duration": 3.540709,
     "end_time": "2024-08-03T10:48:55.419821",
     "exception": false,
     "start_time": "2024-08-03T10:48:51.879112",
     "status": "completed"
    },
    "tags": []
   },
   "outputs": [
    {
     "name": "stdout",
     "output_type": "stream",
     "text": [
      "Loss: 0.4550, Accuracy: 0.8264, F1: 0.8275, Precision: 0.8208, Recall: 0.8344\n"
     ]
    }
   ],
   "source": [
    "# evaluate the model\n",
    "loss, acc, f1, precision, recall = model_lstm_bi.evaluate((X_test, y_test), batch_size=256)\n",
    "print(f'Loss: {loss:.4f}, Accuracy: {acc:.4f}, F1: {f1:.4f}, Precision: {precision:.4f}, Recall: {recall:.4f}')"
   ]
  },
  {
   "cell_type": "markdown",
   "id": "31436a44",
   "metadata": {
    "papermill": {
     "duration": 0.245086,
     "end_time": "2024-08-03T10:48:55.922964",
     "exception": false,
     "start_time": "2024-08-03T10:48:55.677878",
     "status": "completed"
    },
    "tags": []
   },
   "source": [
    "## GRU Model (Unidirectional)"
   ]
  },
  {
   "cell_type": "code",
   "execution_count": 21,
   "id": "45ebaca4",
   "metadata": {
    "execution": {
     "iopub.execute_input": "2024-08-03T10:48:56.414336Z",
     "iopub.status.busy": "2024-08-03T10:48:56.413428Z",
     "iopub.status.idle": "2024-08-03T10:48:56.478130Z",
     "shell.execute_reply": "2024-08-03T10:48:56.476830Z"
    },
    "papermill": {
     "duration": 0.311175,
     "end_time": "2024-08-03T10:48:56.480441",
     "exception": false,
     "start_time": "2024-08-03T10:48:56.169266",
     "status": "completed"
    },
    "tags": []
   },
   "outputs": [
    {
     "name": "stdout",
     "output_type": "stream",
     "text": [
      "SentimentAnalyzer(\n",
      "  (embedding): Embedding(20002, 128, padding_idx=0)\n",
      "  (rnn): GRU(128, 256, num_layers=2, batch_first=True, dropout=0.3)\n",
      "  (fc): Linear(in_features=256, out_features=1, bias=True)\n",
      "  (sigmoid): Sigmoid()\n",
      "  (criterion): BCELoss()\n",
      ") \n",
      "Running on:  cuda\n",
      "Number of parameters: 3,251,713\n"
     ]
    }
   ],
   "source": [
    "model_gru = SentimentAnalyzer(model_type='gru',\n",
    "                            vocab_size=len(vocab),\n",
    "                            embedding_dim=embedding_dim,\n",
    "                            hidden_dim=hidden_dim,\n",
    "                            bidirectional=False,\n",
    "                            dropout=dropout,\n",
    "                            pad_idx=0,\n",
    "                            n_layers=n_layers,\n",
    "                            lr=lr,\n",
    "                            verbose=True,\n",
    "                            gpu=True)\n",
    "\n",
    "early_stopping = EarlyStopping(patience=5, delta=0.01, path='weights/gru.pth') # early stops after 3 consecutive epochs with minor loss decrease/increase\n",
    "scheduler = torch.optim.lr_scheduler.ReduceLROnPlateau(model_gru.optimizer, mode='min', factor=0.1, patience=2) # reduces learning rate by factor of 0.1 when no improvement is seen"
   ]
  },
  {
   "cell_type": "code",
   "execution_count": 22,
   "id": "02b61c39",
   "metadata": {
    "execution": {
     "iopub.execute_input": "2024-08-03T10:48:56.970417Z",
     "iopub.status.busy": "2024-08-03T10:48:56.970019Z",
     "iopub.status.idle": "2024-08-03T10:50:01.576145Z",
     "shell.execute_reply": "2024-08-03T10:50:01.574956Z"
    },
    "papermill": {
     "duration": 64.853526,
     "end_time": "2024-08-03T10:50:01.578270",
     "exception": false,
     "start_time": "2024-08-03T10:48:56.724744",
     "status": "completed"
    },
    "tags": []
   },
   "outputs": [
    {
     "name": "stderr",
     "output_type": "stream",
     "text": [
      "                                                                          \r"
     ]
    },
    {
     "name": "stdout",
     "output_type": "stream",
     "text": [
      "Epoch 1/12 - Train Loss: 0.6936 - Val Loss: 0.6929 - Acc: 0.5021 - F1: 0.6686 - Precision: 0.5021 - Recall: 1.0000 - lr: 0.001\n"
     ]
    },
    {
     "name": "stderr",
     "output_type": "stream",
     "text": [
      "                                                                          \r"
     ]
    },
    {
     "name": "stdout",
     "output_type": "stream",
     "text": [
      "Epoch 2/12 - Train Loss: 0.6920 - Val Loss: 0.6926 - Acc: 0.5071 - F1: 0.1089 - Precision: 0.5901 - Recall: 0.0600 - lr: 0.001\n"
     ]
    },
    {
     "name": "stderr",
     "output_type": "stream",
     "text": [
      "                                                                          \r"
     ]
    },
    {
     "name": "stdout",
     "output_type": "stream",
     "text": [
      "Epoch 3/12 - Train Loss: 0.6786 - Val Loss: 0.7075 - Acc: 0.5033 - F1: 0.6637 - Precision: 0.5028 - Recall: 0.9761 - lr: 0.001\n"
     ]
    },
    {
     "name": "stderr",
     "output_type": "stream",
     "text": [
      "                                                                         \r"
     ]
    },
    {
     "name": "stdout",
     "output_type": "stream",
     "text": [
      "Epoch 4/12 - Train Loss: 1.2347 - Val Loss: 0.7057 - Acc: 0.5059 - F1: 0.0753 - Precision: 0.6240 - Recall: 0.0401 - lr: 0.001\n"
     ]
    },
    {
     "name": "stderr",
     "output_type": "stream",
     "text": [
      "                                                                         \r"
     ]
    },
    {
     "name": "stdout",
     "output_type": "stream",
     "text": [
      "Epoch 5/12 - Train Loss: 0.6601 - Val Loss: 0.7151 - Acc: 0.5049 - F1: 0.6640 - Precision: 0.5036 - Recall: 0.9740 - lr: 0.0001\n"
     ]
    },
    {
     "name": "stderr",
     "output_type": "stream",
     "text": [
      "                                                                          \r"
     ]
    },
    {
     "name": "stdout",
     "output_type": "stream",
     "text": [
      "Epoch 6/12 - Train Loss: 0.6507 - Val Loss: 0.7212 - Acc: 0.5071 - F1: 0.6644 - Precision: 0.5048 - Recall: 0.9719 - lr: 0.0001\n",
      "Early stopping...\n"
     ]
    }
   ],
   "source": [
    "history_gru = model_gru.fit(X_train,\n",
    "                        y_train,\n",
    "                        epochs=12,\n",
    "                        batch_size=batch_size,\n",
    "                        val_data=(X_val, y_val),\n",
    "                        early_stopping=early_stopping,\n",
    "                        scheduler=scheduler\n",
    "                        )"
   ]
  },
  {
   "cell_type": "code",
   "execution_count": 23,
   "id": "b192bd40",
   "metadata": {
    "execution": {
     "iopub.execute_input": "2024-08-03T10:50:02.135426Z",
     "iopub.status.busy": "2024-08-03T10:50:02.134836Z",
     "iopub.status.idle": "2024-08-03T10:50:03.538532Z",
     "shell.execute_reply": "2024-08-03T10:50:03.537431Z"
    },
    "papermill": {
     "duration": 1.684559,
     "end_time": "2024-08-03T10:50:03.540853",
     "exception": false,
     "start_time": "2024-08-03T10:50:01.856294",
     "status": "completed"
    },
    "tags": []
   },
   "outputs": [
    {
     "name": "stdout",
     "output_type": "stream",
     "text": [
      "Loss: 0.7229, Accuracy: 0.5055, F1: 0.6621, Precision: 0.5024, Recall: 0.9706\n"
     ]
    }
   ],
   "source": [
    "# evaluate the model\n",
    "loss, acc, f1, precision, recall = model_gru.evaluate((X_test, y_test), batch_size=256)\n",
    "print(f'Loss: {loss:.4f}, Accuracy: {acc:.4f}, F1: {f1:.4f}, Precision: {precision:.4f}, Recall: {recall:.4f}')"
   ]
  },
  {
   "cell_type": "markdown",
   "id": "a54726c4",
   "metadata": {
    "papermill": {
     "duration": 0.286874,
     "end_time": "2024-08-03T10:50:04.136402",
     "exception": false,
     "start_time": "2024-08-03T10:50:03.849528",
     "status": "completed"
    },
    "tags": []
   },
   "source": [
    "## GRU Model (Bidirectional)"
   ]
  },
  {
   "cell_type": "code",
   "execution_count": 24,
   "id": "881994fc",
   "metadata": {
    "execution": {
     "iopub.execute_input": "2024-08-03T10:50:04.703741Z",
     "iopub.status.busy": "2024-08-03T10:50:04.703355Z",
     "iopub.status.idle": "2024-08-03T10:50:04.789208Z",
     "shell.execute_reply": "2024-08-03T10:50:04.788249Z"
    },
    "papermill": {
     "duration": 0.373791,
     "end_time": "2024-08-03T10:50:04.791318",
     "exception": false,
     "start_time": "2024-08-03T10:50:04.417527",
     "status": "completed"
    },
    "tags": []
   },
   "outputs": [
    {
     "name": "stdout",
     "output_type": "stream",
     "text": [
      "SentimentAnalyzer(\n",
      "  (embedding): Embedding(20002, 128, padding_idx=0)\n",
      "  (rnn): GRU(128, 256, num_layers=2, batch_first=True, dropout=0.3, bidirectional=True)\n",
      "  (fc): Linear(in_features=512, out_features=1, bias=True)\n",
      "  (sigmoid): Sigmoid()\n",
      "  (criterion): BCELoss()\n",
      ") \n",
      "Running on:  cuda\n",
      "Number of parameters: 4,336,385\n"
     ]
    }
   ],
   "source": [
    "model_gru_bi = SentimentAnalyzer(model_type='gru',\n",
    "                            vocab_size=len(vocab),\n",
    "                            embedding_dim=embedding_dim,\n",
    "                            hidden_dim=hidden_dim,\n",
    "                            bidirectional=True,\n",
    "                            dropout=dropout,\n",
    "                            pad_idx=0,\n",
    "                            n_layers=n_layers,\n",
    "                            lr=lr,\n",
    "                            verbose=True,\n",
    "                            gpu=True)\n",
    "\n",
    "early_stopping = EarlyStopping(patience=5, delta=0.01, path='weights/gru_bi.pth') # early stops after 3 consecutive epochs with minor loss decrease/increase\n",
    "scheduler = torch.optim.lr_scheduler.ReduceLROnPlateau(model_gru_bi.optimizer, mode='min', factor=0.1, patience=2) # reduces learning rate by factor of 0.1 when no improvement is seen"
   ]
  },
  {
   "cell_type": "code",
   "execution_count": 25,
   "id": "c2167731",
   "metadata": {
    "execution": {
     "iopub.execute_input": "2024-08-03T10:50:05.351640Z",
     "iopub.status.busy": "2024-08-03T10:50:05.351238Z",
     "iopub.status.idle": "2024-08-03T10:52:53.173000Z",
     "shell.execute_reply": "2024-08-03T10:52:53.172047Z"
    },
    "papermill": {
     "duration": 168.106186,
     "end_time": "2024-08-03T10:52:53.175285",
     "exception": false,
     "start_time": "2024-08-03T10:50:05.069099",
     "status": "completed"
    },
    "tags": []
   },
   "outputs": [
    {
     "name": "stderr",
     "output_type": "stream",
     "text": [
      "                                                                          \r"
     ]
    },
    {
     "name": "stdout",
     "output_type": "stream",
     "text": [
      "Epoch 1/12 - Train Loss: 0.6381 - Val Loss: 0.5192 - Acc: 0.7373 - F1: 0.7147 - Precision: 0.7860 - Recall: 0.6553 - lr: 0.001\n"
     ]
    },
    {
     "name": "stderr",
     "output_type": "stream",
     "text": [
      "                                                                          \r"
     ]
    },
    {
     "name": "stdout",
     "output_type": "stream",
     "text": [
      "Epoch 2/12 - Train Loss: 0.3736 - Val Loss: 0.3714 - Acc: 0.8325 - F1: 0.8497 - Precision: 0.7735 - Recall: 0.9424 - lr: 0.001\n"
     ]
    },
    {
     "name": "stderr",
     "output_type": "stream",
     "text": [
      "                                                                          \r"
     ]
    },
    {
     "name": "stdout",
     "output_type": "stream",
     "text": [
      "Epoch 3/12 - Train Loss: 0.4282 - Val Loss: 0.5554 - Acc: 0.7881 - F1: 0.7466 - Precision: 0.9345 - Recall: 0.6216 - lr: 0.001\n"
     ]
    },
    {
     "name": "stderr",
     "output_type": "stream",
     "text": [
      "                                                                          \r"
     ]
    },
    {
     "name": "stdout",
     "output_type": "stream",
     "text": [
      "Epoch 4/12 - Train Loss: 0.2414 - Val Loss: 0.4269 - Acc: 0.8353 - F1: 0.8396 - Precision: 0.8216 - Recall: 0.8585 - lr: 0.001\n"
     ]
    },
    {
     "name": "stderr",
     "output_type": "stream",
     "text": [
      "                                                                         \r"
     ]
    },
    {
     "name": "stdout",
     "output_type": "stream",
     "text": [
      "Epoch 5/12 - Train Loss: 0.1798 - Val Loss: 0.4667 - Acc: 0.8349 - F1: 0.8401 - Precision: 0.8181 - Recall: 0.8633 - lr: 0.0001\n"
     ]
    },
    {
     "name": "stderr",
     "output_type": "stream",
     "text": [
      "                                                                          \r"
     ]
    },
    {
     "name": "stdout",
     "output_type": "stream",
     "text": [
      "Epoch 6/12 - Train Loss: 0.1274 - Val Loss: 0.4553 - Acc: 0.8415 - F1: 0.8404 - Precision: 0.8497 - Recall: 0.8314 - lr: 0.0001\n"
     ]
    },
    {
     "name": "stderr",
     "output_type": "stream",
     "text": [
      "                                                                          \r"
     ]
    },
    {
     "name": "stdout",
     "output_type": "stream",
     "text": [
      "Epoch 7/12 - Train Loss: 0.1170 - Val Loss: 0.4630 - Acc: 0.8428 - F1: 0.8420 - Precision: 0.8499 - Recall: 0.8343 - lr: 0.0001\n",
      "Early stopping...\n"
     ]
    }
   ],
   "source": [
    "history_gru_bi = model_gru_bi.fit(X_train,\n",
    "                        y_train,\n",
    "                        epochs=12,\n",
    "                        batch_size=batch_size,\n",
    "                        val_data=(X_val, y_val),\n",
    "                        early_stopping=early_stopping,\n",
    "                        scheduler=scheduler\n",
    "                        )"
   ]
  },
  {
   "cell_type": "code",
   "execution_count": 26,
   "id": "f597bee0",
   "metadata": {
    "execution": {
     "iopub.execute_input": "2024-08-03T10:52:53.807885Z",
     "iopub.status.busy": "2024-08-03T10:52:53.807011Z",
     "iopub.status.idle": "2024-08-03T10:52:56.430818Z",
     "shell.execute_reply": "2024-08-03T10:52:56.429738Z"
    },
    "papermill": {
     "duration": 2.942259,
     "end_time": "2024-08-03T10:52:56.432806",
     "exception": false,
     "start_time": "2024-08-03T10:52:53.490547",
     "status": "completed"
    },
    "tags": []
   },
   "outputs": [
    {
     "name": "stdout",
     "output_type": "stream",
     "text": [
      "Loss: 0.4253, Accuracy: 0.8572, F1: 0.8568, Precision: 0.8576, Recall: 0.8560\n"
     ]
    }
   ],
   "source": [
    "# evaluate the model\n",
    "loss, acc, f1, precision, recall = model_gru_bi.evaluate((X_test, y_test), batch_size=256)\n",
    "print(f'Loss: {loss:.4f}, Accuracy: {acc:.4f}, F1: {f1:.4f}, Precision: {precision:.4f}, Recall: {recall:.4f}')"
   ]
  },
  {
   "cell_type": "markdown",
   "id": "63aa90a4",
   "metadata": {
    "papermill": {
     "duration": 0.369632,
     "end_time": "2024-08-03T10:52:57.119328",
     "exception": false,
     "start_time": "2024-08-03T10:52:56.749696",
     "status": "completed"
    },
    "tags": []
   },
   "source": [
    "## CNN Model"
   ]
  },
  {
   "cell_type": "code",
   "execution_count": 27,
   "id": "aa6cc32d",
   "metadata": {
    "execution": {
     "iopub.execute_input": "2024-08-03T10:52:57.753028Z",
     "iopub.status.busy": "2024-08-03T10:52:57.752144Z",
     "iopub.status.idle": "2024-08-03T10:52:57.805234Z",
     "shell.execute_reply": "2024-08-03T10:52:57.804298Z"
    },
    "papermill": {
     "duration": 0.372944,
     "end_time": "2024-08-03T10:52:57.807399",
     "exception": false,
     "start_time": "2024-08-03T10:52:57.434455",
     "status": "completed"
    },
    "tags": []
   },
   "outputs": [
    {
     "name": "stdout",
     "output_type": "stream",
     "text": [
      "SentimentAnalyzer(\n",
      "  (embedding): Embedding(20002, 128, padding_idx=0)\n",
      "  (conv1): Conv1d(128, 42, kernel_size=(3,), stride=(1,))\n",
      "  (conv2): Conv1d(42, 64, kernel_size=(3,), stride=(1,))\n",
      "  (conv3): Conv1d(64, 128, kernel_size=(3,), stride=(1,))\n",
      "  (pool): MaxPool1d(kernel_size=2, stride=2, padding=0, dilation=1, ceil_mode=False)\n",
      "  (relu): ReLU()\n",
      "  (fc): Linear(in_features=4480, out_features=1, bias=True)\n",
      "  (sigmoid): Sigmoid()\n",
      "  (criterion): BCELoss()\n",
      ") \n",
      "Running on:  cuda\n",
      "Number of parameters: 2,613,739\n"
     ]
    }
   ],
   "source": [
    "model_cnn = SentimentAnalyzer(model_type='cnn',\n",
    "                            vocab_size=len(vocab),\n",
    "                            embedding_dim=embedding_dim,\n",
    "                            hidden_dim=hidden_dim//2,\n",
    "                            dropout=dropout,\n",
    "                            pad_idx=0,\n",
    "                            n_layers=n_layers,\n",
    "                            lr=lr,\n",
    "                            verbose=True,\n",
    "                            gpu=True)\n",
    "\n",
    "early_stopping = EarlyStopping(patience=5, delta=0.01, path='weights/cnn.pth') # early stops after 3 consecutive epochs with minor loss decrease/increase\n",
    "scheduler = torch.optim.lr_scheduler.ReduceLROnPlateau(model_cnn.optimizer, mode='min', factor=0.1, patience=2) # reduces learning rate by factor of 0.1 when no improvement is seen"
   ]
  },
  {
   "cell_type": "code",
   "execution_count": 28,
   "id": "64563e69",
   "metadata": {
    "execution": {
     "iopub.execute_input": "2024-08-03T10:52:58.446018Z",
     "iopub.status.busy": "2024-08-03T10:52:58.445684Z",
     "iopub.status.idle": "2024-08-03T10:53:32.096520Z",
     "shell.execute_reply": "2024-08-03T10:53:32.095539Z"
    },
    "papermill": {
     "duration": 33.974862,
     "end_time": "2024-08-03T10:53:32.098807",
     "exception": false,
     "start_time": "2024-08-03T10:52:58.123945",
     "status": "completed"
    },
    "tags": []
   },
   "outputs": [
    {
     "name": "stderr",
     "output_type": "stream",
     "text": [
      "                                                                          \r"
     ]
    },
    {
     "name": "stdout",
     "output_type": "stream",
     "text": [
      "Epoch 1/12 - Train Loss: 0.6868 - Val Loss: 0.6457 - Acc: 0.7173 - F1: 0.7192 - Precision: 0.7175 - Recall: 0.7209 - lr: 0.001\n"
     ]
    },
    {
     "name": "stderr",
     "output_type": "stream",
     "text": [
      "                                                                          \r"
     ]
    },
    {
     "name": "stdout",
     "output_type": "stream",
     "text": [
      "Epoch 2/12 - Train Loss: 0.3885 - Val Loss: 0.3174 - Acc: 0.8689 - F1: 0.8776 - Precision: 0.8261 - Recall: 0.9360 - lr: 0.001\n"
     ]
    },
    {
     "name": "stderr",
     "output_type": "stream",
     "text": [
      "                                                                          \r"
     ]
    },
    {
     "name": "stdout",
     "output_type": "stream",
     "text": [
      "Epoch 3/12 - Train Loss: 0.1719 - Val Loss: 0.3184 - Acc: 0.8784 - F1: 0.8848 - Precision: 0.8439 - Recall: 0.9299 - lr: 0.001\n"
     ]
    },
    {
     "name": "stderr",
     "output_type": "stream",
     "text": [
      "                                                                          \r"
     ]
    },
    {
     "name": "stdout",
     "output_type": "stream",
     "text": [
      "Epoch 4/12 - Train Loss: 0.1069 - Val Loss: 0.6353 - Acc: 0.8105 - F1: 0.7768 - Precision: 0.9508 - Recall: 0.6567 - lr: 0.001\n"
     ]
    },
    {
     "name": "stderr",
     "output_type": "stream",
     "text": [
      "                                                                          \r"
     ]
    },
    {
     "name": "stdout",
     "output_type": "stream",
     "text": [
      "Epoch 5/12 - Train Loss: 0.1139 - Val Loss: 0.3683 - Acc: 0.8769 - F1: 0.8811 - Precision: 0.8558 - Recall: 0.9079 - lr: 0.0001\n"
     ]
    },
    {
     "name": "stderr",
     "output_type": "stream",
     "text": [
      "                                                                           \r"
     ]
    },
    {
     "name": "stdout",
     "output_type": "stream",
     "text": [
      "Epoch 6/12 - Train Loss: 0.0423 - Val Loss: 0.3658 - Acc: 0.8789 - F1: 0.8799 - Precision: 0.8764 - Recall: 0.8834 - lr: 0.0001\n"
     ]
    },
    {
     "name": "stderr",
     "output_type": "stream",
     "text": [
      "                                                                           \r"
     ]
    },
    {
     "name": "stdout",
     "output_type": "stream",
     "text": [
      "Epoch 7/12 - Train Loss: 0.0385 - Val Loss: 0.3713 - Acc: 0.8801 - F1: 0.8807 - Precision: 0.8801 - Recall: 0.8813 - lr: 0.0001\n",
      "Early stopping...\n"
     ]
    }
   ],
   "source": [
    "history_cnn = model_cnn.fit(X_train,\n",
    "                        y_train,\n",
    "                        epochs=12,\n",
    "                        batch_size=batch_size,\n",
    "                        val_data=(X_val, y_val),\n",
    "                        early_stopping=early_stopping,\n",
    "                        scheduler=scheduler\n",
    "                        )"
   ]
  },
  {
   "cell_type": "code",
   "execution_count": 29,
   "id": "34645d98",
   "metadata": {
    "execution": {
     "iopub.execute_input": "2024-08-03T10:53:32.886489Z",
     "iopub.status.busy": "2024-08-03T10:53:32.885511Z",
     "iopub.status.idle": "2024-08-03T10:53:33.396411Z",
     "shell.execute_reply": "2024-08-03T10:53:33.395508Z"
    },
    "papermill": {
     "duration": 0.919941,
     "end_time": "2024-08-03T10:53:33.398631",
     "exception": false,
     "start_time": "2024-08-03T10:53:32.478690",
     "status": "completed"
    },
    "tags": []
   },
   "outputs": [
    {
     "name": "stdout",
     "output_type": "stream",
     "text": [
      "Loss: 0.3421, Accuracy: 0.8869, F1: 0.8870, Precision: 0.8851, Recall: 0.8889\n"
     ]
    }
   ],
   "source": [
    "# evaluate the model\n",
    "loss, acc, f1, precision, recall = model_cnn.evaluate((X_test, y_test), batch_size=256)\n",
    "print(f'Loss: {loss:.4f}, Accuracy: {acc:.4f}, F1: {f1:.4f}, Precision: {precision:.4f}, Recall: {recall:.4f}')"
   ]
  },
  {
   "cell_type": "markdown",
   "id": "39a22ac8",
   "metadata": {
    "papermill": {
     "duration": 0.35961,
     "end_time": "2024-08-03T10:53:34.116257",
     "exception": false,
     "start_time": "2024-08-03T10:53:33.756647",
     "status": "completed"
    },
    "tags": []
   },
   "source": [
    "# Testing"
   ]
  },
  {
   "cell_type": "code",
   "execution_count": 30,
   "id": "0b43deb8",
   "metadata": {
    "execution": {
     "iopub.execute_input": "2024-08-03T10:53:34.838522Z",
     "iopub.status.busy": "2024-08-03T10:53:34.838120Z",
     "iopub.status.idle": "2024-08-03T10:53:35.009984Z",
     "shell.execute_reply": "2024-08-03T10:53:35.008922Z"
    },
    "papermill": {
     "duration": 0.535034,
     "end_time": "2024-08-03T10:53:35.012023",
     "exception": false,
     "start_time": "2024-08-03T10:53:34.476989",
     "status": "completed"
    },
    "tags": []
   },
   "outputs": [
    {
     "name": "stdout",
     "output_type": "stream",
     "text": [
      "RNN :\n",
      "Text 0: 0.5516 Text 1: 0.5524\n",
      "\n",
      "RNN (BI):\n",
      "Text 0: 0.4686 Text 1: 0.5048\n",
      "\n",
      "LSTM :\n",
      "Text 0: 0.5036 Text 1: 0.5036\n",
      "\n",
      "LSTM (BI):\n",
      "Text 0: 0.9745 Text 1: 0.0656\n",
      "\n",
      "GRU :\n",
      "Text 0: 0.5007 Text 1: 0.5007\n",
      "\n",
      "GRU (BI):\n",
      "Text 0: 0.9396 Text 1: 0.0448\n",
      "\n",
      "CNN :\n",
      "Text 0: 0.7386 Text 1: 0.279\n",
      "\n"
     ]
    }
   ],
   "source": [
    "txt_0 = 'The movie wasn\\'t too bad after all. I loved it a lot.' # positive\n",
    "txt_1 = 'The movie, acting, and actors were terrible. I hated it.' # negative\n",
    "\n",
    "# Preprocess the text\n",
    "txt_0 = Utils.tokenize_and_preprocess(txt_0, word_to_idx, max_len)\n",
    "txt_1 = Utils.tokenize_and_preprocess(txt_1, word_to_idx, max_len)\n",
    "\n",
    "# Get the predictions\n",
    "for i, model in enumerate([model_rnn, model_rnn_bi, model_lstm, model_lstm_bi, model_gru, model_gru_bi, model_cnn]):\n",
    "        pred_0 = model.predict([txt_0])\n",
    "        pred_1 = model.predict([txt_1])\n",
    "\n",
    "        bi_label = '(BI)' if i % 2 != 0 else ''\n",
    "        print(f'{model.model_type.upper()} {bi_label}:\\nText 0: {round(pred_0.item(), 4)} Text 1: {round(pred_1.item(), 4)}\\n')"
   ]
  },
  {
   "cell_type": "markdown",
   "id": "d31c8750",
   "metadata": {
    "papermill": {
     "duration": 0.36285,
     "end_time": "2024-08-03T10:53:35.736040",
     "exception": false,
     "start_time": "2024-08-03T10:53:35.373190",
     "status": "completed"
    },
    "tags": []
   },
   "source": [
    "# Comparison"
   ]
  },
  {
   "cell_type": "markdown",
   "id": "f3412ed4",
   "metadata": {
    "papermill": {
     "duration": 0.367457,
     "end_time": "2024-08-03T10:53:36.518271",
     "exception": false,
     "start_time": "2024-08-03T10:53:36.150814",
     "status": "completed"
    },
    "tags": []
   },
   "source": [
    "- Plots"
   ]
  },
  {
   "cell_type": "code",
   "execution_count": 31,
   "id": "7ee9fdd1",
   "metadata": {
    "execution": {
     "iopub.execute_input": "2024-08-03T10:53:37.248960Z",
     "iopub.status.busy": "2024-08-03T10:53:37.248081Z",
     "iopub.status.idle": "2024-08-03T10:53:39.087796Z",
     "shell.execute_reply": "2024-08-03T10:53:39.086869Z"
    },
    "papermill": {
     "duration": 2.213235,
     "end_time": "2024-08-03T10:53:39.092045",
     "exception": false,
     "start_time": "2024-08-03T10:53:36.878810",
     "status": "completed"
    },
    "tags": []
   },
   "outputs": [
    {
     "data": {
      "image/png": "[encoded data removed]",
      "text/plain": [
       "<Figure size 1500x800 with 6 Axes>"
      ]
     },
     "metadata": {},
     "output_type": "display_data"
    }
   ],
   "source": [
    "histories = {\n",
    "    'RNN': history_rnn,\n",
    "    'RNN (BI)': history_rnn_bi,\n",
    "    'LSTM': history_lstm,\n",
    "    'LSTM (BI)': history_lstm_bi,\n",
    "    'GRU': history_gru,\n",
    "    'GRU (BI)': history_gru_bi,\n",
    "    'CNN': history_cnn\n",
    "}\n",
    "\n",
    "Utils.plot_training_history(histories)"
   ]
  },
  {
   "cell_type": "markdown",
   "id": "0a9f064a",
   "metadata": {
    "papermill": {
     "duration": 0.363109,
     "end_time": "2024-08-03T10:53:39.817019",
     "exception": false,
     "start_time": "2024-08-03T10:53:39.453910",
     "status": "completed"
    },
    "tags": []
   },
   "source": [
    "- Confusion Matrix"
   ]
  },
  {
   "cell_type": "code",
   "execution_count": 32,
   "id": "1a740874",
   "metadata": {
    "execution": {
     "iopub.execute_input": "2024-08-03T10:53:40.600738Z",
     "iopub.status.busy": "2024-08-03T10:53:40.599849Z",
     "iopub.status.idle": "2024-08-03T10:53:54.859507Z",
     "shell.execute_reply": "2024-08-03T10:53:54.858553Z"
    },
    "papermill": {
     "duration": 14.626761,
     "end_time": "2024-08-03T10:53:54.861518",
     "exception": false,
     "start_time": "2024-08-03T10:53:40.234757",
     "status": "completed"
    },
    "tags": []
   },
   "outputs": [
    {
     "data": {
      "image/png": "[encoded data removed]",
      "text/plain": [
       "<Figure size 2000x1000 with 15 Axes>"
      ]
     },
     "metadata": {},
     "output_type": "display_data"
    }
   ],
   "source": [
    "# Get predictions\n",
    "y_pred_rnn, y_pred_rnn_bi, y_pred_lstm, y_pred_lstm_bi, y_pred_gru, y_pred_gru_bi, y_pred_cnn = model_rnn.predict(X_test), model_rnn_bi.predict(X_test), model_lstm.predict(X_test), model_lstm_bi.predict(X_test), model_gru.predict(X_test), model_gru_bi.predict(X_test), model_cnn.predict(X_test)\n",
    "\n",
    "models_preds = {\n",
    "        'RNN': y_pred_rnn,\n",
    "        'RNN (BI)': y_pred_rnn_bi,\n",
    "        'LSTM': y_pred_lstm,\n",
    "        'LSTM (BI)': y_pred_lstm_bi,\n",
    "        'GRU': y_pred_gru,\n",
    "        'GRU (BI)': y_pred_gru_bi,\n",
    "        'CNN': y_pred_cnn\n",
    "}\n",
    "\n",
    "# Plot the confusion matrix\n",
    "Utils.plot_confusion_matrices(y_test, models_preds)"
   ]
  },
  {
   "cell_type": "markdown",
   "id": "7d16c796",
   "metadata": {
    "papermill": {
     "duration": 0.366089,
     "end_time": "2024-08-03T10:53:55.592723",
     "exception": false,
     "start_time": "2024-08-03T10:53:55.226634",
     "status": "completed"
    },
    "tags": []
   },
   "source": [
    "- Comparison Table"
   ]
  },
  {
   "cell_type": "code",
   "execution_count": 33,
   "id": "d40922ae",
   "metadata": {
    "execution": {
     "iopub.execute_input": "2024-08-03T10:53:56.321194Z",
     "iopub.status.busy": "2024-08-03T10:53:56.320334Z",
     "iopub.status.idle": "2024-08-03T10:53:56.333346Z",
     "shell.execute_reply": "2024-08-03T10:53:56.332426Z"
    },
    "papermill": {
     "duration": 0.380678,
     "end_time": "2024-08-03T10:53:56.335263",
     "exception": false,
     "start_time": "2024-08-03T10:53:55.954585",
     "status": "completed"
    },
    "tags": []
   },
   "outputs": [
    {
     "name": "stdout",
     "output_type": "stream",
     "text": [
      "+-----------+------------+----------+----------+-----------+----------+--------+--------------------+---------------------+-------------------+------------+\n",
      "|   Model   | Train Loss | Val Loss | Accuracy | Precision | F1-Score | Recall | Time per Epoch (s) | Training Time (Min) | Memory Usage (MB) | Parameters |\n",
      "+-----------+------------+----------+----------+-----------+----------+--------+--------------------+---------------------+-------------------+------------+\n",
      "|    CNN    |   0.0385   |  0.3713  |  0.8801  |  0.8801   |  0.8807  | 0.8813 |         4          |        0.52         |        20         | 2,613,739  |\n",
      "| GRU (BI)  |   0.117    |  0.463   |  0.8428  |  0.8499   |  0.842   | 0.8343 |         22         |         2.6         |        33         | 4,336,385  |\n",
      "| LSTM (BI) |   0.1712   |  0.4795  |  0.8112  |  0.8195   |  0.8098  | 0.8003 |         28         |        5.53         |        38         | 4,928,257  |\n",
      "| RNN (BI)  |   0.6206   |  0.6981  |  0.5531  |  0.5698   |  0.5021  | 0.4488 |         14         |        2.84         |        24         | 3,152,641  |\n",
      "|    GRU    |   0.6507   |  0.7212  |  0.5071  |  0.5048   |  0.6644  | 0.9719 |         10         |        0.99         |        25         | 3,251,713  |\n",
      "|   LSTM    |   0.6933   |  0.6931  |  0.5021  |  0.5021   |  0.6686  |  1.0   |         11         |        1.14         |        27         | 3,482,113  |\n",
      "|    RNN    |   0.6981   |  0.6967  |  0.5013  |   0.502   |  0.6347  | 0.8627 |         7          |        1.14         |        21         | 2,790,913  |\n",
      "+-----------+------------+----------+----------+-----------+----------+--------+--------------------+---------------------+-------------------+------------+\n"
     ]
    }
   ],
   "source": [
    "models = {\n",
    "    'RNN': model_rnn,\n",
    "    'RNN (BI)': model_rnn_bi,\n",
    "    'LSTM': model_lstm,\n",
    "    'LSTM (BI)': model_lstm_bi,\n",
    "    'GRU': model_gru,\n",
    "    'GRU (BI)': model_gru_bi,\n",
    "    'CNN': model_cnn\n",
    "}\n",
    "\n",
    "Utils.generate_comparison_table(histories,\n",
    "                                models=models)"
   ]
  },
  {
   "cell_type": "markdown",
   "id": "ee5b8565",
   "metadata": {
    "papermill": {
     "duration": 0.424453,
     "end_time": "2024-08-03T10:53:57.122767",
     "exception": false,
     "start_time": "2024-08-03T10:53:56.698314",
     "status": "completed"
    },
    "tags": []
   },
   "source": [
    "# Summary\n",
    "\n",
    "- RNN (BI):\n",
    "    - Pros: Simple architecture, fast training time.\n",
    "    - Cons: Limited context (low accuracy), prune to vanishing gradient problem.\n",
    "\n",
    "- LSTM (BI):\n",
    "    - Pros: Long-term dependencies, less prone to vanishing gradient problem.\n",
    "    - Cons: Longer training time, more complex architecture.\n",
    "- GRU (BI):\n",
    "    - Pros: Simpler architecture than LSTM, faster training time.\n",
    "    - Cons: Limited context, more parameters, prune to overfitting.\n",
    "- CNN:\n",
    "    - Pros: Best performance on this dataset, fast inference time.\n",
    "    - Cons: May not generalize well to sequence data without significant tuning.\n",
    "\n",
    "## **Recommendation**\n",
    "\n",
    "- Based on the analysis, **LSTM** offers the best balance between performance and complexity for this task, especially if handling sequence data is a priority. For faster inference and a smaller model footprint, consider **CNN** with additional tuning. For simpler tasks, **RNN** or **GRU** may be sufficient.\n",
    "\n",
    "\n",
    "<p style=\"text-align: center; font-family: 'Georgia', serif; font-size: 24px; color: #fff; margin-top: 40px;\">\n",
    "  <em>As always, AI is just statistics on steroids :)</em>\n",
    "</p>"
   ]
  }
 ],
 "metadata": {
  "kaggle": {
   "accelerator": "gpu",
   "dataSources": [
    {
     "datasetId": 5488160,
     "sourceId": 9094344,
     "sourceType": "datasetVersion"
    }
   ],
   "dockerImageVersionId": 30746,
   "isGpuEnabled": true,
   "isInternetEnabled": true,
   "language": "python",
   "sourceType": "notebook"
  },
  "kernelspec": {
   "display_name": "Python 3",
   "language": "python",
   "name": "python3"
  },
  "language_info": {
   "codemirror_mode": {
    "name": "ipython",
    "version": 3
   },
   "file_extension": ".py",
   "mimetype": "text/x-python",
   "name": "python",
   "nbconvert_exporter": "python",
   "pygments_lexer": "ipython3",
   "version": "3.10.13"
  },
  "papermill": {
   "default_parameters": {},
   "duration": 1193.914918,
   "end_time": "2024-08-03T10:53:59.919149",
   "environment_variables": {},
   "exception": null,
   "input_path": "__notebook__.ipynb",
   "output_path": "__notebook__.ipynb",
   "parameters": {},
   "start_time": "2024-08-03T10:34:06.004231",
   "version": "2.5.0"
  },
  "widgets": {
   "application/vnd.jupyter.widget-state+json": {
    "state": {
     "01fcf03faea74b64811cd867665fa237": {
      "model_module": "@jupyter-widgets/controls",
      "model_module_version": "1.5.0",
      "model_name": "HTMLModel",
      "state": {
       "_dom_classes": [],
       "_model_module": "@jupyter-widgets/controls",
       "_model_module_version": "1.5.0",
       "_model_name": "HTMLModel",
       "_view_count": null,
       "_view_module": "@jupyter-widgets/controls",
       "_view_module_version": "1.5.0",
       "_view_name": "HTMLView",
       "description": "",
       "description_tooltip": null,
       "layout": "IPY_MODEL_74fe754027014648b2d06265f96051ff",
       "placeholder": "​",
       "style": "IPY_MODEL_5fcd1b03bc0e4c449aa26d97e47f4f7f",
       "value": "Computing checksums: 100%"
      }
     },
     "02a02ce8586f4299a792c3c4b6b70985": {
      "model_module": "@jupyter-widgets/base",
      "model_module_version": "1.2.0",
      "model_name": "LayoutModel",
      "state": {
       "_model_module": "@jupyter-widgets/base",
       "_model_module_version": "1.2.0",
       "_model_name": "LayoutModel",
       "_view_count": null,
       "_view_module": "@jupyter-widgets/base",
       "_view_module_version": "1.2.0",
       "_view_name": "LayoutView",
       "align_content": null,
       "align_items": null,
       "align_self": null,
       "border": null,
       "bottom": null,
       "display": null,
       "flex": null,
       "flex_flow": null,
       "grid_area": null,
       "grid_auto_columns": null,
       "grid_auto_flow": null,
       "grid_auto_rows": null,
       "grid_column": null,
       "grid_gap": null,
       "grid_row": null,
       "grid_template_areas": null,
       "grid_template_columns": null,
       "grid_template_rows": null,
       "height": null,
       "justify_content": null,
       "justify_items": null,
       "left": null,
       "margin": null,
       "max_height": null,
       "max_width": null,
       "min_height": null,
       "min_width": null,
       "object_fit": null,
       "object_position": null,
       "order": null,
       "overflow": null,
       "overflow_x": null,
       "overflow_y": null,
       "padding": null,
       "right": null,
       "top": null,
       "visibility": null,
       "width": null
      }
     },
     "0506a254e9b047e595bbdef299b47485": {
      "model_module": "@jupyter-widgets/controls",
      "model_module_version": "1.5.0",
      "model_name": "ProgressStyleModel",
      "state": {
       "_model_module": "@jupyter-widgets/controls",
       "_model_module_version": "1.5.0",
       "_model_name": "ProgressStyleModel",
       "_view_count": null,
       "_view_module": "@jupyter-widgets/base",
       "_view_module_version": "1.2.0",
       "_view_name": "StyleView",
       "bar_color": null,
       "description_width": ""
      }
     },
     "0caa5fbce1e84ca598b862836271bc75": {
      "model_module": "@jupyter-widgets/base",
      "model_module_version": "1.2.0",
      "model_name": "LayoutModel",
      "state": {
       "_model_module": "@jupyter-widgets/base",
       "_model_module_version": "1.2.0",
       "_model_name": "LayoutModel",
       "_view_count": null,
       "_view_module": "@jupyter-widgets/base",
       "_view_module_version": "1.2.0",
       "_view_name": "LayoutView",
       "align_content": null,
       "align_items": null,
       "align_self": null,
       "border": null,
       "bottom": null,
       "display": null,
       "flex": null,
       "flex_flow": null,
       "grid_area": null,
       "grid_auto_columns": null,
       "grid_auto_flow": null,
       "grid_auto_rows": null,
       "grid_column": null,
       "grid_gap": null,
       "grid_row": null,
       "grid_template_areas": null,
       "grid_template_columns": null,
       "grid_template_rows": null,
       "height": null,
       "justify_content": null,
       "justify_items": null,
       "left": null,
       "margin": null,
       "max_height": null,
       "max_width": null,
       "min_height": null,
       "min_width": null,
       "object_fit": null,
       "object_position": null,
       "order": null,
       "overflow": null,
       "overflow_x": null,
       "overflow_y": null,
       "padding": null,
       "right": null,
       "top": null,
       "visibility": null,
       "width": null
      }
     },
     "0cea5b92b6074bf38e2fffed73b5e2df": {
      "model_module": "@jupyter-widgets/controls",
      "model_module_version": "1.5.0",
      "model_name": "FloatProgressModel",
      "state": {
       "_dom_classes": [],
       "_model_module": "@jupyter-widgets/controls",
       "_model_module_version": "1.5.0",
       "_model_name": "FloatProgressModel",
       "_view_count": null,
       "_view_module": "@jupyter-widgets/controls",
       "_view_module_version": "1.5.0",
       "_view_name": "ProgressView",
       "bar_style": "success",
       "description": "",
       "description_tooltip": null,
       "layout": "IPY_MODEL_59245e1f3d6141b59d24a7929a00dfff",
       "max": 25000,
       "min": 0,
       "orientation": "horizontal",
       "style": "IPY_MODEL_3447b7206bff499db0de88173ff33794",
       "value": 25000
      }
     },
     "0d49bd141b4a44e2bad8815838aa67f7": {
      "model_module": "@jupyter-widgets/controls",
      "model_module_version": "1.5.0",
      "model_name": "DescriptionStyleModel",
      "state": {
       "_model_module": "@jupyter-widgets/controls",
       "_model_module_version": "1.5.0",
       "_model_name": "DescriptionStyleModel",
       "_view_count": null,
       "_view_module": "@jupyter-widgets/base",
       "_view_module_version": "1.2.0",
       "_view_name": "StyleView",
       "description_width": ""
      }
     },
     "0e9093c0ef8541608bb963aceb20f5b6": {
      "model_module": "@jupyter-widgets/base",
      "model_module_version": "1.2.0",
      "model_name": "LayoutModel",
      "state": {
       "_model_module": "@jupyter-widgets/base",
       "_model_module_version": "1.2.0",
       "_model_name": "LayoutModel",
       "_view_count": null,
       "_view_module": "@jupyter-widgets/base",
       "_view_module_version": "1.2.0",
       "_view_name": "LayoutView",
       "align_content": null,
       "align_items": null,
       "align_self": null,
       "border": null,
       "bottom": null,
       "display": null,
       "flex": null,
       "flex_flow": null,
       "grid_area": null,
       "grid_auto_columns": null,
       "grid_auto_flow": null,
       "grid_auto_rows": null,
       "grid_column": null,
       "grid_gap": null,
       "grid_row": null,
       "grid_template_areas": null,
       "grid_template_columns": null,
       "grid_template_rows": null,
       "height": null,
       "justify_content": null,
       "justify_items": null,
       "left": null,
       "margin": null,
       "max_height": null,
       "max_width": null,
       "min_height": null,
       "min_width": null,
       "object_fit": null,
       "object_position": null,
       "order": null,
       "overflow": null,
       "overflow_x": null,
       "overflow_y": null,
       "padding": null,
       "right": null,
       "top": null,
       "visibility": null,
       "width": null
      }
     },
     "11551031a031445ba64372decd37d0cb": {
      "model_module": "@jupyter-widgets/base",
      "model_module_version": "1.2.0",
      "model_name": "LayoutModel",
      "state": {
       "_model_module": "@jupyter-widgets/base",
       "_model_module_version": "1.2.0",
       "_model_name": "LayoutModel",
       "_view_count": null,
       "_view_module": "@jupyter-widgets/base",
       "_view_module_version": "1.2.0",
       "_view_name": "LayoutView",
       "align_content": null,
       "align_items": null,
       "align_self": null,
       "border": null,
       "bottom": null,
       "display": null,
       "flex": null,
       "flex_flow": null,
       "grid_area": null,
       "grid_auto_columns": null,
       "grid_auto_flow": null,
       "grid_auto_rows": null,
       "grid_column": null,
       "grid_gap": null,
       "grid_row": null,
       "grid_template_areas": null,
       "grid_template_columns": null,
       "grid_template_rows": null,
       "height": null,
       "justify_content": null,
       "justify_items": null,
       "left": null,
       "margin": null,
       "max_height": null,
       "max_width": null,
       "min_height": null,
       "min_width": null,
       "object_fit": null,
       "object_position": null,
       "order": null,
       "overflow": null,
       "overflow_x": null,
       "overflow_y": null,
       "padding": null,
       "right": null,
       "top": null,
       "visibility": null,
       "width": null
      }
     },
     "158b8b8c5f4e42a5b29422682fb187c6": {
      "model_module": "@jupyter-widgets/controls",
      "model_module_version": "1.5.0",
      "model_name": "DescriptionStyleModel",
      "state": {
       "_model_module": "@jupyter-widgets/controls",
       "_model_module_version": "1.5.0",
       "_model_name": "DescriptionStyleModel",
       "_view_count": null,
       "_view_module": "@jupyter-widgets/base",
       "_view_module_version": "1.2.0",
       "_view_name": "StyleView",
       "description_width": ""
      }
     },
     "1a4ee1552eb4407a80c8204adcfc80da": {
      "model_module": "@jupyter-widgets/controls",
      "model_module_version": "1.5.0",
      "model_name": "HTMLModel",
      "state": {
       "_dom_classes": [],
       "_model_module": "@jupyter-widgets/controls",
       "_model_module_version": "1.5.0",
       "_model_name": "HTMLModel",
       "_view_count": null,
       "_view_module": "@jupyter-widgets/controls",
       "_view_module_version": "1.5.0",
       "_view_name": "HTMLView",
       "description": "",
       "description_tooltip": null,
       "layout": "IPY_MODEL_5528f916d7f2479381c85074ad57b79e",
       "placeholder": "​",
       "style": "IPY_MODEL_4d29792cc5c242a984629cc66952f6c4",
       "value": " 50000/50000 [00:00&lt;00:00, 118778.13 examples/s]"
      }
     },
     "1dcbb7a4729c49259feaa1017b74917f": {
      "model_module": "@jupyter-widgets/controls",
      "model_module_version": "1.5.0",
      "model_name": "FloatProgressModel",
      "state": {
       "_dom_classes": [],
       "_model_module": "@jupyter-widgets/controls",
       "_model_module_version": "1.5.0",
       "_model_name": "FloatProgressModel",
       "_view_count": null,
       "_view_module": "@jupyter-widgets/controls",
       "_view_module_version": "1.5.0",
       "_view_name": "ProgressView",
       "bar_style": "success",
       "description": "",
       "description_tooltip": null,
       "layout": "IPY_MODEL_50984614fd034806ad43ce918bfd4509",
       "max": 3,
       "min": 0,
       "orientation": "horizontal",
       "style": "IPY_MODEL_a29e72acd77946c19970fe554b19785c",
       "value": 3
      }
     },
     "20fd9dca64524a19bade159c7aa634d8": {
      "model_module": "@jupyter-widgets/controls",
      "model_module_version": "1.5.0",
      "model_name": "DescriptionStyleModel",
      "state": {
       "_model_module": "@jupyter-widgets/controls",
       "_model_module_version": "1.5.0",
       "_model_name": "DescriptionStyleModel",
       "_view_count": null,
       "_view_module": "@jupyter-widgets/base",
       "_view_module_version": "1.2.0",
       "_view_name": "StyleView",
       "description_width": ""
      }
     },
     "286aa8abfbad4cfa86c6ad4dd4ab4436": {
      "model_module": "@jupyter-widgets/controls",
      "model_module_version": "1.5.0",
      "model_name": "ProgressStyleModel",
      "state": {
       "_model_module": "@jupyter-widgets/controls",
       "_model_module_version": "1.5.0",
       "_model_name": "ProgressStyleModel",
       "_view_count": null,
       "_view_module": "@jupyter-widgets/base",
       "_view_module_version": "1.2.0",
       "_view_name": "StyleView",
       "bar_color": null,
       "description_width": ""
      }
     },
     "31078277b62146e2a5d95e0cb2378b01": {
      "model_module": "@jupyter-widgets/controls",
      "model_module_version": "1.5.0",
      "model_name": "HTMLModel",
      "state": {
       "_dom_classes": [],
       "_model_module": "@jupyter-widgets/controls",
       "_model_module_version": "1.5.0",
       "_model_name": "HTMLModel",
       "_view_count": null,
       "_view_module": "@jupyter-widgets/controls",
       "_view_module_version": "1.5.0",
       "_view_name": "HTMLView",
       "description": "",
       "description_tooltip": null,
       "layout": "IPY_MODEL_f861ca3c6cf84fa282f7902d81ea2a08",
       "placeholder": "​",
       "style": "IPY_MODEL_539346c987c24f50a875d8097006233f",
       "value": " 42.0M/42.0M [00:00&lt;00:00, 151MB/s]"
      }
     },
     "3447b7206bff499db0de88173ff33794": {
      "model_module": "@jupyter-widgets/controls",
      "model_module_version": "1.5.0",
      "model_name": "ProgressStyleModel",
      "state": {
       "_model_module": "@jupyter-widgets/controls",
       "_model_module_version": "1.5.0",
       "_model_name": "ProgressStyleModel",
       "_view_count": null,
       "_view_module": "@jupyter-widgets/base",
       "_view_module_version": "1.2.0",
       "_view_name": "StyleView",
       "bar_color": null,
       "description_width": ""
      }
     },
     "382166c3f18c44e6807022eba9de47b1": {
      "model_module": "@jupyter-widgets/base",
      "model_module_version": "1.2.0",
      "model_name": "LayoutModel",
      "state": {
       "_model_module": "@jupyter-widgets/base",
       "_model_module_version": "1.2.0",
       "_model_name": "LayoutModel",
       "_view_count": null,
       "_view_module": "@jupyter-widgets/base",
       "_view_module_version": "1.2.0",
       "_view_name": "LayoutView",
       "align_content": null,
       "align_items": null,
       "align_self": null,
       "border": null,
       "bottom": null,
       "display": null,
       "flex": null,
       "flex_flow": null,
       "grid_area": null,
       "grid_auto_columns": null,
       "grid_auto_flow": null,
       "grid_auto_rows": null,
       "grid_column": null,
       "grid_gap": null,
       "grid_row": null,
       "grid_template_areas": null,
       "grid_template_columns": null,
       "grid_template_rows": null,
       "height": null,
       "justify_content": null,
       "justify_items": null,
       "left": null,
       "margin": null,
       "max_height": null,
       "max_width": null,
       "min_height": null,
       "min_width": null,
       "object_fit": null,
       "object_position": null,
       "order": null,
       "overflow": null,
       "overflow_x": null,
       "overflow_y": null,
       "padding": null,
       "right": null,
       "top": null,
       "visibility": null,
       "width": null
      }
     },
     "39b60dd8fb89486fab65bd30ab44c577": {
      "model_module": "@jupyter-widgets/controls",
      "model_module_version": "1.5.0",
      "model_name": "HBoxModel",
      "state": {
       "_dom_classes": [],
       "_model_module": "@jupyter-widgets/controls",
       "_model_module_version": "1.5.0",
       "_model_name": "HBoxModel",
       "_view_count": null,
       "_view_module": "@jupyter-widgets/controls",
       "_view_module_version": "1.5.0",
       "_view_name": "HBoxView",
       "box_style": "",
       "children": [
        "IPY_MODEL_479b80698cdc4b0b8d7cae5f79680e4c",
        "IPY_MODEL_d7486dcaaa544a4a856150cb70946c9f",
        "IPY_MODEL_6a603bb0cd9d41f2a508e9bcb0867af8"
       ],
       "layout": "IPY_MODEL_0caa5fbce1e84ca598b862836271bc75"
      }
     },
     "3a1533484df84b15ab380bf0a9fac410": {
      "model_module": "@jupyter-widgets/controls",
      "model_module_version": "1.5.0",
      "model_name": "DescriptionStyleModel",
      "state": {
       "_model_module": "@jupyter-widgets/controls",
       "_model_module_version": "1.5.0",
       "_model_name": "DescriptionStyleModel",
       "_view_count": null,
       "_view_module": "@jupyter-widgets/base",
       "_view_module_version": "1.2.0",
       "_view_name": "StyleView",
       "description_width": ""
      }
     },
     "3b81038591a845608478d21fd0966014": {
      "model_module": "@jupyter-widgets/controls",
      "model_module_version": "1.5.0",
      "model_name": "HTMLModel",
      "state": {
       "_dom_classes": [],
       "_model_module": "@jupyter-widgets/controls",
       "_model_module_version": "1.5.0",
       "_model_name": "HTMLModel",
       "_view_count": null,
       "_view_module": "@jupyter-widgets/controls",
       "_view_module_version": "1.5.0",
       "_view_name": "HTMLView",
       "description": "",
       "description_tooltip": null,
       "layout": "IPY_MODEL_11551031a031445ba64372decd37d0cb",
       "placeholder": "​",
       "style": "IPY_MODEL_614df0c2074b4136a71a9320b338b23d",
       "value": "Generating test split: 100%"
      }
     },
     "3c984c128c084aa5a36fbf057fab175a": {
      "model_module": "@jupyter-widgets/base",
      "model_module_version": "1.2.0",
      "model_name": "LayoutModel",
      "state": {
       "_model_module": "@jupyter-widgets/base",
       "_model_module_version": "1.2.0",
       "_model_name": "LayoutModel",
       "_view_count": null,
       "_view_module": "@jupyter-widgets/base",
       "_view_module_version": "1.2.0",
       "_view_name": "LayoutView",
       "align_content": null,
       "align_items": null,
       "align_self": null,
       "border": null,
       "bottom": null,
       "display": null,
       "flex": null,
       "flex_flow": null,
       "grid_area": null,
       "grid_auto_columns": null,
       "grid_auto_flow": null,
       "grid_auto_rows": null,
       "grid_column": null,
       "grid_gap": null,
       "grid_row": null,
       "grid_template_areas": null,
       "grid_template_columns": null,
       "grid_template_rows": null,
       "height": null,
       "justify_content": null,
       "justify_items": null,
       "left": null,
       "margin": null,
       "max_height": null,
       "max_width": null,
       "min_height": null,
       "min_width": null,
       "object_fit": null,
       "object_position": null,
       "order": null,
       "overflow": null,
       "overflow_x": null,
       "overflow_y": null,
       "padding": null,
       "right": null,
       "top": null,
       "visibility": null,
       "width": null
      }
     },
     "3dcdbaa7f97b48f2819162e33607e784": {
      "model_module": "@jupyter-widgets/controls",
      "model_module_version": "1.5.0",
      "model_name": "FloatProgressModel",
      "state": {
       "_dom_classes": [],
       "_model_module": "@jupyter-widgets/controls",
       "_model_module_version": "1.5.0",
       "_model_name": "FloatProgressModel",
       "_view_count": null,
       "_view_module": "@jupyter-widgets/controls",
       "_view_module_version": "1.5.0",
       "_view_name": "ProgressView",
       "bar_style": "success",
       "description": "",
       "description_tooltip": null,
       "layout": "IPY_MODEL_a6e84eaec1ff421c9a16a34e4f6f32dd",
       "max": 50000,
       "min": 0,
       "orientation": "horizontal",
       "style": "IPY_MODEL_fbdff4da984141fcb4b5d325eceafad9",
       "value": 50000
      }
     },
     "4241c2ba1c6c498b8814ecf93b8ccf2f": {
      "model_module": "@jupyter-widgets/controls",
      "model_module_version": "1.5.0",
      "model_name": "HBoxModel",
      "state": {
       "_dom_classes": [],
       "_model_module": "@jupyter-widgets/controls",
       "_model_module_version": "1.5.0",
       "_model_name": "HBoxModel",
       "_view_count": null,
       "_view_module": "@jupyter-widgets/controls",
       "_view_module_version": "1.5.0",
       "_view_name": "HBoxView",
       "box_style": "",
       "children": [
        "IPY_MODEL_bfd91800b2434ab08ef052ff84b0be63",
        "IPY_MODEL_55d8004b1ec54d1a95abe0ca7cae0643",
        "IPY_MODEL_e5a7baf2d0ac482c93b9393ddace0d44"
       ],
       "layout": "IPY_MODEL_e505c259c4bc4d3f91d505dc5765f793"
      }
     },
     "4296d4930ef446d79a409d506a247e49": {
      "model_module": "@jupyter-widgets/controls",
      "model_module_version": "1.5.0",
      "model_name": "HBoxModel",
      "state": {
       "_dom_classes": [],
       "_model_module": "@jupyter-widgets/controls",
       "_model_module_version": "1.5.0",
       "_model_name": "HBoxModel",
       "_view_count": null,
       "_view_module": "@jupyter-widgets/controls",
       "_view_module_version": "1.5.0",
       "_view_name": "HBoxView",
       "box_style": "",
       "children": [
        "IPY_MODEL_c06e2b4c14ff4fcca4cdbae7cad46200",
        "IPY_MODEL_47c4e71e4e174a97a6957c34d91e9091",
        "IPY_MODEL_437b5a376bfa4f988c945d12c8f5e6e2"
       ],
       "layout": "IPY_MODEL_d71a0b20a60848e6aeebd6b92bd8331e"
      }
     },
     "437b5a376bfa4f988c945d12c8f5e6e2": {
      "model_module": "@jupyter-widgets/controls",
      "model_module_version": "1.5.0",
      "model_name": "HTMLModel",
      "state": {
       "_dom_classes": [],
       "_model_module": "@jupyter-widgets/controls",
       "_model_module_version": "1.5.0",
       "_model_name": "HTMLModel",
       "_view_count": null,
       "_view_module": "@jupyter-widgets/controls",
       "_view_module_version": "1.5.0",
       "_view_name": "HTMLView",
       "description": "",
       "description_tooltip": null,
       "layout": "IPY_MODEL_0e9093c0ef8541608bb963aceb20f5b6",
       "placeholder": "​",
       "style": "IPY_MODEL_c33a834d74814cf78f96191eb5cb5932",
       "value": " 20.5M/20.5M [00:00&lt;00:00, 20.6MB/s]"
      }
     },
     "479b80698cdc4b0b8d7cae5f79680e4c": {
      "model_module": "@jupyter-widgets/controls",
      "model_module_version": "1.5.0",
      "model_name": "HTMLModel",
      "state": {
       "_dom_classes": [],
       "_model_module": "@jupyter-widgets/controls",
       "_model_module_version": "1.5.0",
       "_model_name": "HTMLModel",
       "_view_count": null,
       "_view_module": "@jupyter-widgets/controls",
       "_view_module_version": "1.5.0",
       "_view_name": "HTMLView",
       "description": "",
       "description_tooltip": null,
       "layout": "IPY_MODEL_9d28a106b1674826a0d3fe25878fc645",
       "placeholder": "​",
       "style": "IPY_MODEL_e826c1c9b9d14be384a826ab21d905fe",
       "value": "Downloading data: 100%"
      }
     },
     "47c4e71e4e174a97a6957c34d91e9091": {
      "model_module": "@jupyter-widgets/controls",
      "model_module_version": "1.5.0",
      "model_name": "FloatProgressModel",
      "state": {
       "_dom_classes": [],
       "_model_module": "@jupyter-widgets/controls",
       "_model_module_version": "1.5.0",
       "_model_name": "FloatProgressModel",
       "_view_count": null,
       "_view_module": "@jupyter-widgets/controls",
       "_view_module_version": "1.5.0",
       "_view_name": "ProgressView",
       "bar_style": "success",
       "description": "",
       "description_tooltip": null,
       "layout": "IPY_MODEL_aa6dc98e0a0d4f5eb22a571a8f099ca0",
       "max": 20470363,
       "min": 0,
       "orientation": "horizontal",
       "style": "IPY_MODEL_286aa8abfbad4cfa86c6ad4dd4ab4436",
       "value": 20470363
      }
     },
     "4d29792cc5c242a984629cc66952f6c4": {
      "model_module": "@jupyter-widgets/controls",
      "model_module_version": "1.5.0",
      "model_name": "DescriptionStyleModel",
      "state": {
       "_model_module": "@jupyter-widgets/controls",
       "_model_module_version": "1.5.0",
       "_model_name": "DescriptionStyleModel",
       "_view_count": null,
       "_view_module": "@jupyter-widgets/base",
       "_view_module_version": "1.2.0",
       "_view_name": "StyleView",
       "description_width": ""
      }
     },
     "50984614fd034806ad43ce918bfd4509": {
      "model_module": "@jupyter-widgets/base",
      "model_module_version": "1.2.0",
      "model_name": "LayoutModel",
      "state": {
       "_model_module": "@jupyter-widgets/base",
       "_model_module_version": "1.2.0",
       "_model_name": "LayoutModel",
       "_view_count": null,
       "_view_module": "@jupyter-widgets/base",
       "_view_module_version": "1.2.0",
       "_view_name": "LayoutView",
       "align_content": null,
       "align_items": null,
       "align_self": null,
       "border": null,
       "bottom": null,
       "display": null,
       "flex": null,
       "flex_flow": null,
       "grid_area": null,
       "grid_auto_columns": null,
       "grid_auto_flow": null,
       "grid_auto_rows": null,
       "grid_column": null,
       "grid_gap": null,
       "grid_row": null,
       "grid_template_areas": null,
       "grid_template_columns": null,
       "grid_template_rows": null,
       "height": null,
       "justify_content": null,
       "justify_items": null,
       "left": null,
       "margin": null,
       "max_height": null,
       "max_width": null,
       "min_height": null,
       "min_width": null,
       "object_fit": null,
       "object_position": null,
       "order": null,
       "overflow": null,
       "overflow_x": null,
       "overflow_y": null,
       "padding": null,
       "right": null,
       "top": null,
       "visibility": null,
       "width": null
      }
     },
     "526723e5fd704a09b9427e16949c7300": {
      "model_module": "@jupyter-widgets/base",
      "model_module_version": "1.2.0",
      "model_name": "LayoutModel",
      "state": {
       "_model_module": "@jupyter-widgets/base",
       "_model_module_version": "1.2.0",
       "_model_name": "LayoutModel",
       "_view_count": null,
       "_view_module": "@jupyter-widgets/base",
       "_view_module_version": "1.2.0",
       "_view_name": "LayoutView",
       "align_content": null,
       "align_items": null,
       "align_self": null,
       "border": null,
       "bottom": null,
       "display": null,
       "flex": null,
       "flex_flow": null,
       "grid_area": null,
       "grid_auto_columns": null,
       "grid_auto_flow": null,
       "grid_auto_rows": null,
       "grid_column": null,
       "grid_gap": null,
       "grid_row": null,
       "grid_template_areas": null,
       "grid_template_columns": null,
       "grid_template_rows": null,
       "height": null,
       "justify_content": null,
       "justify_items": null,
       "left": null,
       "margin": null,
       "max_height": null,
       "max_width": null,
       "min_height": null,
       "min_width": null,
       "object_fit": null,
       "object_position": null,
       "order": null,
       "overflow": null,
       "overflow_x": null,
       "overflow_y": null,
       "padding": null,
       "right": null,
       "top": null,
       "visibility": null,
       "width": null
      }
     },
     "52e1d8f48a654bb98a91f700c76b8c20": {
      "model_module": "@jupyter-widgets/base",
      "model_module_version": "1.2.0",
      "model_name": "LayoutModel",
      "state": {
       "_model_module": "@jupyter-widgets/base",
       "_model_module_version": "1.2.0",
       "_model_name": "LayoutModel",
       "_view_count": null,
       "_view_module": "@jupyter-widgets/base",
       "_view_module_version": "1.2.0",
       "_view_name": "LayoutView",
       "align_content": null,
       "align_items": null,
       "align_self": null,
       "border": null,
       "bottom": null,
       "display": null,
       "flex": null,
       "flex_flow": null,
       "grid_area": null,
       "grid_auto_columns": null,
       "grid_auto_flow": null,
       "grid_auto_rows": null,
       "grid_column": null,
       "grid_gap": null,
       "grid_row": null,
       "grid_template_areas": null,
       "grid_template_columns": null,
       "grid_template_rows": null,
       "height": null,
       "justify_content": null,
       "justify_items": null,
       "left": null,
       "margin": null,
       "max_height": null,
       "max_width": null,
       "min_height": null,
       "min_width": null,
       "object_fit": null,
       "object_position": null,
       "order": null,
       "overflow": null,
       "overflow_x": null,
       "overflow_y": null,
       "padding": null,
       "right": null,
       "top": null,
       "visibility": null,
       "width": null
      }
     },
     "539346c987c24f50a875d8097006233f": {
      "model_module": "@jupyter-widgets/controls",
      "model_module_version": "1.5.0",
      "model_name": "DescriptionStyleModel",
      "state": {
       "_model_module": "@jupyter-widgets/controls",
       "_model_module_version": "1.5.0",
       "_model_name": "DescriptionStyleModel",
       "_view_count": null,
       "_view_module": "@jupyter-widgets/base",
       "_view_module_version": "1.2.0",
       "_view_name": "StyleView",
       "description_width": ""
      }
     },
     "5528f916d7f2479381c85074ad57b79e": {
      "model_module": "@jupyter-widgets/base",
      "model_module_version": "1.2.0",
      "model_name": "LayoutModel",
      "state": {
       "_model_module": "@jupyter-widgets/base",
       "_model_module_version": "1.2.0",
       "_model_name": "LayoutModel",
       "_view_count": null,
       "_view_module": "@jupyter-widgets/base",
       "_view_module_version": "1.2.0",
       "_view_name": "LayoutView",
       "align_content": null,
       "align_items": null,
       "align_self": null,
       "border": null,
       "bottom": null,
       "display": null,
       "flex": null,
       "flex_flow": null,
       "grid_area": null,
       "grid_auto_columns": null,
       "grid_auto_flow": null,
       "grid_auto_rows": null,
       "grid_column": null,
       "grid_gap": null,
       "grid_row": null,
       "grid_template_areas": null,
       "grid_template_columns": null,
       "grid_template_rows": null,
       "height": null,
       "justify_content": null,
       "justify_items": null,
       "left": null,
       "margin": null,
       "max_height": null,
       "max_width": null,
       "min_height": null,
       "min_width": null,
       "object_fit": null,
       "object_position": null,
       "order": null,
       "overflow": null,
       "overflow_x": null,
       "overflow_y": null,
       "padding": null,
       "right": null,
       "top": null,
       "visibility": null,
       "width": null
      }
     },
     "55d8004b1ec54d1a95abe0ca7cae0643": {
      "model_module": "@jupyter-widgets/controls",
      "model_module_version": "1.5.0",
      "model_name": "FloatProgressModel",
      "state": {
       "_dom_classes": [],
       "_model_module": "@jupyter-widgets/controls",
       "_model_module_version": "1.5.0",
       "_model_name": "FloatProgressModel",
       "_view_count": null,
       "_view_module": "@jupyter-widgets/controls",
       "_view_module_version": "1.5.0",
       "_view_name": "ProgressView",
       "bar_style": "success",
       "description": "",
       "description_tooltip": null,
       "layout": "IPY_MODEL_83b29f9861854edebc3b63dba5be8f87",
       "max": 25000,
       "min": 0,
       "orientation": "horizontal",
       "style": "IPY_MODEL_e31884d339bf4903a239a17dce54d328",
       "value": 25000
      }
     },
     "57c30da5443547dc98b8533a2ac5046e": {
      "model_module": "@jupyter-widgets/controls",
      "model_module_version": "1.5.0",
      "model_name": "HBoxModel",
      "state": {
       "_dom_classes": [],
       "_model_module": "@jupyter-widgets/controls",
       "_model_module_version": "1.5.0",
       "_model_name": "HBoxModel",
       "_view_count": null,
       "_view_module": "@jupyter-widgets/controls",
       "_view_module_version": "1.5.0",
       "_view_name": "HBoxView",
       "box_style": "",
       "children": [
        "IPY_MODEL_3b81038591a845608478d21fd0966014",
        "IPY_MODEL_0cea5b92b6074bf38e2fffed73b5e2df",
        "IPY_MODEL_93dc424191c84d0bbef15b15b31d1f0d"
       ],
       "layout": "IPY_MODEL_902f972dddc34e529e609c27ec00ff9a"
      }
     },
     "59245e1f3d6141b59d24a7929a00dfff": {
      "model_module": "@jupyter-widgets/base",
      "model_module_version": "1.2.0",
      "model_name": "LayoutModel",
      "state": {
       "_model_module": "@jupyter-widgets/base",
       "_model_module_version": "1.2.0",
       "_model_name": "LayoutModel",
       "_view_count": null,
       "_view_module": "@jupyter-widgets/base",
       "_view_module_version": "1.2.0",
       "_view_name": "LayoutView",
       "align_content": null,
       "align_items": null,
       "align_self": null,
       "border": null,
       "bottom": null,
       "display": null,
       "flex": null,
       "flex_flow": null,
       "grid_area": null,
       "grid_auto_columns": null,
       "grid_auto_flow": null,
       "grid_auto_rows": null,
       "grid_column": null,
       "grid_gap": null,
       "grid_row": null,
       "grid_template_areas": null,
       "grid_template_columns": null,
       "grid_template_rows": null,
       "height": null,
       "justify_content": null,
       "justify_items": null,
       "left": null,
       "margin": null,
       "max_height": null,
       "max_width": null,
       "min_height": null,
       "min_width": null,
       "object_fit": null,
       "object_position": null,
       "order": null,
       "overflow": null,
       "overflow_x": null,
       "overflow_y": null,
       "padding": null,
       "right": null,
       "top": null,
       "visibility": null,
       "width": null
      }
     },
     "5fcd1b03bc0e4c449aa26d97e47f4f7f": {
      "model_module": "@jupyter-widgets/controls",
      "model_module_version": "1.5.0",
      "model_name": "DescriptionStyleModel",
      "state": {
       "_model_module": "@jupyter-widgets/controls",
       "_model_module_version": "1.5.0",
       "_model_name": "DescriptionStyleModel",
       "_view_count": null,
       "_view_module": "@jupyter-widgets/base",
       "_view_module_version": "1.2.0",
       "_view_name": "StyleView",
       "description_width": ""
      }
     },
     "614df0c2074b4136a71a9320b338b23d": {
      "model_module": "@jupyter-widgets/controls",
      "model_module_version": "1.5.0",
      "model_name": "DescriptionStyleModel",
      "state": {
       "_model_module": "@jupyter-widgets/controls",
       "_model_module_version": "1.5.0",
       "_model_name": "DescriptionStyleModel",
       "_view_count": null,
       "_view_module": "@jupyter-widgets/base",
       "_view_module_version": "1.2.0",
       "_view_name": "StyleView",
       "description_width": ""
      }
     },
     "61a14491ce7a45abb645a9b71c25344f": {
      "model_module": "@jupyter-widgets/controls",
      "model_module_version": "1.5.0",
      "model_name": "DescriptionStyleModel",
      "state": {
       "_model_module": "@jupyter-widgets/controls",
       "_model_module_version": "1.5.0",
       "_model_name": "DescriptionStyleModel",
       "_view_count": null,
       "_view_module": "@jupyter-widgets/base",
       "_view_module_version": "1.2.0",
       "_view_name": "StyleView",
       "description_width": ""
      }
     },
     "64d6dde14b0340e09d84c53940031d0b": {
      "model_module": "@jupyter-widgets/controls",
      "model_module_version": "1.5.0",
      "model_name": "HTMLModel",
      "state": {
       "_dom_classes": [],
       "_model_module": "@jupyter-widgets/controls",
       "_model_module_version": "1.5.0",
       "_model_name": "HTMLModel",
       "_view_count": null,
       "_view_module": "@jupyter-widgets/controls",
       "_view_module_version": "1.5.0",
       "_view_name": "HTMLView",
       "description": "",
       "description_tooltip": null,
       "layout": "IPY_MODEL_cd79667079f747df9d82d49ca68f7d19",
       "placeholder": "​",
       "style": "IPY_MODEL_90e61d2b4a644c2d9c80541b8a706aff",
       "value": "Downloading readme: 100%"
      }
     },
     "67ae898c888243f1964088591d653bd5": {
      "model_module": "@jupyter-widgets/base",
      "model_module_version": "1.2.0",
      "model_name": "LayoutModel",
      "state": {
       "_model_module": "@jupyter-widgets/base",
       "_model_module_version": "1.2.0",
       "_model_name": "LayoutModel",
       "_view_count": null,
       "_view_module": "@jupyter-widgets/base",
       "_view_module_version": "1.2.0",
       "_view_name": "LayoutView",
       "align_content": null,
       "align_items": null,
       "align_self": null,
       "border": null,
       "bottom": null,
       "display": null,
       "flex": null,
       "flex_flow": null,
       "grid_area": null,
       "grid_auto_columns": null,
       "grid_auto_flow": null,
       "grid_auto_rows": null,
       "grid_column": null,
       "grid_gap": null,
       "grid_row": null,
       "grid_template_areas": null,
       "grid_template_columns": null,
       "grid_template_rows": null,
       "height": null,
       "justify_content": null,
       "justify_items": null,
       "left": null,
       "margin": null,
       "max_height": null,
       "max_width": null,
       "min_height": null,
       "min_width": null,
       "object_fit": null,
       "object_position": null,
       "order": null,
       "overflow": null,
       "overflow_x": null,
       "overflow_y": null,
       "padding": null,
       "right": null,
       "top": null,
       "visibility": null,
       "width": null
      }
     },
     "6a1f7585b6fd42559cf98ec2d9ee274a": {
      "model_module": "@jupyter-widgets/controls",
      "model_module_version": "1.5.0",
      "model_name": "HBoxModel",
      "state": {
       "_dom_classes": [],
       "_model_module": "@jupyter-widgets/controls",
       "_model_module_version": "1.5.0",
       "_model_name": "HBoxModel",
       "_view_count": null,
       "_view_module": "@jupyter-widgets/controls",
       "_view_module_version": "1.5.0",
       "_view_name": "HBoxView",
       "box_style": "",
       "children": [
        "IPY_MODEL_64d6dde14b0340e09d84c53940031d0b",
        "IPY_MODEL_c91735edb99f408eb88019aba953c7c2",
        "IPY_MODEL_b1edbe581d23425ba586b655ca794465"
       ],
       "layout": "IPY_MODEL_e399c5a7e45643e3aa0b1086f9cf29f5"
      }
     },
     "6a603bb0cd9d41f2a508e9bcb0867af8": {
      "model_module": "@jupyter-widgets/controls",
      "model_module_version": "1.5.0",
      "model_name": "HTMLModel",
      "state": {
       "_dom_classes": [],
       "_model_module": "@jupyter-widgets/controls",
       "_model_module_version": "1.5.0",
       "_model_name": "HTMLModel",
       "_view_count": null,
       "_view_module": "@jupyter-widgets/controls",
       "_view_module_version": "1.5.0",
       "_view_name": "HTMLView",
       "description": "",
       "description_tooltip": null,
       "layout": "IPY_MODEL_8265317098924003940b882c7868402c",
       "placeholder": "​",
       "style": "IPY_MODEL_6b4a1d8f8d274b1bbdf1792bbbd803e9",
       "value": " 21.0M/21.0M [00:00&lt;00:00, 33.3MB/s]"
      }
     },
     "6b4a1d8f8d274b1bbdf1792bbbd803e9": {
      "model_module": "@jupyter-widgets/controls",
      "model_module_version": "1.5.0",
      "model_name": "DescriptionStyleModel",
      "state": {
       "_model_module": "@jupyter-widgets/controls",
       "_model_module_version": "1.5.0",
       "_model_name": "DescriptionStyleModel",
       "_view_count": null,
       "_view_module": "@jupyter-widgets/base",
       "_view_module_version": "1.2.0",
       "_view_name": "StyleView",
       "description_width": ""
      }
     },
     "74fe754027014648b2d06265f96051ff": {
      "model_module": "@jupyter-widgets/base",
      "model_module_version": "1.2.0",
      "model_name": "LayoutModel",
      "state": {
       "_model_module": "@jupyter-widgets/base",
       "_model_module_version": "1.2.0",
       "_model_name": "LayoutModel",
       "_view_count": null,
       "_view_module": "@jupyter-widgets/base",
       "_view_module_version": "1.2.0",
       "_view_name": "LayoutView",
       "align_content": null,
       "align_items": null,
       "align_self": null,
       "border": null,
       "bottom": null,
       "display": null,
       "flex": null,
       "flex_flow": null,
       "grid_area": null,
       "grid_auto_columns": null,
       "grid_auto_flow": null,
       "grid_auto_rows": null,
       "grid_column": null,
       "grid_gap": null,
       "grid_row": null,
       "grid_template_areas": null,
       "grid_template_columns": null,
       "grid_template_rows": null,
       "height": null,
       "justify_content": null,
       "justify_items": null,
       "left": null,
       "margin": null,
       "max_height": null,
       "max_width": null,
       "min_height": null,
       "min_width": null,
       "object_fit": null,
       "object_position": null,
       "order": null,
       "overflow": null,
       "overflow_x": null,
       "overflow_y": null,
       "padding": null,
       "right": null,
       "top": null,
       "visibility": null,
       "width": null
      }
     },
     "8265317098924003940b882c7868402c": {
      "model_module": "@jupyter-widgets/base",
      "model_module_version": "1.2.0",
      "model_name": "LayoutModel",
      "state": {
       "_model_module": "@jupyter-widgets/base",
       "_model_module_version": "1.2.0",
       "_model_name": "LayoutModel",
       "_view_count": null,
       "_view_module": "@jupyter-widgets/base",
       "_view_module_version": "1.2.0",
       "_view_name": "LayoutView",
       "align_content": null,
       "align_items": null,
       "align_self": null,
       "border": null,
       "bottom": null,
       "display": null,
       "flex": null,
       "flex_flow": null,
       "grid_area": null,
       "grid_auto_columns": null,
       "grid_auto_flow": null,
       "grid_auto_rows": null,
       "grid_column": null,
       "grid_gap": null,
       "grid_row": null,
       "grid_template_areas": null,
       "grid_template_columns": null,
       "grid_template_rows": null,
       "height": null,
       "justify_content": null,
       "justify_items": null,
       "left": null,
       "margin": null,
       "max_height": null,
       "max_width": null,
       "min_height": null,
       "min_width": null,
       "object_fit": null,
       "object_position": null,
       "order": null,
       "overflow": null,
       "overflow_x": null,
       "overflow_y": null,
       "padding": null,
       "right": null,
       "top": null,
       "visibility": null,
       "width": null
      }
     },
     "83b29f9861854edebc3b63dba5be8f87": {
      "model_module": "@jupyter-widgets/base",
      "model_module_version": "1.2.0",
      "model_name": "LayoutModel",
      "state": {
       "_model_module": "@jupyter-widgets/base",
       "_model_module_version": "1.2.0",
       "_model_name": "LayoutModel",
       "_view_count": null,
       "_view_module": "@jupyter-widgets/base",
       "_view_module_version": "1.2.0",
       "_view_name": "LayoutView",
       "align_content": null,
       "align_items": null,
       "align_self": null,
       "border": null,
       "bottom": null,
       "display": null,
       "flex": null,
       "flex_flow": null,
       "grid_area": null,
       "grid_auto_columns": null,
       "grid_auto_flow": null,
       "grid_auto_rows": null,
       "grid_column": null,
       "grid_gap": null,
       "grid_row": null,
       "grid_template_areas": null,
       "grid_template_columns": null,
       "grid_template_rows": null,
       "height": null,
       "justify_content": null,
       "justify_items": null,
       "left": null,
       "margin": null,
       "max_height": null,
       "max_width": null,
       "min_height": null,
       "min_width": null,
       "object_fit": null,
       "object_position": null,
       "order": null,
       "overflow": null,
       "overflow_x": null,
       "overflow_y": null,
       "padding": null,
       "right": null,
       "top": null,
       "visibility": null,
       "width": null
      }
     },
     "83f164ed472a4a9f85642a563605d2b1": {
      "model_module": "@jupyter-widgets/base",
      "model_module_version": "1.2.0",
      "model_name": "LayoutModel",
      "state": {
       "_model_module": "@jupyter-widgets/base",
       "_model_module_version": "1.2.0",
       "_model_name": "LayoutModel",
       "_view_count": null,
       "_view_module": "@jupyter-widgets/base",
       "_view_module_version": "1.2.0",
       "_view_name": "LayoutView",
       "align_content": null,
       "align_items": null,
       "align_self": null,
       "border": null,
       "bottom": null,
       "display": null,
       "flex": null,
       "flex_flow": null,
       "grid_area": null,
       "grid_auto_columns": null,
       "grid_auto_flow": null,
       "grid_auto_rows": null,
       "grid_column": null,
       "grid_gap": null,
       "grid_row": null,
       "grid_template_areas": null,
       "grid_template_columns": null,
       "grid_template_rows": null,
       "height": null,
       "justify_content": null,
       "justify_items": null,
       "left": null,
       "margin": null,
       "max_height": null,
       "max_width": null,
       "min_height": null,
       "min_width": null,
       "object_fit": null,
       "object_position": null,
       "order": null,
       "overflow": null,
       "overflow_x": null,
       "overflow_y": null,
       "padding": null,
       "right": null,
       "top": null,
       "visibility": null,
       "width": null
      }
     },
     "902f972dddc34e529e609c27ec00ff9a": {
      "model_module": "@jupyter-widgets/base",
      "model_module_version": "1.2.0",
      "model_name": "LayoutModel",
      "state": {
       "_model_module": "@jupyter-widgets/base",
       "_model_module_version": "1.2.0",
       "_model_name": "LayoutModel",
       "_view_count": null,
       "_view_module": "@jupyter-widgets/base",
       "_view_module_version": "1.2.0",
       "_view_name": "LayoutView",
       "align_content": null,
       "align_items": null,
       "align_self": null,
       "border": null,
       "bottom": null,
       "display": null,
       "flex": null,
       "flex_flow": null,
       "grid_area": null,
       "grid_auto_columns": null,
       "grid_auto_flow": null,
       "grid_auto_rows": null,
       "grid_column": null,
       "grid_gap": null,
       "grid_row": null,
       "grid_template_areas": null,
       "grid_template_columns": null,
       "grid_template_rows": null,
       "height": null,
       "justify_content": null,
       "justify_items": null,
       "left": null,
       "margin": null,
       "max_height": null,
       "max_width": null,
       "min_height": null,
       "min_width": null,
       "object_fit": null,
       "object_position": null,
       "order": null,
       "overflow": null,
       "overflow_x": null,
       "overflow_y": null,
       "padding": null,
       "right": null,
       "top": null,
       "visibility": null,
       "width": null
      }
     },
     "90e61d2b4a644c2d9c80541b8a706aff": {
      "model_module": "@jupyter-widgets/controls",
      "model_module_version": "1.5.0",
      "model_name": "DescriptionStyleModel",
      "state": {
       "_model_module": "@jupyter-widgets/controls",
       "_model_module_version": "1.5.0",
       "_model_name": "DescriptionStyleModel",
       "_view_count": null,
       "_view_module": "@jupyter-widgets/base",
       "_view_module_version": "1.2.0",
       "_view_name": "StyleView",
       "description_width": ""
      }
     },
     "93dc424191c84d0bbef15b15b31d1f0d": {
      "model_module": "@jupyter-widgets/controls",
      "model_module_version": "1.5.0",
      "model_name": "HTMLModel",
      "state": {
       "_dom_classes": [],
       "_model_module": "@jupyter-widgets/controls",
       "_model_module_version": "1.5.0",
       "_model_name": "HTMLModel",
       "_view_count": null,
       "_view_module": "@jupyter-widgets/controls",
       "_view_module_version": "1.5.0",
       "_view_name": "HTMLView",
       "description": "",
       "description_tooltip": null,
       "layout": "IPY_MODEL_aacfe68202e242a5989abce9ecd9f7b2",
       "placeholder": "​",
       "style": "IPY_MODEL_0d49bd141b4a44e2bad8815838aa67f7",
       "value": " 25000/25000 [00:00&lt;00:00, 114355.88 examples/s]"
      }
     },
     "9d28a106b1674826a0d3fe25878fc645": {
      "model_module": "@jupyter-widgets/base",
      "model_module_version": "1.2.0",
      "model_name": "LayoutModel",
      "state": {
       "_model_module": "@jupyter-widgets/base",
       "_model_module_version": "1.2.0",
       "_model_name": "LayoutModel",
       "_view_count": null,
       "_view_module": "@jupyter-widgets/base",
       "_view_module_version": "1.2.0",
       "_view_name": "LayoutView",
       "align_content": null,
       "align_items": null,
       "align_self": null,
       "border": null,
       "bottom": null,
       "display": null,
       "flex": null,
       "flex_flow": null,
       "grid_area": null,
       "grid_auto_columns": null,
       "grid_auto_flow": null,
       "grid_auto_rows": null,
       "grid_column": null,
       "grid_gap": null,
       "grid_row": null,
       "grid_template_areas": null,
       "grid_template_columns": null,
       "grid_template_rows": null,
       "height": null,
       "justify_content": null,
       "justify_items": null,
       "left": null,
       "margin": null,
       "max_height": null,
       "max_width": null,
       "min_height": null,
       "min_width": null,
       "object_fit": null,
       "object_position": null,
       "order": null,
       "overflow": null,
       "overflow_x": null,
       "overflow_y": null,
       "padding": null,
       "right": null,
       "top": null,
       "visibility": null,
       "width": null
      }
     },
     "a29e72acd77946c19970fe554b19785c": {
      "model_module": "@jupyter-widgets/controls",
      "model_module_version": "1.5.0",
      "model_name": "ProgressStyleModel",
      "state": {
       "_model_module": "@jupyter-widgets/controls",
       "_model_module_version": "1.5.0",
       "_model_name": "ProgressStyleModel",
       "_view_count": null,
       "_view_module": "@jupyter-widgets/base",
       "_view_module_version": "1.2.0",
       "_view_name": "StyleView",
       "bar_color": null,
       "description_width": ""
      }
     },
     "a3c522830d8e4e738f02bc1012537584": {
      "model_module": "@jupyter-widgets/base",
      "model_module_version": "1.2.0",
      "model_name": "LayoutModel",
      "state": {
       "_model_module": "@jupyter-widgets/base",
       "_model_module_version": "1.2.0",
       "_model_name": "LayoutModel",
       "_view_count": null,
       "_view_module": "@jupyter-widgets/base",
       "_view_module_version": "1.2.0",
       "_view_name": "LayoutView",
       "align_content": null,
       "align_items": null,
       "align_self": null,
       "border": null,
       "bottom": null,
       "display": null,
       "flex": null,
       "flex_flow": null,
       "grid_area": null,
       "grid_auto_columns": null,
       "grid_auto_flow": null,
       "grid_auto_rows": null,
       "grid_column": null,
       "grid_gap": null,
       "grid_row": null,
       "grid_template_areas": null,
       "grid_template_columns": null,
       "grid_template_rows": null,
       "height": null,
       "justify_content": null,
       "justify_items": null,
       "left": null,
       "margin": null,
       "max_height": null,
       "max_width": null,
       "min_height": null,
       "min_width": null,
       "object_fit": null,
       "object_position": null,
       "order": null,
       "overflow": null,
       "overflow_x": null,
       "overflow_y": null,
       "padding": null,
       "right": null,
       "top": null,
       "visibility": null,
       "width": null
      }
     },
     "a4a0ee39e31a4ee4901a0f6fdfddf927": {
      "model_module": "@jupyter-widgets/controls",
      "model_module_version": "1.5.0",
      "model_name": "ProgressStyleModel",
      "state": {
       "_model_module": "@jupyter-widgets/controls",
       "_model_module_version": "1.5.0",
       "_model_name": "ProgressStyleModel",
       "_view_count": null,
       "_view_module": "@jupyter-widgets/base",
       "_view_module_version": "1.2.0",
       "_view_name": "StyleView",
       "bar_color": null,
       "description_width": ""
      }
     },
     "a6e84eaec1ff421c9a16a34e4f6f32dd": {
      "model_module": "@jupyter-widgets/base",
      "model_module_version": "1.2.0",
      "model_name": "LayoutModel",
      "state": {
       "_model_module": "@jupyter-widgets/base",
       "_model_module_version": "1.2.0",
       "_model_name": "LayoutModel",
       "_view_count": null,
       "_view_module": "@jupyter-widgets/base",
       "_view_module_version": "1.2.0",
       "_view_name": "LayoutView",
       "align_content": null,
       "align_items": null,
       "align_self": null,
       "border": null,
       "bottom": null,
       "display": null,
       "flex": null,
       "flex_flow": null,
       "grid_area": null,
       "grid_auto_columns": null,
       "grid_auto_flow": null,
       "grid_auto_rows": null,
       "grid_column": null,
       "grid_gap": null,
       "grid_row": null,
       "grid_template_areas": null,
       "grid_template_columns": null,
       "grid_template_rows": null,
       "height": null,
       "justify_content": null,
       "justify_items": null,
       "left": null,
       "margin": null,
       "max_height": null,
       "max_width": null,
       "min_height": null,
       "min_width": null,
       "object_fit": null,
       "object_position": null,
       "order": null,
       "overflow": null,
       "overflow_x": null,
       "overflow_y": null,
       "padding": null,
       "right": null,
       "top": null,
       "visibility": null,
       "width": null
      }
     },
     "aa6dc98e0a0d4f5eb22a571a8f099ca0": {
      "model_module": "@jupyter-widgets/base",
      "model_module_version": "1.2.0",
      "model_name": "LayoutModel",
      "state": {
       "_model_module": "@jupyter-widgets/base",
       "_model_module_version": "1.2.0",
       "_model_name": "LayoutModel",
       "_view_count": null,
       "_view_module": "@jupyter-widgets/base",
       "_view_module_version": "1.2.0",
       "_view_name": "LayoutView",
       "align_content": null,
       "align_items": null,
       "align_self": null,
       "border": null,
       "bottom": null,
       "display": null,
       "flex": null,
       "flex_flow": null,
       "grid_area": null,
       "grid_auto_columns": null,
       "grid_auto_flow": null,
       "grid_auto_rows": null,
       "grid_column": null,
       "grid_gap": null,
       "grid_row": null,
       "grid_template_areas": null,
       "grid_template_columns": null,
       "grid_template_rows": null,
       "height": null,
       "justify_content": null,
       "justify_items": null,
       "left": null,
       "margin": null,
       "max_height": null,
       "max_width": null,
       "min_height": null,
       "min_width": null,
       "object_fit": null,
       "object_position": null,
       "order": null,
       "overflow": null,
       "overflow_x": null,
       "overflow_y": null,
       "padding": null,
       "right": null,
       "top": null,
       "visibility": null,
       "width": null
      }
     },
     "aacfe68202e242a5989abce9ecd9f7b2": {
      "model_module": "@jupyter-widgets/base",
      "model_module_version": "1.2.0",
      "model_name": "LayoutModel",
      "state": {
       "_model_module": "@jupyter-widgets/base",
       "_model_module_version": "1.2.0",
       "_model_name": "LayoutModel",
       "_view_count": null,
       "_view_module": "@jupyter-widgets/base",
       "_view_module_version": "1.2.0",
       "_view_name": "LayoutView",
       "align_content": null,
       "align_items": null,
       "align_self": null,
       "border": null,
       "bottom": null,
       "display": null,
       "flex": null,
       "flex_flow": null,
       "grid_area": null,
       "grid_auto_columns": null,
       "grid_auto_flow": null,
       "grid_auto_rows": null,
       "grid_column": null,
       "grid_gap": null,
       "grid_row": null,
       "grid_template_areas": null,
       "grid_template_columns": null,
       "grid_template_rows": null,
       "height": null,
       "justify_content": null,
       "justify_items": null,
       "left": null,
       "margin": null,
       "max_height": null,
       "max_width": null,
       "min_height": null,
       "min_width": null,
       "object_fit": null,
       "object_position": null,
       "order": null,
       "overflow": null,
       "overflow_x": null,
       "overflow_y": null,
       "padding": null,
       "right": null,
       "top": null,
       "visibility": null,
       "width": null
      }
     },
     "b1edbe581d23425ba586b655ca794465": {
      "model_module": "@jupyter-widgets/controls",
      "model_module_version": "1.5.0",
      "model_name": "HTMLModel",
      "state": {
       "_dom_classes": [],
       "_model_module": "@jupyter-widgets/controls",
       "_model_module_version": "1.5.0",
       "_model_name": "HTMLModel",
       "_view_count": null,
       "_view_module": "@jupyter-widgets/controls",
       "_view_module_version": "1.5.0",
       "_view_name": "HTMLView",
       "description": "",
       "description_tooltip": null,
       "layout": "IPY_MODEL_3c984c128c084aa5a36fbf057fab175a",
       "placeholder": "​",
       "style": "IPY_MODEL_ca6f88adbf2a4e40ba6dfde7315e1a9d",
       "value": " 7.81k/7.81k [00:00&lt;00:00, 613kB/s]"
      }
     },
     "b348d73797354863b036c1d09e923360": {
      "model_module": "@jupyter-widgets/controls",
      "model_module_version": "1.5.0",
      "model_name": "HTMLModel",
      "state": {
       "_dom_classes": [],
       "_model_module": "@jupyter-widgets/controls",
       "_model_module_version": "1.5.0",
       "_model_name": "HTMLModel",
       "_view_count": null,
       "_view_module": "@jupyter-widgets/controls",
       "_view_module_version": "1.5.0",
       "_view_name": "HTMLView",
       "description": "",
       "description_tooltip": null,
       "layout": "IPY_MODEL_83f164ed472a4a9f85642a563605d2b1",
       "placeholder": "​",
       "style": "IPY_MODEL_3a1533484df84b15ab380bf0a9fac410",
       "value": "Downloading data: 100%"
      }
     },
     "bfa25b8abe344f359ca480679dd82839": {
      "model_module": "@jupyter-widgets/controls",
      "model_module_version": "1.5.0",
      "model_name": "FloatProgressModel",
      "state": {
       "_dom_classes": [],
       "_model_module": "@jupyter-widgets/controls",
       "_model_module_version": "1.5.0",
       "_model_name": "FloatProgressModel",
       "_view_count": null,
       "_view_module": "@jupyter-widgets/controls",
       "_view_module_version": "1.5.0",
       "_view_name": "ProgressView",
       "bar_style": "success",
       "description": "",
       "description_tooltip": null,
       "layout": "IPY_MODEL_02a02ce8586f4299a792c3c4b6b70985",
       "max": 41996509,
       "min": 0,
       "orientation": "horizontal",
       "style": "IPY_MODEL_0506a254e9b047e595bbdef299b47485",
       "value": 41996509
      }
     },
     "bfd91800b2434ab08ef052ff84b0be63": {
      "model_module": "@jupyter-widgets/controls",
      "model_module_version": "1.5.0",
      "model_name": "HTMLModel",
      "state": {
       "_dom_classes": [],
       "_model_module": "@jupyter-widgets/controls",
       "_model_module_version": "1.5.0",
       "_model_name": "HTMLModel",
       "_view_count": null,
       "_view_module": "@jupyter-widgets/controls",
       "_view_module_version": "1.5.0",
       "_view_name": "HTMLView",
       "description": "",
       "description_tooltip": null,
       "layout": "IPY_MODEL_382166c3f18c44e6807022eba9de47b1",
       "placeholder": "​",
       "style": "IPY_MODEL_61a14491ce7a45abb645a9b71c25344f",
       "value": "Generating train split: 100%"
      }
     },
     "c06e2b4c14ff4fcca4cdbae7cad46200": {
      "model_module": "@jupyter-widgets/controls",
      "model_module_version": "1.5.0",
      "model_name": "HTMLModel",
      "state": {
       "_dom_classes": [],
       "_model_module": "@jupyter-widgets/controls",
       "_model_module_version": "1.5.0",
       "_model_name": "HTMLModel",
       "_view_count": null,
       "_view_module": "@jupyter-widgets/controls",
       "_view_module_version": "1.5.0",
       "_view_name": "HTMLView",
       "description": "",
       "description_tooltip": null,
       "layout": "IPY_MODEL_67ae898c888243f1964088591d653bd5",
       "placeholder": "​",
       "style": "IPY_MODEL_20fd9dca64524a19bade159c7aa634d8",
       "value": "Downloading data: 100%"
      }
     },
     "c33a834d74814cf78f96191eb5cb5932": {
      "model_module": "@jupyter-widgets/controls",
      "model_module_version": "1.5.0",
      "model_name": "DescriptionStyleModel",
      "state": {
       "_model_module": "@jupyter-widgets/controls",
       "_model_module_version": "1.5.0",
       "_model_name": "DescriptionStyleModel",
       "_view_count": null,
       "_view_module": "@jupyter-widgets/base",
       "_view_module_version": "1.2.0",
       "_view_name": "StyleView",
       "description_width": ""
      }
     },
     "c844132f9ee7457eae3e13310d146fa3": {
      "model_module": "@jupyter-widgets/controls",
      "model_module_version": "1.5.0",
      "model_name": "HBoxModel",
      "state": {
       "_dom_classes": [],
       "_model_module": "@jupyter-widgets/controls",
       "_model_module_version": "1.5.0",
       "_model_name": "HBoxModel",
       "_view_count": null,
       "_view_module": "@jupyter-widgets/controls",
       "_view_module_version": "1.5.0",
       "_view_name": "HBoxView",
       "box_style": "",
       "children": [
        "IPY_MODEL_d33ac417adc64b92820c93850d9e74d6",
        "IPY_MODEL_3dcdbaa7f97b48f2819162e33607e784",
        "IPY_MODEL_1a4ee1552eb4407a80c8204adcfc80da"
       ],
       "layout": "IPY_MODEL_ee53631197ef4f71990e90c4cf373d14"
      }
     },
     "c91735edb99f408eb88019aba953c7c2": {
      "model_module": "@jupyter-widgets/controls",
      "model_module_version": "1.5.0",
      "model_name": "FloatProgressModel",
      "state": {
       "_dom_classes": [],
       "_model_module": "@jupyter-widgets/controls",
       "_model_module_version": "1.5.0",
       "_model_name": "FloatProgressModel",
       "_view_count": null,
       "_view_module": "@jupyter-widgets/controls",
       "_view_module_version": "1.5.0",
       "_view_name": "ProgressView",
       "bar_style": "success",
       "description": "",
       "description_tooltip": null,
       "layout": "IPY_MODEL_52e1d8f48a654bb98a91f700c76b8c20",
       "max": 7809,
       "min": 0,
       "orientation": "horizontal",
       "style": "IPY_MODEL_a4a0ee39e31a4ee4901a0f6fdfddf927",
       "value": 7809
      }
     },
     "ca6f88adbf2a4e40ba6dfde7315e1a9d": {
      "model_module": "@jupyter-widgets/controls",
      "model_module_version": "1.5.0",
      "model_name": "DescriptionStyleModel",
      "state": {
       "_model_module": "@jupyter-widgets/controls",
       "_model_module_version": "1.5.0",
       "_model_name": "DescriptionStyleModel",
       "_view_count": null,
       "_view_module": "@jupyter-widgets/base",
       "_view_module_version": "1.2.0",
       "_view_name": "StyleView",
       "description_width": ""
      }
     },
     "cd79667079f747df9d82d49ca68f7d19": {
      "model_module": "@jupyter-widgets/base",
      "model_module_version": "1.2.0",
      "model_name": "LayoutModel",
      "state": {
       "_model_module": "@jupyter-widgets/base",
       "_model_module_version": "1.2.0",
       "_model_name": "LayoutModel",
       "_view_count": null,
       "_view_module": "@jupyter-widgets/base",
       "_view_module_version": "1.2.0",
       "_view_name": "LayoutView",
       "align_content": null,
       "align_items": null,
       "align_self": null,
       "border": null,
       "bottom": null,
       "display": null,
       "flex": null,
       "flex_flow": null,
       "grid_area": null,
       "grid_auto_columns": null,
       "grid_auto_flow": null,
       "grid_auto_rows": null,
       "grid_column": null,
       "grid_gap": null,
       "grid_row": null,
       "grid_template_areas": null,
       "grid_template_columns": null,
       "grid_template_rows": null,
       "height": null,
       "justify_content": null,
       "justify_items": null,
       "left": null,
       "margin": null,
       "max_height": null,
       "max_width": null,
       "min_height": null,
       "min_width": null,
       "object_fit": null,
       "object_position": null,
       "order": null,
       "overflow": null,
       "overflow_x": null,
       "overflow_y": null,
       "padding": null,
       "right": null,
       "top": null,
       "visibility": null,
       "width": null
      }
     },
     "ce1f029cef074070945b6c44607e5733": {
      "model_module": "@jupyter-widgets/controls",
      "model_module_version": "1.5.0",
      "model_name": "HBoxModel",
      "state": {
       "_dom_classes": [],
       "_model_module": "@jupyter-widgets/controls",
       "_model_module_version": "1.5.0",
       "_model_name": "HBoxModel",
       "_view_count": null,
       "_view_module": "@jupyter-widgets/controls",
       "_view_module_version": "1.5.0",
       "_view_name": "HBoxView",
       "box_style": "",
       "children": [
        "IPY_MODEL_01fcf03faea74b64811cd867665fa237",
        "IPY_MODEL_1dcbb7a4729c49259feaa1017b74917f",
        "IPY_MODEL_d7780466dbea4274996566938ccf7d85"
       ],
       "layout": "IPY_MODEL_e24e09b6439c47f58dd649c0ed897710"
      }
     },
     "d33ac417adc64b92820c93850d9e74d6": {
      "model_module": "@jupyter-widgets/controls",
      "model_module_version": "1.5.0",
      "model_name": "HTMLModel",
      "state": {
       "_dom_classes": [],
       "_model_module": "@jupyter-widgets/controls",
       "_model_module_version": "1.5.0",
       "_model_name": "HTMLModel",
       "_view_count": null,
       "_view_module": "@jupyter-widgets/controls",
       "_view_module_version": "1.5.0",
       "_view_name": "HTMLView",
       "description": "",
       "description_tooltip": null,
       "layout": "IPY_MODEL_db73612f776544d486c3a4a8e171f9e8",
       "placeholder": "​",
       "style": "IPY_MODEL_158b8b8c5f4e42a5b29422682fb187c6",
       "value": "Generating unsupervised split: 100%"
      }
     },
     "d71a0b20a60848e6aeebd6b92bd8331e": {
      "model_module": "@jupyter-widgets/base",
      "model_module_version": "1.2.0",
      "model_name": "LayoutModel",
      "state": {
       "_model_module": "@jupyter-widgets/base",
       "_model_module_version": "1.2.0",
       "_model_name": "LayoutModel",
       "_view_count": null,
       "_view_module": "@jupyter-widgets/base",
       "_view_module_version": "1.2.0",
       "_view_name": "LayoutView",
       "align_content": null,
       "align_items": null,
       "align_self": null,
       "border": null,
       "bottom": null,
       "display": null,
       "flex": null,
       "flex_flow": null,
       "grid_area": null,
       "grid_auto_columns": null,
       "grid_auto_flow": null,
       "grid_auto_rows": null,
       "grid_column": null,
       "grid_gap": null,
       "grid_row": null,
       "grid_template_areas": null,
       "grid_template_columns": null,
       "grid_template_rows": null,
       "height": null,
       "justify_content": null,
       "justify_items": null,
       "left": null,
       "margin": null,
       "max_height": null,
       "max_width": null,
       "min_height": null,
       "min_width": null,
       "object_fit": null,
       "object_position": null,
       "order": null,
       "overflow": null,
       "overflow_x": null,
       "overflow_y": null,
       "padding": null,
       "right": null,
       "top": null,
       "visibility": null,
       "width": null
      }
     },
     "d7486dcaaa544a4a856150cb70946c9f": {
      "model_module": "@jupyter-widgets/controls",
      "model_module_version": "1.5.0",
      "model_name": "FloatProgressModel",
      "state": {
       "_dom_classes": [],
       "_model_module": "@jupyter-widgets/controls",
       "_model_module_version": "1.5.0",
       "_model_name": "FloatProgressModel",
       "_view_count": null,
       "_view_module": "@jupyter-widgets/controls",
       "_view_module_version": "1.5.0",
       "_view_name": "ProgressView",
       "bar_style": "success",
       "description": "",
       "description_tooltip": null,
       "layout": "IPY_MODEL_a3c522830d8e4e738f02bc1012537584",
       "max": 20979968,
       "min": 0,
       "orientation": "horizontal",
       "style": "IPY_MODEL_f635cf56063a48ed883c52ba2eb90b1f",
       "value": 20979968
      }
     },
     "d7780466dbea4274996566938ccf7d85": {
      "model_module": "@jupyter-widgets/controls",
      "model_module_version": "1.5.0",
      "model_name": "HTMLModel",
      "state": {
       "_dom_classes": [],
       "_model_module": "@jupyter-widgets/controls",
       "_model_module_version": "1.5.0",
       "_model_name": "HTMLModel",
       "_view_count": null,
       "_view_module": "@jupyter-widgets/controls",
       "_view_module_version": "1.5.0",
       "_view_name": "HTMLView",
       "description": "",
       "description_tooltip": null,
       "layout": "IPY_MODEL_dd28c967b91047ec89f652cf2967360e",
       "placeholder": "​",
       "style": "IPY_MODEL_e43b08aa6fb44e0f83cd495e23cac15d",
       "value": " 3/3 [00:00&lt;00:00, 368.33it/s]"
      }
     },
     "db73612f776544d486c3a4a8e171f9e8": {
      "model_module": "@jupyter-widgets/base",
      "model_module_version": "1.2.0",
      "model_name": "LayoutModel",
      "state": {
       "_model_module": "@jupyter-widgets/base",
       "_model_module_version": "1.2.0",
       "_model_name": "LayoutModel",
       "_view_count": null,
       "_view_module": "@jupyter-widgets/base",
       "_view_module_version": "1.2.0",
       "_view_name": "LayoutView",
       "align_content": null,
       "align_items": null,
       "align_self": null,
       "border": null,
       "bottom": null,
       "display": null,
       "flex": null,
       "flex_flow": null,
       "grid_area": null,
       "grid_auto_columns": null,
       "grid_auto_flow": null,
       "grid_auto_rows": null,
       "grid_column": null,
       "grid_gap": null,
       "grid_row": null,
       "grid_template_areas": null,
       "grid_template_columns": null,
       "grid_template_rows": null,
       "height": null,
       "justify_content": null,
       "justify_items": null,
       "left": null,
       "margin": null,
       "max_height": null,
       "max_width": null,
       "min_height": null,
       "min_width": null,
       "object_fit": null,
       "object_position": null,
       "order": null,
       "overflow": null,
       "overflow_x": null,
       "overflow_y": null,
       "padding": null,
       "right": null,
       "top": null,
       "visibility": null,
       "width": null
      }
     },
     "dd28c967b91047ec89f652cf2967360e": {
      "model_module": "@jupyter-widgets/base",
      "model_module_version": "1.2.0",
      "model_name": "LayoutModel",
      "state": {
       "_model_module": "@jupyter-widgets/base",
       "_model_module_version": "1.2.0",
       "_model_name": "LayoutModel",
       "_view_count": null,
       "_view_module": "@jupyter-widgets/base",
       "_view_module_version": "1.2.0",
       "_view_name": "LayoutView",
       "align_content": null,
       "align_items": null,
       "align_self": null,
       "border": null,
       "bottom": null,
       "display": null,
       "flex": null,
       "flex_flow": null,
       "grid_area": null,
       "grid_auto_columns": null,
       "grid_auto_flow": null,
       "grid_auto_rows": null,
       "grid_column": null,
       "grid_gap": null,
       "grid_row": null,
       "grid_template_areas": null,
       "grid_template_columns": null,
       "grid_template_rows": null,
       "height": null,
       "justify_content": null,
       "justify_items": null,
       "left": null,
       "margin": null,
       "max_height": null,
       "max_width": null,
       "min_height": null,
       "min_width": null,
       "object_fit": null,
       "object_position": null,
       "order": null,
       "overflow": null,
       "overflow_x": null,
       "overflow_y": null,
       "padding": null,
       "right": null,
       "top": null,
       "visibility": null,
       "width": null
      }
     },
     "dedce95b777a4b7eb96f2a188f0b13d3": {
      "model_module": "@jupyter-widgets/controls",
      "model_module_version": "1.5.0",
      "model_name": "DescriptionStyleModel",
      "state": {
       "_model_module": "@jupyter-widgets/controls",
       "_model_module_version": "1.5.0",
       "_model_name": "DescriptionStyleModel",
       "_view_count": null,
       "_view_module": "@jupyter-widgets/base",
       "_view_module_version": "1.2.0",
       "_view_name": "StyleView",
       "description_width": ""
      }
     },
     "e24e09b6439c47f58dd649c0ed897710": {
      "model_module": "@jupyter-widgets/base",
      "model_module_version": "1.2.0",
      "model_name": "LayoutModel",
      "state": {
       "_model_module": "@jupyter-widgets/base",
       "_model_module_version": "1.2.0",
       "_model_name": "LayoutModel",
       "_view_count": null,
       "_view_module": "@jupyter-widgets/base",
       "_view_module_version": "1.2.0",
       "_view_name": "LayoutView",
       "align_content": null,
       "align_items": null,
       "align_self": null,
       "border": null,
       "bottom": null,
       "display": null,
       "flex": null,
       "flex_flow": null,
       "grid_area": null,
       "grid_auto_columns": null,
       "grid_auto_flow": null,
       "grid_auto_rows": null,
       "grid_column": null,
       "grid_gap": null,
       "grid_row": null,
       "grid_template_areas": null,
       "grid_template_columns": null,
       "grid_template_rows": null,
       "height": null,
       "justify_content": null,
       "justify_items": null,
       "left": null,
       "margin": null,
       "max_height": null,
       "max_width": null,
       "min_height": null,
       "min_width": null,
       "object_fit": null,
       "object_position": null,
       "order": null,
       "overflow": null,
       "overflow_x": null,
       "overflow_y": null,
       "padding": null,
       "right": null,
       "top": null,
       "visibility": null,
       "width": null
      }
     },
     "e31884d339bf4903a239a17dce54d328": {
      "model_module": "@jupyter-widgets/controls",
      "model_module_version": "1.5.0",
      "model_name": "ProgressStyleModel",
      "state": {
       "_model_module": "@jupyter-widgets/controls",
       "_model_module_version": "1.5.0",
       "_model_name": "ProgressStyleModel",
       "_view_count": null,
       "_view_module": "@jupyter-widgets/base",
       "_view_module_version": "1.2.0",
       "_view_name": "StyleView",
       "bar_color": null,
       "description_width": ""
      }
     },
     "e399c5a7e45643e3aa0b1086f9cf29f5": {
      "model_module": "@jupyter-widgets/base",
      "model_module_version": "1.2.0",
      "model_name": "LayoutModel",
      "state": {
       "_model_module": "@jupyter-widgets/base",
       "_model_module_version": "1.2.0",
       "_model_name": "LayoutModel",
       "_view_count": null,
       "_view_module": "@jupyter-widgets/base",
       "_view_module_version": "1.2.0",
       "_view_name": "LayoutView",
       "align_content": null,
       "align_items": null,
       "align_self": null,
       "border": null,
       "bottom": null,
       "display": null,
       "flex": null,
       "flex_flow": null,
       "grid_area": null,
       "grid_auto_columns": null,
       "grid_auto_flow": null,
       "grid_auto_rows": null,
       "grid_column": null,
       "grid_gap": null,
       "grid_row": null,
       "grid_template_areas": null,
       "grid_template_columns": null,
       "grid_template_rows": null,
       "height": null,
       "justify_content": null,
       "justify_items": null,
       "left": null,
       "margin": null,
       "max_height": null,
       "max_width": null,
       "min_height": null,
       "min_width": null,
       "object_fit": null,
       "object_position": null,
       "order": null,
       "overflow": null,
       "overflow_x": null,
       "overflow_y": null,
       "padding": null,
       "right": null,
       "top": null,
       "visibility": null,
       "width": null
      }
     },
     "e43b08aa6fb44e0f83cd495e23cac15d": {
      "model_module": "@jupyter-widgets/controls",
      "model_module_version": "1.5.0",
      "model_name": "DescriptionStyleModel",
      "state": {
       "_model_module": "@jupyter-widgets/controls",
       "_model_module_version": "1.5.0",
       "_model_name": "DescriptionStyleModel",
       "_view_count": null,
       "_view_module": "@jupyter-widgets/base",
       "_view_module_version": "1.2.0",
       "_view_name": "StyleView",
       "description_width": ""
      }
     },
     "e505c259c4bc4d3f91d505dc5765f793": {
      "model_module": "@jupyter-widgets/base",
      "model_module_version": "1.2.0",
      "model_name": "LayoutModel",
      "state": {
       "_model_module": "@jupyter-widgets/base",
       "_model_module_version": "1.2.0",
       "_model_name": "LayoutModel",
       "_view_count": null,
       "_view_module": "@jupyter-widgets/base",
       "_view_module_version": "1.2.0",
       "_view_name": "LayoutView",
       "align_content": null,
       "align_items": null,
       "align_self": null,
       "border": null,
       "bottom": null,
       "display": null,
       "flex": null,
       "flex_flow": null,
       "grid_area": null,
       "grid_auto_columns": null,
       "grid_auto_flow": null,
       "grid_auto_rows": null,
       "grid_column": null,
       "grid_gap": null,
       "grid_row": null,
       "grid_template_areas": null,
       "grid_template_columns": null,
       "grid_template_rows": null,
       "height": null,
       "justify_content": null,
       "justify_items": null,
       "left": null,
       "margin": null,
       "max_height": null,
       "max_width": null,
       "min_height": null,
       "min_width": null,
       "object_fit": null,
       "object_position": null,
       "order": null,
       "overflow": null,
       "overflow_x": null,
       "overflow_y": null,
       "padding": null,
       "right": null,
       "top": null,
       "visibility": null,
       "width": null
      }
     },
     "e5a7baf2d0ac482c93b9393ddace0d44": {
      "model_module": "@jupyter-widgets/controls",
      "model_module_version": "1.5.0",
      "model_name": "HTMLModel",
      "state": {
       "_dom_classes": [],
       "_model_module": "@jupyter-widgets/controls",
       "_model_module_version": "1.5.0",
       "_model_name": "HTMLModel",
       "_view_count": null,
       "_view_module": "@jupyter-widgets/controls",
       "_view_module_version": "1.5.0",
       "_view_name": "HTMLView",
       "description": "",
       "description_tooltip": null,
       "layout": "IPY_MODEL_ff75699c8fbb4911adb3a4cb3952afc7",
       "placeholder": "​",
       "style": "IPY_MODEL_dedce95b777a4b7eb96f2a188f0b13d3",
       "value": " 25000/25000 [00:00&lt;00:00, 100902.17 examples/s]"
      }
     },
     "e826c1c9b9d14be384a826ab21d905fe": {
      "model_module": "@jupyter-widgets/controls",
      "model_module_version": "1.5.0",
      "model_name": "DescriptionStyleModel",
      "state": {
       "_model_module": "@jupyter-widgets/controls",
       "_model_module_version": "1.5.0",
       "_model_name": "DescriptionStyleModel",
       "_view_count": null,
       "_view_module": "@jupyter-widgets/base",
       "_view_module_version": "1.2.0",
       "_view_name": "StyleView",
       "description_width": ""
      }
     },
     "ee53631197ef4f71990e90c4cf373d14": {
      "model_module": "@jupyter-widgets/base",
      "model_module_version": "1.2.0",
      "model_name": "LayoutModel",
      "state": {
       "_model_module": "@jupyter-widgets/base",
       "_model_module_version": "1.2.0",
       "_model_name": "LayoutModel",
       "_view_count": null,
       "_view_module": "@jupyter-widgets/base",
       "_view_module_version": "1.2.0",
       "_view_name": "LayoutView",
       "align_content": null,
       "align_items": null,
       "align_self": null,
       "border": null,
       "bottom": null,
       "display": null,
       "flex": null,
       "flex_flow": null,
       "grid_area": null,
       "grid_auto_columns": null,
       "grid_auto_flow": null,
       "grid_auto_rows": null,
       "grid_column": null,
       "grid_gap": null,
       "grid_row": null,
       "grid_template_areas": null,
       "grid_template_columns": null,
       "grid_template_rows": null,
       "height": null,
       "justify_content": null,
       "justify_items": null,
       "left": null,
       "margin": null,
       "max_height": null,
       "max_width": null,
       "min_height": null,
       "min_width": null,
       "object_fit": null,
       "object_position": null,
       "order": null,
       "overflow": null,
       "overflow_x": null,
       "overflow_y": null,
       "padding": null,
       "right": null,
       "top": null,
       "visibility": null,
       "width": null
      }
     },
     "f5df96cd395b4ff1a9f2389f7ce78b6f": {
      "model_module": "@jupyter-widgets/controls",
      "model_module_version": "1.5.0",
      "model_name": "HBoxModel",
      "state": {
       "_dom_classes": [],
       "_model_module": "@jupyter-widgets/controls",
       "_model_module_version": "1.5.0",
       "_model_name": "HBoxModel",
       "_view_count": null,
       "_view_module": "@jupyter-widgets/controls",
       "_view_module_version": "1.5.0",
       "_view_name": "HBoxView",
       "box_style": "",
       "children": [
        "IPY_MODEL_b348d73797354863b036c1d09e923360",
        "IPY_MODEL_bfa25b8abe344f359ca480679dd82839",
        "IPY_MODEL_31078277b62146e2a5d95e0cb2378b01"
       ],
       "layout": "IPY_MODEL_526723e5fd704a09b9427e16949c7300"
      }
     },
     "f635cf56063a48ed883c52ba2eb90b1f": {
      "model_module": "@jupyter-widgets/controls",
      "model_module_version": "1.5.0",
      "model_name": "ProgressStyleModel",
      "state": {
       "_model_module": "@jupyter-widgets/controls",
       "_model_module_version": "1.5.0",
       "_model_name": "ProgressStyleModel",
       "_view_count": null,
       "_view_module": "@jupyter-widgets/base",
       "_view_module_version": "1.2.0",
       "_view_name": "StyleView",
       "bar_color": null,
       "description_width": ""
      }
     },
     "f861ca3c6cf84fa282f7902d81ea2a08": {
      "model_module": "@jupyter-widgets/base",
      "model_module_version": "1.2.0",
      "model_name": "LayoutModel",
      "state": {
       "_model_module": "@jupyter-widgets/base",
       "_model_module_version": "1.2.0",
       "_model_name": "LayoutModel",
       "_view_count": null,
       "_view_module": "@jupyter-widgets/base",
       "_view_module_version": "1.2.0",
       "_view_name": "LayoutView",
       "align_content": null,
       "align_items": null,
       "align_self": null,
       "border": null,
       "bottom": null,
       "display": null,
       "flex": null,
       "flex_flow": null,
       "grid_area": null,
       "grid_auto_columns": null,
       "grid_auto_flow": null,
       "grid_auto_rows": null,
       "grid_column": null,
       "grid_gap": null,
       "grid_row": null,
       "grid_template_areas": null,
       "grid_template_columns": null,
       "grid_template_rows": null,
       "height": null,
       "justify_content": null,
       "justify_items": null,
       "left": null,
       "margin": null,
       "max_height": null,
       "max_width": null,
       "min_height": null,
       "min_width": null,
       "object_fit": null,
       "object_position": null,
       "order": null,
       "overflow": null,
       "overflow_x": null,
       "overflow_y": null,
       "padding": null,
       "right": null,
       "top": null,
       "visibility": null,
       "width": null
      }
     },
     "fbdff4da984141fcb4b5d325eceafad9": {
      "model_module": "@jupyter-widgets/controls",
      "model_module_version": "1.5.0",
      "model_name": "ProgressStyleModel",
      "state": {
       "_model_module": "@jupyter-widgets/controls",
       "_model_module_version": "1.5.0",
       "_model_name": "ProgressStyleModel",
       "_view_count": null,
       "_view_module": "@jupyter-widgets/base",
       "_view_module_version": "1.2.0",
       "_view_name": "StyleView",
       "bar_color": null,
       "description_width": ""
      }
     },
     "ff75699c8fbb4911adb3a4cb3952afc7": {
      "model_module": "@jupyter-widgets/base",
      "model_module_version": "1.2.0",
      "model_name": "LayoutModel",
      "state": {
       "_model_module": "@jupyter-widgets/base",
       "_model_module_version": "1.2.0",
       "_model_name": "LayoutModel",
       "_view_count": null,
       "_view_module": "@jupyter-widgets/base",
       "_view_module_version": "1.2.0",
       "_view_name": "LayoutView",
       "align_content": null,
       "align_items": null,
       "align_self": null,
       "border": null,
       "bottom": null,
       "display": null,
       "flex": null,
       "flex_flow": null,
       "grid_area": null,
       "grid_auto_columns": null,
       "grid_auto_flow": null,
       "grid_auto_rows": null,
       "grid_column": null,
       "grid_gap": null,
       "grid_row": null,
       "grid_template_areas": null,
       "grid_template_columns": null,
       "grid_template_rows": null,
       "height": null,
       "justify_content": null,
       "justify_items": null,
       "left": null,
       "margin": null,
       "max_height": null,
       "max_width": null,
       "min_height": null,
       "min_width": null,
       "object_fit": null,
       "object_position": null,
       "order": null,
       "overflow": null,
       "overflow_x": null,
       "overflow_y": null,
       "padding": null,
       "right": null,
       "top": null,
       "visibility": null,
       "width": null
      }
     }
    },
    "version_major": 2,
    "version_minor": 0
   }
  }
 },
 "nbformat": 4,
 "nbformat_minor": 5
}
