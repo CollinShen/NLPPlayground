{
 "cells": [
  {
   "cell_type": "markdown",
   "metadata": {},
   "source": [
    "# Text Augmentation"
   ]
  },
  {
   "cell_type": "code",
   "execution_count": 1,
   "metadata": {},
   "outputs": [
    {
     "name": "stdout",
     "output_type": "stream",
     "text": [
      "Original Text:\n",
      " Natural language processing is an exciting field of artificial intelligence. It is a subfield of linguistics, computer science, and artificial intelligence concerned with the interactions between computers and human language.\n"
     ]
    },
    {
     "name": "stderr",
     "output_type": "stream",
     "text": [
      "[nltk_data] Downloading package wordnet to /home/omar/nltk_data...\n",
      "[nltk_data]   Package wordnet is already up-to-date!\n",
      "[nltk_data] Downloading package omw-1.4 to /home/omar/nltk_data...\n",
      "[nltk_data]   Package omw-1.4 is already up-to-date!\n"
     ]
    }
   ],
   "source": [
    "import nltk\n",
    "import random\n",
    "import string\n",
    "from nltk.corpus import wordnet\n",
    "\n",
    "# Ensure required NLTK data is available\n",
    "nltk.download('wordnet')\n",
    "nltk.download('omw-1.4')  # Synonym database\n",
    "\n",
    "# Sample text for augmentation\n",
    "text = \"Natural language processing is an exciting field of artificial intelligence. It is a subfield of linguistics, computer science, and artificial intelligence concerned with the interactions between computers and human language.\"\n",
    "\n",
    "# Display the original text\n",
    "print(\"Original Text:\\n\", text)"
   ]
  },
  {
   "cell_type": "markdown",
   "metadata": {},
   "source": [
    "## 1. Synonym Replacement 🔄\n",
    "Replace words in a sentence with their synonyms."
   ]
  },
  {
   "cell_type": "code",
   "execution_count": 2,
   "metadata": {},
   "outputs": [
    {
     "name": "stdout",
     "output_type": "stream",
     "text": [
      "Augmented Text with Synonyms:\n",
      " innate language sue be AN turn_on field of hokey intelligence. IT be amp subfield of linguistics, computer science, and hokey word concerned with the fundamental_interaction betwixt computers and human_being language.\n"
     ]
    }
   ],
   "source": [
    "def get_synonyms(word):\n",
    "    \"\"\"Fetch synonyms for a given word.\"\"\"\n",
    "    synonyms = []\n",
    "    for syn in wordnet.synsets(word):\n",
    "        for lemma in syn.lemmas():\n",
    "            synonyms.append(lemma.name())\n",
    "    return synonyms\n",
    "\n",
    "def synonym_replacement(sentence, n=3):\n",
    "    \"\"\"Replace 'n' random words in the sentence with their synonyms.\"\"\"\n",
    "    words = sentence.split()\n",
    "    new_words = words.copy()\n",
    "    random_word_list = list(set(words))\n",
    "    random.shuffle(random_word_list)\n",
    "    num_replaced = 0\n",
    "    for random_word in random_word_list:\n",
    "        synonyms = get_synonyms(random_word)\n",
    "        if synonyms:\n",
    "            synonym = random.choice(synonyms)\n",
    "            new_words = [synonym if word == random_word else word for word in new_words]\n",
    "            num_replaced += 1\n",
    "        if num_replaced >= n:\n",
    "            break\n",
    "    return ' '.join(new_words)\n",
    "\n",
    "# Perform synonym replacement\n",
    "augmented_text = synonym_replacement(text, n=12)\n",
    "print(\"Augmented Text with Synonyms:\\n\", augmented_text)"
   ]
  },
  {
   "cell_type": "markdown",
   "metadata": {},
   "source": [
    "# 2. Random Insertion 📥\n",
    "Randomly insert new words into a sentence."
   ]
  },
  {
   "cell_type": "code",
   "execution_count": 3,
   "metadata": {},
   "outputs": [
    {
     "name": "stdout",
     "output_type": "stream",
     "text": [
      "Augmented Text with Insertions:\n",
      " Natural language be processing is embody an exciting field of artificial embody intelligence. It is artificial a subfield of linguistics, computer science, and artificial type_A intelligence concerned with the interactions between computers and human language.\n"
     ]
    }
   ],
   "source": [
    "def random_insertion(sentence, n=2):\n",
    "    \"\"\"Insert 'n' random synonyms into the sentence.\"\"\"\n",
    "    words = sentence.split()\n",
    "    new_words = words.copy()\n",
    "    for _ in range(n):\n",
    "        add_word(new_words)\n",
    "    return ' '.join(new_words)\n",
    "\n",
    "def add_word(new_words):\n",
    "    \"\"\"Add a random synonym of a random word in the sentence.\"\"\"\n",
    "    synonyms = []\n",
    "    counter = 0\n",
    "    while len(synonyms) < 1 and counter < 10:\n",
    "        random_word = new_words[random.randint(0, len(new_words) - 1)]\n",
    "        synonyms = get_synonyms(random_word)\n",
    "        counter += 1\n",
    "    if synonyms:\n",
    "        synonym = random.choice(synonyms)\n",
    "        random_idx = random.randint(0, len(new_words) - 1)\n",
    "        new_words.insert(random_idx, synonym)\n",
    "\n",
    "# Perform random insertion\n",
    "augmented_text = random_insertion(text, n=5)\n",
    "print(\"Augmented Text with Insertions:\\n\", augmented_text)"
   ]
  },
  {
   "cell_type": "markdown",
   "metadata": {},
   "source": [
    "# 3. Random Deletion ❌\n",
    "Randomly delete words from a sentence."
   ]
  },
  {
   "cell_type": "code",
   "execution_count": 4,
   "metadata": {},
   "outputs": [
    {
     "name": "stdout",
     "output_type": "stream",
     "text": [
      "Augmented Text with Deletions:\n",
      " Natural language processing an artificial intelligence. It is computer artificial intelligence concerned with the between computers and human language.\n"
     ]
    }
   ],
   "source": [
    "def random_deletion(sentence, p=0.2):\n",
    "    \"\"\"Randomly delete words from the sentence with probability 'p'.\"\"\"\n",
    "    words = sentence.split()\n",
    "    if len(words) == 1:\n",
    "        return sentence\n",
    "    new_words = []\n",
    "    for word in words:\n",
    "        r = random.uniform(0, 1)\n",
    "        if r > p:\n",
    "            new_words.append(word)\n",
    "    if not new_words:\n",
    "        return random.choice(words)\n",
    "    return ' '.join(new_words)\n",
    "\n",
    "# Perform random deletion\n",
    "augmented_text = random_deletion(text, p=0.3)\n",
    "print(\"Augmented Text with Deletions:\\n\", augmented_text)"
   ]
  },
  {
   "cell_type": "markdown",
   "metadata": {},
   "source": [
    "# 4. Random Swap 🔀\n",
    "Swap the positions of two words in a sentence."
   ]
  },
  {
   "cell_type": "code",
   "execution_count": 5,
   "metadata": {},
   "outputs": [
    {
     "name": "stdout",
     "output_type": "stream",
     "text": [
      "Augmented Text with Swaps:\n",
      " Natural language processing is an exciting field computer artificial intelligence. It is a subfield of linguistics, of science, and artificial intelligence concerned with between interactions the computers and human language.\n"
     ]
    }
   ],
   "source": [
    "def random_swap(sentence, n=2):\n",
    "    \"\"\"Swap the positions of two words 'n' times.\"\"\"\n",
    "    words = sentence.split()\n",
    "    new_words = words.copy()\n",
    "    for _ in range(n):\n",
    "        new_words = swap_word(new_words)\n",
    "    return ' '.join(new_words)\n",
    "\n",
    "def swap_word(new_words):\n",
    "    \"\"\"Randomly swap two words in the list.\"\"\"\n",
    "    idx1 = random.randint(0, len(new_words) - 1)\n",
    "    idx2 = idx1\n",
    "    counter = 0\n",
    "    while idx2 == idx1 and counter < 10:\n",
    "        idx2 = random.randint(0, len(new_words) - 1)\n",
    "        counter += 1\n",
    "    new_words[idx1], new_words[idx2] = new_words[idx2], new_words[idx1]\n",
    "    return new_words\n",
    "\n",
    "# Perform random swap\n",
    "augmented_text = random_swap(text, n=2)\n",
    "print(\"Augmented Text with Swaps:\\n\", augmented_text)"
   ]
  },
  {
   "cell_type": "markdown",
   "metadata": {},
   "source": [
    "# 5. Back Translation 🌐\n",
    "Translate a sentence to another language and then back to the original language."
   ]
  },
  {
   "cell_type": "code",
   "execution_count": 6,
   "metadata": {},
   "outputs": [
    {
     "name": "stdout",
     "output_type": "stream",
     "text": [
      "Augmented Text with Back Translation:\n",
      " Natural language processing is an artificial intelligence field. It is a sub -field of linguistics, computer science and artificial intelligence concerned with interactions between computers and human language.\n"
     ]
    }
   ],
   "source": [
    "from googletrans import Translator\n",
    "\n",
    "def back_translation(sentence, src_lang='en', mid_lang='fr'):\n",
    "    \"\"\"Translate the sentence to 'mid_lang' and back to 'src_lang'.\"\"\"\n",
    "    translator = Translator()\n",
    "    translated = translator.translate(sentence, src=src_lang, dest=mid_lang).text\n",
    "    back_translated = translator.translate(translated, src=mid_lang, dest=src_lang).text\n",
    "    return back_translated\n",
    "\n",
    "# Perform back translation\n",
    "augmented_text = back_translation(text, src_lang='en', mid_lang='ar')\n",
    "print(\"Augmented Text with Back Translation:\\n\", augmented_text)"
   ]
  },
  {
   "cell_type": "markdown",
   "metadata": {},
   "source": [
    "# 6. Noise Injection 🐛\n",
    "Add noise to a sentence by replacing characters with similar looking characters."
   ]
  },
  {
   "cell_type": "code",
   "execution_count": 7,
   "metadata": {},
   "outputs": [
    {
     "name": "stdout",
     "output_type": "stream",
     "text": [
      "Augmented Text with Noise Injection:\n",
      " Natural language processiRg is an exciting field of artificial intelligencL. It is a subfield of lUnguistiQs, computer science, and artificial intelligence concerned with the interactions cetween computers and human language.\n"
     ]
    }
   ],
   "source": [
    "def noise_injection(sentence, n=2):\n",
    "    \"\"\"Inject noise into the sentence by adding typos.\"\"\"\n",
    "    words = list(sentence)\n",
    "    num_chars = len(words)\n",
    "    for _ in range(n):\n",
    "        char_idx = random.randint(0, num_chars - 1)\n",
    "        words[char_idx] = random.choice(string.ascii_letters)\n",
    "    return ''.join(words)\n",
    "\n",
    "# Perform noise injection\n",
    "augmented_text = noise_injection(text, n=5)\n",
    "print(\"Augmented Text with Noise Injection:\\n\", augmented_text)"
   ]
  },
  {
   "cell_type": "markdown",
   "metadata": {},
   "source": [
    "## Putting It All Together\n",
    "Let's create a complete text augmentation pipeline that can apply multiple augmentations to a text."
   ]
  },
  {
   "cell_type": "code",
   "execution_count": 9,
   "metadata": {},
   "outputs": [
    {
     "name": "stdout",
     "output_type": "stream",
     "text": [
      "Final Augmented Text:\n",
      " Natural intelligence. processing is an computer field of artificVal language It is a subfield of linguistics, exciting between and artificial intelligence_information concerned with languZge. interactions science, computers and man the\n"
     ]
    }
   ],
   "source": [
    "def augment_text(text, num_augmentations=4):\n",
    "    \"\"\"Apply multiple text augmentation techniques.\"\"\"\n",
    "    augmentations = [\n",
    "        synonym_replacement,\n",
    "        random_insertion,\n",
    "        random_deletion,\n",
    "        random_swap,\n",
    "        noise_injection\n",
    "    ]\n",
    "    augmented_text = text\n",
    "    for i in range(num_augmentations):\n",
    "        func = random.choice(augmentations)\n",
    "        if func == back_translation:\n",
    "            augmented_text = func(augmented_text)\n",
    "        else:\n",
    "            augmented_text = func(augmented_text, 2)\n",
    "    return augmented_text\n",
    "\n",
    "# Perform text augmentation pipeline\n",
    "augmented_text = augment_text(text)\n",
    "print(\"Final Augmented Text:\\n\", augmented_text)"
   ]
  }
 ],
 "metadata": {
  "kernelspec": {
   "display_name": "py310",
   "language": "python",
   "name": "python3"
  },
  "language_info": {
   "codemirror_mode": {
    "name": "ipython",
    "version": 3
   },
   "file_extension": ".py",
   "mimetype": "text/x-python",
   "name": "python",
   "nbconvert_exporter": "python",
   "pygments_lexer": "ipython3",
   "version": "3.10.14"
  }
 },
 "nbformat": 4,
 "nbformat_minor": 2
}
